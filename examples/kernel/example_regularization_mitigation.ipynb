{
 "cells": [
  {
   "attachments": {},
   "cell_type": "markdown",
   "metadata": {},
   "source": [
    "This notebook demonstrates the use of regularization and depolarizing noise mitigation options for fidelity quantum kernels (FQKs) as described in http://arxiv.org/pdf/2105.02276v1"
   ]
  },
  {
   "cell_type": "code",
   "execution_count": 2,
   "metadata": {},
   "outputs": [],
   "source": [
    "import numpy as np\n",
    "import matplotlib.pyplot as plt\n",
    "\n",
    "from squlearn.feature_map import QEKFeatureMap\n",
    "from squlearn.kernel.matrix import FidelityKernel\n",
    "from squlearn.kernel.ml import QKRR\n",
    "from squlearn.util import Executor"
   ]
  },
  {
   "cell_type": "code",
   "execution_count": 3,
   "metadata": {},
   "outputs": [],
   "source": [
    "# generate some training and test data\n",
    "x = np.linspace(-0.8, 0.8, 20)\n",
    "x_fine = np.linspace(-0.9, 0.9, 200)\n",
    "y = np.sin(10.0 * x) * np.cos(np.exp(2 * x))"
   ]
  },
  {
   "cell_type": "code",
   "execution_count": 4,
   "metadata": {},
   "outputs": [],
   "source": [
    "# define the feature map\n",
    "num_qubits = 10\n",
    "fmap = QEKFeatureMap(num_qubits, num_features=1, num_layers=2)"
   ]
  },
  {
   "cell_type": "code",
   "execution_count": 5,
   "metadata": {},
   "outputs": [],
   "source": [
    "# initialize the feature maps variational parameters to randomly chosen values\n",
    "np.random.seed(10)\n",
    "parameters = np.random.rand(fmap.num_parameters)"
   ]
  },
  {
   "cell_type": "code",
   "execution_count": 10,
   "metadata": {},
   "outputs": [],
   "source": [
    "# Define the executor and set the desired number of shots\n",
    "executor = Executor(\"qasm_simulator\")\n",
    "executor.set_shots(1000)"
   ]
  },
  {
   "attachments": {},
   "cell_type": "markdown",
   "metadata": {},
   "source": [
    "##### Demonstrating regularization options in QKRR"
   ]
  },
  {
   "cell_type": "code",
   "execution_count": 8,
   "metadata": {},
   "outputs": [],
   "source": [
    "# Define the FQK and assign the respective parameters\n",
    "qkernel = FidelityKernel(fmap, executor=executor)\n",
    "qkernel.assign_parameters(parameters)\n",
    "\n",
    "# Set the QKRR instance and with\n",
    "qkrr_inst = QKRR(\n",
    "    quantum_kernel=qkernel, alpha=1e-1, regularize=\"thresholding\"\n",
    ")  # the alternative option would be 'tikhonov'\n",
    "qkrr_inst.fit(x.reshape(-1, 1), y)\n",
    "y_pred = qkrr_inst.predict(x_fine.reshape(-1, 1))"
   ]
  },
  {
   "cell_type": "code",
   "execution_count": 9,
   "metadata": {},
   "outputs": [
    {
     "data": {
      "text/plain": [
       "[<matplotlib.lines.Line2D at 0x1bbeba3a590>]"
      ]
     },
     "execution_count": 9,
     "metadata": {},
     "output_type": "execute_result"
    },
    {
     "data": {
      "image/png": "[encoded data removed]",
      "text/plain": [
       "<Figure size 432x288 with 1 Axes>"
      ]
     },
     "metadata": {
      "needs_background": "light"
     },
     "output_type": "display_data"
    }
   ],
   "source": [
    "# Plot the results\n",
    "plt.plot(x, y, \"x\")\n",
    "plt.plot(x_fine, y_pred)"
   ]
  },
  {
   "attachments": {},
   "cell_type": "markdown",
   "metadata": {},
   "source": [
    "##### Demonstrating depolarizing noise mitigation for fidelity quantum kernels"
   ]
  },
  {
   "cell_type": "code",
   "execution_count": 11,
   "metadata": {},
   "outputs": [
    {
     "name": "stdout",
     "output_type": "stream",
     "text": [
      "WARNING: Adavnced option. Do not use it within an squlearn.kernel.ml workflow\n"
     ]
    },
    {
     "data": {
      "text/plain": [
       "array([[ 1.00000000e+00,  9.14551910e-01,  7.13235481e-01,\n",
       "         4.40559009e-01,  2.20020591e-01,  7.73041177e-02,\n",
       "         2.11331235e-02,  3.00633358e-03,  4.96846774e-04,\n",
       "        -1.78082831e-03,  1.15588964e-03,  1.66375231e-04,\n",
       "        -4.54548095e-04, -4.71210268e-05,  3.43691760e-04,\n",
       "        -1.15716894e-04, -1.14456669e-04,  2.08201979e-05,\n",
       "         1.77348264e-04, -1.27097159e-04],\n",
       "       [ 9.14551910e-01,  1.00000000e+00,  9.09023457e-01,\n",
       "         6.99876038e-01,  4.03782341e-01,  1.95499342e-01,\n",
       "         5.59179619e-02,  1.84740819e-02,  2.28285258e-03,\n",
       "         3.35961073e-03, -2.00646719e-03, -1.43345887e-04,\n",
       "         6.88327958e-04,  3.50510139e-05, -4.88037295e-04,\n",
       "         2.43984678e-04,  1.20503345e-04, -2.31384666e-05,\n",
       "        -2.03800480e-04,  1.61586567e-04],\n",
       "       [ 7.13235481e-01,  9.09023457e-01,  1.00000000e+00,\n",
       "         8.98125188e-01,  6.51893637e-01,  3.64622998e-01,\n",
       "         1.66454734e-01,  4.51242052e-02,  9.34239140e-03,\n",
       "         8.09711951e-04,  2.56080263e-04, -1.75489571e-04,\n",
       "         8.75012101e-05,  2.25514890e-04, -2.95554311e-04,\n",
       "         9.18903536e-05,  2.50917290e-05,  1.68785451e-04,\n",
       "        -2.89733836e-04,  1.63446898e-04],\n",
       "       [ 4.40559009e-01,  6.99876038e-01,  8.98125188e-01,\n",
       "         1.00000000e+00,  8.84842018e-01,  6.43945586e-01,\n",
       "         3.47316736e-01,  1.34373494e-01,  3.26450224e-02,\n",
       "         7.93326303e-03,  1.71922979e-03,  4.26047233e-04,\n",
       "        -7.81805671e-04, -3.69057875e-04,  9.78989209e-04,\n",
       "        -4.22975956e-04, -4.83309542e-05, -2.43762035e-04,\n",
       "         6.30437041e-04, -3.67015290e-04],\n",
       "       [ 2.20020591e-01,  4.03782341e-01,  6.51893637e-01,\n",
       "         8.84842018e-01,  1.00000000e+00,  8.72827105e-01,\n",
       "         6.15215584e-01,  3.20351399e-01,  1.28305579e-01,\n",
       "         2.44642709e-02,  9.15710165e-03,  2.64701969e-04,\n",
       "         5.72412671e-04,  2.08588129e-04, -3.60139076e-04,\n",
       "         3.26815553e-05,  1.80377706e-04, -4.45522841e-05,\n",
       "        -1.23481281e-04,  9.97618940e-05],\n",
       "       [ 7.73041177e-02,  1.95499342e-01,  3.64622998e-01,\n",
       "         6.43945586e-01,  8.72827105e-01,  1.00000000e+00,\n",
       "         8.76170241e-01,  6.10791093e-01,  3.08604437e-01,\n",
       "         1.20635121e-01,  2.19775006e-02,  6.09870143e-03,\n",
       "        -1.46409613e-04, -1.47698726e-04, -2.34112620e-04,\n",
       "         3.75944756e-04, -1.93775718e-04,  2.39983137e-04,\n",
       "        -3.18256388e-04,  1.79277118e-04],\n",
       "       [ 2.11331235e-02,  5.59179619e-02,  1.66454734e-01,\n",
       "         3.47316736e-01,  6.15215584e-01,  8.76170241e-01,\n",
       "         1.00000000e+00,  8.64036991e-01,  5.91094693e-01,\n",
       "         3.15389497e-01,  1.15985937e-01,  1.99868144e-02,\n",
       "         8.83231289e-06,  1.21453222e-04, -2.56668148e-04,\n",
       "         3.33635903e-04, -2.99965496e-04,  2.10688640e-04,\n",
       "        -7.42842907e-05,  5.89485337e-06],\n",
       "       [ 3.00633358e-03,  1.84740819e-02,  4.51242052e-02,\n",
       "         1.34373494e-01,  3.20351399e-01,  6.10791093e-01,\n",
       "         8.64036991e-01,  1.00000000e+00,  8.60443240e-01,\n",
       "         6.04265701e-01,  2.83094231e-01,  9.07652885e-02,\n",
       "         2.02635659e-02,  2.14154471e-03,  2.05694688e-05,\n",
       "        -8.60623375e-04,  4.79292114e-04, -1.15694454e-04,\n",
       "         1.89373027e-04,  8.59467419e-04],\n",
       "       [ 4.96846774e-04,  2.28285258e-03,  9.34239140e-03,\n",
       "         3.26450224e-02,  1.28305579e-01,  3.08604437e-01,\n",
       "         5.91094693e-01,  8.60443240e-01,  1.00000000e+00,\n",
       "         8.79888663e-01,  5.94814943e-01,  2.64363854e-01,\n",
       "         9.99447688e-02,  1.78928245e-02,  5.03831679e-03,\n",
       "         5.48924709e-04,  6.97528749e-04, -1.27823550e-03,\n",
       "         9.17054329e-04, -2.40469449e-04],\n",
       "       [-1.78082831e-03,  3.35961073e-03,  8.09711951e-04,\n",
       "         7.93326303e-03,  2.44642709e-02,  1.20635121e-01,\n",
       "         3.15389497e-01,  6.04265701e-01,  8.79888663e-01,\n",
       "         1.00000000e+00,  8.62948096e-01,  5.75762456e-01,\n",
       "         2.90914855e-01,  8.66066961e-02,  1.94726207e-02,\n",
       "         3.69133511e-03,  5.48646924e-04,  1.67203847e-03,\n",
       "        -1.32483046e-03,  4.83487806e-04],\n",
       "       [ 1.15588964e-03, -2.00646719e-03,  2.56080263e-04,\n",
       "         1.71922979e-03,  9.15710165e-03,  2.19775006e-02,\n",
       "         1.15985937e-01,  2.83094231e-01,  5.94814943e-01,\n",
       "         8.62948096e-01,  1.00000000e+00,  8.61562823e-01,\n",
       "         5.76724822e-01,  2.62545546e-01,  8.27249326e-02,\n",
       "         2.64060887e-02,  4.02201164e-03,  4.29152751e-04,\n",
       "        -2.11883285e-04, -7.29044803e-06],\n",
       "       [ 1.66375231e-04, -1.43345887e-04, -1.75489571e-04,\n",
       "         4.26047233e-04,  2.64701969e-04,  6.09870143e-03,\n",
       "         1.99868144e-02,  9.07652885e-02,  2.64363854e-01,\n",
       "         5.75762456e-01,  8.61562823e-01,  1.00000000e+00,\n",
       "         8.61995857e-01,  5.59851506e-01,  2.65716009e-01,\n",
       "         9.73449868e-02,  2.20783895e-02,  4.20806234e-03,\n",
       "         1.29815686e-03,  6.06470745e-04],\n",
       "       [-4.54548095e-04,  6.88327958e-04,  8.75012101e-05,\n",
       "        -7.81805671e-04,  5.72412671e-04, -1.46409613e-04,\n",
       "         8.83231289e-06,  2.02635659e-02,  9.99447688e-02,\n",
       "         2.90914855e-01,  5.76724822e-01,  8.61995857e-01,\n",
       "         1.00000000e+00,  8.63205286e-01,  5.60352139e-01,\n",
       "         2.75032035e-01,  1.00620975e-01,  2.70869011e-02,\n",
       "         6.52289593e-03,  2.83696436e-03],\n",
       "       [-4.71210268e-05,  3.50510139e-05,  2.25514890e-04,\n",
       "        -3.69057875e-04,  2.08588129e-04, -1.47698726e-04,\n",
       "         1.21453222e-04,  2.14154471e-03,  1.78928245e-02,\n",
       "         8.66066961e-02,  2.62545546e-01,  5.59851506e-01,\n",
       "         8.63205286e-01,  1.00000000e+00,  8.61773685e-01,\n",
       "         5.72819295e-01,  2.90480607e-01,  9.76288234e-02,\n",
       "         1.52900102e-02,  5.18236930e-03],\n",
       "       [ 3.43691760e-04, -4.88037295e-04, -2.95554311e-04,\n",
       "         9.78989209e-04, -3.60139076e-04, -2.34112620e-04,\n",
       "        -2.56668148e-04,  2.05694688e-05,  5.03831679e-03,\n",
       "         1.94726207e-02,  8.27249326e-02,  2.65716009e-01,\n",
       "         5.60352139e-01,  8.61773685e-01,  1.00000000e+00,\n",
       "         8.57804943e-01,  5.60901926e-01,  2.86829598e-01,\n",
       "         8.15725670e-02,  3.11925076e-02],\n",
       "       [-1.15716894e-04,  2.43984678e-04,  9.18903536e-05,\n",
       "        -4.22975956e-04,  3.26815553e-05,  3.75944756e-04,\n",
       "         3.33635903e-04, -8.60623375e-04,  5.48924709e-04,\n",
       "         3.69133511e-03,  2.64060887e-02,  9.73449868e-02,\n",
       "         2.75032035e-01,  5.72819295e-01,  8.57804943e-01,\n",
       "         1.00000000e+00,  8.59135403e-01,  5.60727900e-01,\n",
       "         2.93097310e-01,  1.04107829e-01],\n",
       "       [-1.14456669e-04,  1.20503345e-04,  2.50917290e-05,\n",
       "        -4.83309542e-05,  1.80377706e-04, -1.93775718e-04,\n",
       "        -2.99965496e-04,  4.79292114e-04,  6.97528749e-04,\n",
       "         5.48646924e-04,  4.02201164e-03,  2.20783895e-02,\n",
       "         1.00620975e-01,  2.90480607e-01,  5.60901926e-01,\n",
       "         8.59135403e-01,  1.00000000e+00,  8.70991403e-01,\n",
       "         5.95480186e-01,  2.68811792e-01],\n",
       "       [ 2.08201979e-05, -2.31384666e-05,  1.68785451e-04,\n",
       "        -2.43762035e-04, -4.45522841e-05,  2.39983137e-04,\n",
       "         2.10688640e-04, -1.15694454e-04, -1.27823550e-03,\n",
       "         1.67203847e-03,  4.29152751e-04,  4.20806234e-03,\n",
       "         2.70869011e-02,  9.76288234e-02,  2.86829598e-01,\n",
       "         5.60727900e-01,  8.70991403e-01,  1.00000000e+00,\n",
       "         8.62014020e-01,  5.81560892e-01],\n",
       "       [ 1.77348264e-04, -2.03800480e-04, -2.89733836e-04,\n",
       "         6.30437041e-04, -1.23481281e-04, -3.18256388e-04,\n",
       "        -7.42842907e-05,  1.89373027e-04,  9.17054329e-04,\n",
       "        -1.32483046e-03, -2.11883285e-04,  1.29815686e-03,\n",
       "         6.52289593e-03,  1.52900102e-02,  8.15725670e-02,\n",
       "         2.93097310e-01,  5.95480186e-01,  8.62014020e-01,\n",
       "         1.00000000e+00,  8.87556634e-01],\n",
       "       [-1.27097159e-04,  1.61586567e-04,  1.63446898e-04,\n",
       "        -3.67015290e-04,  9.97618940e-05,  1.79277118e-04,\n",
       "         5.89485337e-06,  8.59467419e-04, -2.40469449e-04,\n",
       "         4.83487806e-04, -7.29044803e-06,  6.06470745e-04,\n",
       "         2.83696436e-03,  5.18236930e-03,  3.11925076e-02,\n",
       "         1.04107829e-01,  2.68811792e-01,  5.81560892e-01,\n",
       "         8.87556634e-01,  1.00000000e+00]])"
      ]
     },
     "execution_count": 11,
     "metadata": {},
     "output_type": "execute_result"
    }
   ],
   "source": [
    "# Set the FQK with the option of mit_depol_noise\n",
    "# Since we are using only a qasm_simulator this option is in principal useless,\n",
    "# however, in this case we demonstrate the availability of this option and it's main effect,\n",
    "# i.e. restoring ones on the diagonal\n",
    "kernel_mit = FidelityKernel(\n",
    "    fmap, executor=executor, mit_depol_noise=\"msplit\"\n",
    ")  # the alternative option would be 'mmean'\n",
    "kernel_mit.assign_parameters(parameters)\n",
    "kernel_mit.evaluate(x.reshape(-1, 1))"
   ]
  },
  {
   "cell_type": "code",
   "execution_count": 14,
   "metadata": {},
   "outputs": [
    {
     "name": "stdout",
     "output_type": "stream",
     "text": [
      "[[ 1.00329637e+00  9.01392414e-01  7.23327180e-01  4.18161078e-01\n",
      "   2.14472873e-01  8.50070940e-02  2.44408870e-02  1.50132901e-03\n",
      "   1.61748521e-03 -1.08381453e-04  2.51658149e-04 -3.87746716e-04\n",
      "   1.31444843e-04  1.02021882e-04 -4.26237241e-05 -5.01300650e-05\n",
      "   2.01349326e-05  2.03437040e-05  2.18368721e-06 -1.87531344e-05]\n",
      " [ 9.01392414e-01  1.00972530e+00  9.11101133e-01  7.00554946e-01\n",
      "   3.93947464e-01  1.85487511e-01  6.51801959e-02  1.80367278e-02\n",
      "   5.69975197e-04 -4.67140604e-04  8.99493408e-05  3.74774175e-04\n",
      "  -1.97408451e-04 -1.13729004e-04  9.75669204e-05  1.79920063e-05\n",
      "  -8.72699706e-06 -3.04289453e-05 -1.77442970e-06  2.58987256e-05]\n",
      " [ 7.23327180e-01  9.11101133e-01  1.00066721e+00  9.07545894e-01\n",
      "   6.74411848e-01  3.76637422e-01  1.49931056e-01  4.28410125e-02\n",
      "   4.80081395e-03  1.38814229e-03 -1.12378926e-03  5.76386153e-04\n",
      "  -2.36924763e-06 -1.63740493e-04 -3.57734337e-05  1.42518639e-04\n",
      "  -6.42918434e-05 -2.80269172e-06 -1.91925673e-07  7.67724815e-06]\n",
      " [ 4.18161078e-01  7.00554946e-01  9.07545894e-01  1.01152299e+00\n",
      "   8.92770087e-01  6.41733809e-01  3.67815443e-01  1.65096947e-01\n",
      "   4.32625168e-02  7.70090964e-03  1.54416357e-03 -7.77270045e-04\n",
      "   2.66747378e-04  1.85363013e-04 -5.32825407e-05 -1.44507977e-04\n",
      "   9.24317427e-05 -5.25061454e-06  2.90882043e-05  9.56126037e-04]\n",
      " [ 2.14472873e-01  3.93947464e-01  6.74411848e-01  8.92770087e-01\n",
      "   1.01114759e+00  8.86461157e-01  6.17802156e-01  3.26681188e-01\n",
      "   1.26685454e-01  3.27191990e-02  5.60809611e-03 -8.58685032e-04\n",
      "  -4.11597805e-04  4.70942218e-04  2.21874521e-05 -1.65289917e-04\n",
      "  -3.44454789e-05  1.68298517e-04 -1.43466405e-04  6.21494724e-05]\n",
      " [ 8.50070940e-02  1.85487511e-01  3.76637422e-01  6.41733809e-01\n",
      "   8.86461157e-01  1.00466692e+00  8.91034778e-01  6.04370112e-01\n",
      "   3.26904715e-01  1.12511042e-01  2.11668991e-02  6.34954859e-03\n",
      "   1.29845736e-03 -8.84615590e-04 -1.14890798e-04  5.27609688e-04\n",
      "  -2.88490350e-05 -3.54509065e-04  2.67197229e-04 -6.90056226e-05]\n",
      " [ 2.44408870e-02  6.51801959e-02  1.49931056e-01  3.67815443e-01\n",
      "   6.17802156e-01  8.91034778e-01  1.00333266e+00  8.69088783e-01\n",
      "   5.82544793e-01  2.97832590e-01  1.02757950e-01  2.48996419e-02\n",
      "   1.07276753e-03  4.15889289e-04  4.38618011e-04 -7.35217205e-04\n",
      "   1.84423940e-04  2.38905464e-04 -1.95554987e-04  3.40585422e-05]\n",
      " [ 1.50132901e-03  1.80367278e-02  4.28410125e-02  1.65096947e-01\n",
      "   3.26681188e-01  6.04370112e-01  8.69088783e-01  1.00258313e+00\n",
      "   8.72937588e-01  5.92563667e-01  2.83753487e-01  9.68486663e-02\n",
      "   2.39660768e-02  4.51006623e-03 -2.92459620e-04  7.62005014e-04\n",
      "  -4.70601044e-04  1.09259165e-04 -1.52077295e-05  2.58549318e-05]\n",
      " [ 1.61748521e-03  5.69975197e-04  4.80081395e-03  4.32625168e-02\n",
      "   1.26685454e-01  3.26904715e-01  5.82544793e-01  8.72937588e-01\n",
      "   1.00513283e+00  8.68762601e-01  5.69675191e-01  2.96810421e-01\n",
      "   9.60314962e-02  2.22581416e-02  1.17881990e-03  5.22772023e-04\n",
      "   5.21816323e-04 -1.60367862e-04  2.27005648e-05 -1.02682548e-05]\n",
      " [-1.08381453e-04 -4.67140604e-04  1.38814229e-03  7.70090964e-03\n",
      "   3.27191990e-02  1.12511042e-01  2.97832590e-01  5.92563667e-01\n",
      "   8.68762601e-01  1.01106491e+00  8.74684695e-01  5.60616778e-01\n",
      "   2.77004220e-01  1.12992611e-01  2.58870189e-02  3.07114013e-03\n",
      "  -2.38042685e-04 -1.60551403e-04  1.98903729e-04 -7.50910924e-05]\n",
      " [ 2.51658149e-04  8.99493408e-05 -1.12378926e-03  1.54416357e-03\n",
      "   5.60809611e-03  2.11668991e-02  1.02757950e-01  2.83753487e-01\n",
      "   5.69675191e-01  8.74684695e-01  1.00968998e+00  8.65635163e-01\n",
      "   5.87169063e-01  2.92638940e-01  9.54053755e-02  2.18184319e-02\n",
      "   5.21538786e-03  2.27795506e-04 -2.52245908e-04  9.12446463e-05]\n",
      " [-3.87746716e-04  3.74774175e-04  5.76386153e-04 -7.77270045e-04\n",
      "  -8.58685032e-04  6.34954859e-03  2.48996419e-02  9.68486663e-02\n",
      "   2.96810421e-01  5.60616778e-01  8.65635163e-01  1.00218842e+00\n",
      "   8.57355129e-01  5.73085630e-01  2.88841314e-01  1.02715466e-01\n",
      "   2.57128790e-02  5.82945477e-03  1.20152771e-03 -5.73793372e-05]\n",
      " [ 1.31444843e-04 -1.97408451e-04 -2.36924763e-06  2.66747378e-04\n",
      "  -4.11597805e-04  1.29845736e-03  1.07276753e-03  2.39660768e-02\n",
      "   9.60314962e-02  2.77004220e-01  5.87169063e-01  8.57355129e-01\n",
      "   1.00183664e+00  8.44468733e-01  5.41375671e-01  2.82948452e-01\n",
      "   9.45857482e-02  2.71508812e-02  3.60792847e-03  2.38804579e-03]\n",
      " [ 1.02021882e-04 -1.13729004e-04 -1.63740493e-04  1.85363013e-04\n",
      "   4.70942218e-04 -8.84615590e-04  4.15889289e-04  4.51006623e-03\n",
      "   2.22581416e-02  1.12992611e-01  2.92638940e-01  5.73085630e-01\n",
      "   8.44468733e-01  1.00722746e+00  8.76267492e-01  5.83328119e-01\n",
      "   2.72222238e-01  9.93513961e-02  2.95702365e-02  3.98032964e-03]\n",
      " [-4.26237241e-05  9.75669204e-05 -3.57734337e-05 -5.32825407e-05\n",
      "   2.21874521e-05 -1.14890798e-04  4.38618011e-04 -2.92459620e-04\n",
      "   1.17881990e-03  2.58870189e-02  9.54053755e-02  2.88841314e-01\n",
      "   5.41375671e-01  8.76267492e-01  1.00684189e+00  8.78016841e-01\n",
      "   5.68443381e-01  2.78237562e-01  1.17608244e-01  3.89662197e-02]\n",
      " [-5.01300650e-05  1.79920063e-05  1.42518639e-04 -1.44507977e-04\n",
      "  -1.65289917e-04  5.27609688e-04 -7.35217205e-04  7.62005014e-04\n",
      "   5.22772023e-04  3.07114013e-03  2.18184319e-02  1.02715466e-01\n",
      "   2.82948452e-01  5.83328119e-01  8.78016841e-01  1.00235002e+00\n",
      "   8.60953045e-01  5.55371960e-01  2.81338650e-01  1.10217603e-01]\n",
      " [ 2.01349326e-05 -8.72699706e-06 -6.42918434e-05  9.24317427e-05\n",
      "  -3.44454789e-05 -2.88490350e-05  1.84423940e-04 -4.70601044e-04\n",
      "   5.21816323e-04 -2.38042685e-04  5.21538786e-03  2.57128790e-02\n",
      "   9.45857482e-02  2.72222238e-01  5.68443381e-01  8.60953045e-01\n",
      "   1.00752174e+00  8.77778672e-01  5.78936598e-01  3.04536547e-01]\n",
      " [ 2.03437040e-05 -3.04289453e-05 -2.80269172e-06 -5.25061454e-06\n",
      "   1.68298517e-04 -3.54509065e-04  2.38905464e-04  1.09259165e-04\n",
      "  -1.60367862e-04 -1.60551403e-04  2.27795506e-04  5.82945477e-03\n",
      "   2.71508812e-02  9.93513961e-02  2.78237562e-01  5.55371960e-01\n",
      "   8.77778672e-01  1.00942272e+00  8.70257481e-01  5.82693335e-01]\n",
      " [ 2.18368721e-06 -1.77442970e-06 -1.91925673e-07  2.90882043e-05\n",
      "  -1.43466405e-04  2.67197229e-04 -1.95554987e-04 -1.52077295e-05\n",
      "   2.27005648e-05  1.98903729e-04 -2.52245908e-04  1.20152771e-03\n",
      "   3.60792847e-03  2.95702365e-02  1.17608244e-01  2.81338650e-01\n",
      "   5.78936598e-01  8.70257481e-01  1.00351645e+00  8.73964049e-01]\n",
      " [-1.87531344e-05  2.58987256e-05  7.67724815e-06  9.56126037e-04\n",
      "   6.21494724e-05 -6.90056226e-05  3.40585422e-05  2.58549318e-05\n",
      "  -1.02682548e-05 -7.50910924e-05  9.12446463e-05 -5.73793372e-05\n",
      "   2.38804579e-03  3.98032964e-03  3.89662197e-02  1.10217603e-01\n",
      "   3.04536547e-01  5.82693335e-01  8.73964049e-01  1.00030578e+00]]\n"
     ]
    }
   ],
   "source": [
    "# Compare to the kernel without this option (subtracting identiy necessary due to inherent regularization of QKRR)\n",
    "print(qkrr_inst.k_train - 1e-1 * np.eye(np.shape(qkrr_inst.k_train)[0]))"
   ]
  },
  {
   "cell_type": "code",
   "execution_count": null,
   "metadata": {},
   "outputs": [],
   "source": []
  }
 ],
 "metadata": {
  "kernelspec": {
   "display_name": "Python 3",
   "language": "python",
   "name": "python3"
  },
  "language_info": {
   "codemirror_mode": {
    "name": "ipython",
    "version": 3
   },
   "file_extension": ".py",
   "mimetype": "text/x-python",
   "name": "python",
   "nbconvert_exporter": "python",
   "pygments_lexer": "ipython3",
   "version": "3.10.10"
  },
  "orig_nbformat": 4
 },
 "nbformat": 4,
 "nbformat_minor": 2
}
