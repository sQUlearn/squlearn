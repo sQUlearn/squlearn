{
 "cells": [
  {
   "attachments": {},
   "cell_type": "markdown",
   "metadata": {},
   "source": [
    "This notebook demonstrates the use of regularization and depolarizing noise mitigation options for fidelity quantum kernels (FQKs) as described in http://arxiv.org/pdf/2105.02276v1"
   ]
  },
  {
   "cell_type": "code",
   "execution_count": 1,
   "metadata": {},
   "outputs": [],
   "source": [
    "import numpy as np\n",
    "import matplotlib.pyplot as plt\n",
    "\n",
    "from squlearn.feature_map import QEKFeatureMap\n",
    "from squlearn.kernel.matrix import FidelityKernel\n",
    "from squlearn.kernel.ml import QKRR\n",
    "from squlearn.util import Executor"
   ]
  },
  {
   "cell_type": "code",
   "execution_count": 2,
   "metadata": {},
   "outputs": [],
   "source": [
    "# generate some training and test data\n",
    "x = np.linspace(-0.8, 0.8, 20)\n",
    "x_fine = np.linspace(-0.9, 0.9, 200)\n",
    "y = np.sin(10.0 * x) * np.cos(np.exp(2 * x))"
   ]
  },
  {
   "cell_type": "code",
   "execution_count": 3,
   "metadata": {},
   "outputs": [],
   "source": [
    "# define the feature map\n",
    "num_qubits = 10\n",
    "fmap = QEKFeatureMap(num_qubits, num_features=1, num_layers=2)"
   ]
  },
  {
   "cell_type": "code",
   "execution_count": 4,
   "metadata": {},
   "outputs": [],
   "source": [
    "# Define the executor and set the desired number of shots\n",
    "executor = Executor(\"qasm_simulator\")\n",
    "executor.set_shots(1000)"
   ]
  },
  {
   "attachments": {},
   "cell_type": "markdown",
   "metadata": {},
   "source": [
    "##### Demonstrating regularization options in QKRR"
   ]
  },
  {
   "cell_type": "code",
   "execution_count": 5,
   "metadata": {},
   "outputs": [],
   "source": [
    "# Define the FQK and assign the respective parameters\n",
    "qkernel = FidelityKernel(fmap, executor=executor, parameter_seed=10)\n",
    "\n",
    "# Set the QKRR instance and with\n",
    "qkrr_inst = QKRR(\n",
    "    quantum_kernel=qkernel, alpha=1e-1, regularize=\"thresholding\"\n",
    ")  # the alternative option would be 'tikhonov'\n",
    "qkrr_inst.fit(x.reshape(-1, 1), y)\n",
    "y_pred = qkrr_inst.predict(x_fine.reshape(-1, 1))"
   ]
  },
  {
   "cell_type": "code",
   "execution_count": 6,
   "metadata": {},
   "outputs": [
    {
     "data": {
      "text/plain": [
       "[<matplotlib.lines.Line2D at 0x20115682620>]"
      ]
     },
     "execution_count": 6,
     "metadata": {},
     "output_type": "execute_result"
    },
    {
     "data": {
      "image/png": "[encoded data removed]",
      "text/plain": [
       "<Figure size 432x288 with 1 Axes>"
      ]
     },
     "metadata": {
      "needs_background": "light"
     },
     "output_type": "display_data"
    }
   ],
   "source": [
    "# Plot the results\n",
    "plt.plot(x, y, \"x\")\n",
    "plt.plot(x_fine, y_pred)"
   ]
  },
  {
   "attachments": {},
   "cell_type": "markdown",
   "metadata": {},
   "source": [
    "##### Demonstrating depolarizing noise mitigation for fidelity quantum kernels"
   ]
  },
  {
   "cell_type": "code",
   "execution_count": 7,
   "metadata": {},
   "outputs": [
    {
     "name": "stdout",
     "output_type": "stream",
     "text": [
      "WARNING: Adavnced option. Do not use it within an squlearn.kernel.ml workflow\n"
     ]
    },
    {
     "data": {
      "text/plain": [
       "array([[ 1.00000000e+00,  9.61168542e-01,  8.93707277e-01,\n",
       "         7.85617422e-01,  6.71237798e-01,  5.59936123e-01,\n",
       "         4.34546894e-01,  3.33087363e-01,  2.52289631e-01,\n",
       "         1.64601258e-01,  1.19321198e-01,  7.96983942e-02,\n",
       "         5.86362251e-02,  3.33838820e-02,  2.16779060e-02,\n",
       "         1.38774733e-02,  8.58005898e-03,  7.87668884e-04,\n",
       "         2.85622713e-04, -9.01927272e-04],\n",
       "       [ 9.61168542e-01,  1.00000000e+00,  9.61441053e-01,\n",
       "         8.76912186e-01,  8.04867325e-01,  6.77934961e-01,\n",
       "         5.57668720e-01,  4.58674143e-01,  3.46641259e-01,\n",
       "         2.70914710e-01,  1.82218093e-01,  1.25693432e-01,\n",
       "         9.53560529e-02,  5.90681081e-02,  4.29606586e-02,\n",
       "         1.65980374e-02,  8.47535697e-03,  4.85123409e-04,\n",
       "         1.86744518e-03,  2.46733104e-03],\n",
       "       [ 8.93707277e-01,  9.61441053e-01,  1.00000000e+00,\n",
       "         9.63770922e-01,  9.13886565e-01,  8.13131551e-01,\n",
       "         7.05106845e-01,  5.82404178e-01,  4.56634419e-01,\n",
       "         3.70572279e-01,  2.63242312e-01,  1.97615997e-01,\n",
       "         1.32577715e-01,  9.60138542e-02,  6.08385629e-02,\n",
       "         4.43081987e-02,  2.06278583e-02,  1.78133223e-02,\n",
       "         4.60428100e-03,  8.81328138e-04],\n",
       "       [ 7.85617422e-01,  8.76912186e-01,  9.63770922e-01,\n",
       "         1.00000000e+00,  9.61058063e-01,  9.07535051e-01,\n",
       "         8.32531628e-01,  6.90952018e-01,  5.89346897e-01,\n",
       "         4.88666381e-01,  3.73392892e-01,  2.95183496e-01,\n",
       "         2.12952891e-01,  1.39547518e-01,  9.17584790e-02,\n",
       "         7.04720735e-02,  3.51039648e-02,  2.21851303e-02,\n",
       "         1.60638176e-02,  5.95371863e-03],\n",
       "       [ 6.71237798e-01,  8.04867325e-01,  9.13886565e-01,\n",
       "         9.61058063e-01,  1.00000000e+00,  9.64096361e-01,\n",
       "         9.00876916e-01,  8.13475144e-01,  6.88976841e-01,\n",
       "         5.98514094e-01,  4.68198065e-01,  3.98038731e-01,\n",
       "         2.91195569e-01,  2.15041519e-01,  1.52259637e-01,\n",
       "         1.10531758e-01,  5.97036375e-02,  4.09160262e-02,\n",
       "         2.12696483e-02,  6.59196225e-03],\n",
       "       [ 5.59936123e-01,  6.77934961e-01,  8.13131551e-01,\n",
       "         9.07535051e-01,  9.64096361e-01,  1.00000000e+00,\n",
       "         9.65012209e-01,  9.01463648e-01,  8.10123425e-01,\n",
       "         7.19424434e-01,  5.93521111e-01,  5.19844487e-01,\n",
       "         4.01669681e-01,  3.00217235e-01,  2.14598386e-01,\n",
       "         1.57920764e-01,  9.77531596e-02,  6.07979531e-02,\n",
       "         4.49037551e-02,  3.08148064e-02],\n",
       "       [ 4.34546894e-01,  5.57668720e-01,  7.05106845e-01,\n",
       "         8.32531628e-01,  9.00876916e-01,  9.65012209e-01,\n",
       "         1.00000000e+00,  9.55872552e-01,  9.01325671e-01,\n",
       "         8.18532431e-01,  7.30490713e-01,  6.29211232e-01,\n",
       "         5.06231236e-01,  3.74973408e-01,  2.91796835e-01,\n",
       "         2.07878684e-01,  1.37304953e-01,  8.83102537e-02,\n",
       "         5.68778709e-02,  4.14581901e-02],\n",
       "       [ 3.33087363e-01,  4.58674143e-01,  5.82404178e-01,\n",
       "         6.90952018e-01,  8.13475144e-01,  9.01463648e-01,\n",
       "         9.55872552e-01,  1.00000000e+00,  9.56182372e-01,\n",
       "         9.02713682e-01,  8.22108574e-01,  7.24481721e-01,\n",
       "         6.06378488e-01,  4.80878983e-01,  3.90690077e-01,\n",
       "         2.77352909e-01,  2.01605294e-01,  1.23333476e-01,\n",
       "         8.06450303e-02,  5.62781171e-02],\n",
       "       [ 2.52289631e-01,  3.46641259e-01,  4.56634419e-01,\n",
       "         5.89346897e-01,  6.88976841e-01,  8.10123425e-01,\n",
       "         9.01325671e-01,  9.56182372e-01,  1.00000000e+00,\n",
       "         9.54401964e-01,  9.10990225e-01,  8.32903848e-01,\n",
       "         7.30925214e-01,  5.92513501e-01,  4.85810063e-01,\n",
       "         3.89987869e-01,  2.95489720e-01,  1.80717430e-01,\n",
       "         1.40948476e-01,  7.09074095e-02],\n",
       "       [ 1.64601258e-01,  2.70914710e-01,  3.70572279e-01,\n",
       "         4.88666381e-01,  5.98514094e-01,  7.19424434e-01,\n",
       "         8.18532431e-01,  9.02713682e-01,  9.54401964e-01,\n",
       "         1.00000000e+00,  9.58186689e-01,  9.01829704e-01,\n",
       "         8.36657598e-01,  7.26621663e-01,  6.08195209e-01,\n",
       "         4.72422736e-01,  3.60672496e-01,  2.38841904e-01,\n",
       "         1.68018287e-01,  1.10330220e-01],\n",
       "       [ 1.19321198e-01,  1.82218093e-01,  2.63242312e-01,\n",
       "         3.73392892e-01,  4.68198065e-01,  5.93521111e-01,\n",
       "         7.30490713e-01,  8.22108574e-01,  9.10990225e-01,\n",
       "         9.58186689e-01,  1.00000000e+00,  9.61086790e-01,\n",
       "         9.18515337e-01,  8.18965994e-01,  7.33578316e-01,\n",
       "         6.02019337e-01,  4.88648539e-01,  3.62307082e-01,\n",
       "         2.56323996e-01,  1.81252335e-01],\n",
       "       [ 7.96983942e-02,  1.25693432e-01,  1.97615997e-01,\n",
       "         2.95183496e-01,  3.98038731e-01,  5.19844487e-01,\n",
       "         6.29211232e-01,  7.24481721e-01,  8.32903848e-01,\n",
       "         9.01829704e-01,  9.61086790e-01,  1.00000000e+00,\n",
       "         9.67776439e-01,  9.08385596e-01,  8.16406069e-01,\n",
       "         7.24726198e-01,  5.90799862e-01,  4.72942753e-01,\n",
       "         3.57684696e-01,  2.51698337e-01],\n",
       "       [ 5.86362251e-02,  9.53560529e-02,  1.32577715e-01,\n",
       "         2.12952891e-01,  2.91195569e-01,  4.01669681e-01,\n",
       "         5.06231236e-01,  6.06378488e-01,  7.30925214e-01,\n",
       "         8.36657598e-01,  9.18515337e-01,  9.67776439e-01,\n",
       "         1.00000000e+00,  9.64142376e-01,  9.05343244e-01,\n",
       "         8.06591152e-01,  7.01186822e-01,  5.71230277e-01,\n",
       "         4.50227318e-01,  3.43591474e-01],\n",
       "       [ 3.33838820e-02,  5.90681081e-02,  9.60138542e-02,\n",
       "         1.39547518e-01,  2.15041519e-01,  3.00217235e-01,\n",
       "         3.74973408e-01,  4.80878983e-01,  5.92513501e-01,\n",
       "         7.26621663e-01,  8.18965994e-01,  9.08385596e-01,\n",
       "         9.64142376e-01,  1.00000000e+00,  9.64566895e-01,\n",
       "         9.05941024e-01,  8.14132535e-01,  7.01512948e-01,\n",
       "         5.66513134e-01,  4.50161090e-01],\n",
       "       [ 2.16779060e-02,  4.29606586e-02,  6.08385629e-02,\n",
       "         9.17584790e-02,  1.52259637e-01,  2.14598386e-01,\n",
       "         2.91796835e-01,  3.90690077e-01,  4.85810063e-01,\n",
       "         6.08195209e-01,  7.33578316e-01,  8.16406069e-01,\n",
       "         9.05343244e-01,  9.64566895e-01,  1.00000000e+00,\n",
       "         9.52901151e-01,  9.02745932e-01,  8.06704233e-01,\n",
       "         6.71006343e-01,  5.66787044e-01],\n",
       "       [ 1.38774733e-02,  1.65980374e-02,  4.43081987e-02,\n",
       "         7.04720735e-02,  1.10531758e-01,  1.57920764e-01,\n",
       "         2.07878684e-01,  2.77352909e-01,  3.89987869e-01,\n",
       "         4.72422736e-01,  6.02019337e-01,  7.24726198e-01,\n",
       "         8.06591152e-01,  9.05941024e-01,  9.52901151e-01,\n",
       "         1.00000000e+00,  9.69177555e-01,  9.01095180e-01,\n",
       "         7.99196463e-01,  6.62257125e-01],\n",
       "       [ 8.58005898e-03,  8.47535697e-03,  2.06278583e-02,\n",
       "         3.51039648e-02,  5.97036375e-02,  9.77531596e-02,\n",
       "         1.37304953e-01,  2.01605294e-01,  2.95489720e-01,\n",
       "         3.60672496e-01,  4.88648539e-01,  5.90799862e-01,\n",
       "         7.01186822e-01,  8.14132535e-01,  9.02745932e-01,\n",
       "         9.69177555e-01,  1.00000000e+00,  9.60483803e-01,\n",
       "         8.94422487e-01,  7.86219973e-01],\n",
       "       [ 7.87668884e-04,  4.85123409e-04,  1.78133223e-02,\n",
       "         2.21851303e-02,  4.09160262e-02,  6.07979531e-02,\n",
       "         8.83102537e-02,  1.23333476e-01,  1.80717430e-01,\n",
       "         2.38841904e-01,  3.62307082e-01,  4.72942753e-01,\n",
       "         5.71230277e-01,  7.01512948e-01,  8.06704233e-01,\n",
       "         9.01095180e-01,  9.60483803e-01,  1.00000000e+00,\n",
       "         9.65157398e-01,  9.07480270e-01],\n",
       "       [ 2.85622713e-04,  1.86744518e-03,  4.60428100e-03,\n",
       "         1.60638176e-02,  2.12696483e-02,  4.49037551e-02,\n",
       "         5.68778709e-02,  8.06450303e-02,  1.40948476e-01,\n",
       "         1.68018287e-01,  2.56323996e-01,  3.57684696e-01,\n",
       "         4.50227318e-01,  5.66513134e-01,  6.71006343e-01,\n",
       "         7.99196463e-01,  8.94422487e-01,  9.65157398e-01,\n",
       "         1.00000000e+00,  9.62443168e-01],\n",
       "       [-9.01927272e-04,  2.46733104e-03,  8.81328138e-04,\n",
       "         5.95371863e-03,  6.59196225e-03,  3.08148064e-02,\n",
       "         4.14581901e-02,  5.62781171e-02,  7.09074095e-02,\n",
       "         1.10330220e-01,  1.81252335e-01,  2.51698337e-01,\n",
       "         3.43591474e-01,  4.50161090e-01,  5.66787044e-01,\n",
       "         6.62257125e-01,  7.86219973e-01,  9.07480270e-01,\n",
       "         9.62443168e-01,  1.00000000e+00]])"
      ]
     },
     "execution_count": 7,
     "metadata": {},
     "output_type": "execute_result"
    }
   ],
   "source": [
    "# Set the FQK with the option of mit_depol_noise\n",
    "# Since we are using only a qasm_simulator this option is in principal useless,\n",
    "# however, in this case we demonstrate the availability of this option and it's main effect,\n",
    "# i.e. restoring ones on the diagonal\n",
    "kernel_mit = FidelityKernel(\n",
    "    fmap, executor=executor, mit_depol_noise=\"msplit\", parameter_seed=10\n",
    ")  # the alternative option would be 'mmean'\n",
    "kernel_mit.evaluate(x.reshape(-1, 1))"
   ]
  },
  {
   "cell_type": "code",
   "execution_count": 8,
   "metadata": {},
   "outputs": [
    {
     "name": "stdout",
     "output_type": "stream",
     "text": [
      "[[ 1.00546870e+00  9.72789983e-01  8.94910374e-01  8.16330647e-01\n",
      "   6.94952970e-01  5.59381572e-01  4.50529149e-01  3.36566336e-01\n",
      "   2.49933264e-01  1.80085342e-01  1.11590144e-01  8.99509843e-02\n",
      "   5.42663214e-02  3.34976742e-02  1.76567085e-02  5.84688185e-03\n",
      "   4.54322987e-03  2.27958707e-03  2.28572135e-03  3.44955863e-04]\n",
      " [ 9.72789983e-01  1.01015712e+00  9.71288192e-01  9.07345755e-01\n",
      "   8.15251488e-01  6.96648669e-01  5.92963128e-01  4.68662999e-01\n",
      "   3.64561054e-01  2.49531570e-01  1.75896198e-01  1.27512617e-01\n",
      "   8.66037754e-02  5.67526562e-02  3.42724975e-02  1.91304145e-02\n",
      "   1.07225675e-02  9.77799941e-03  2.85131434e-03 -1.03979200e-03]\n",
      " [ 8.94910374e-01  9.71288192e-01  1.00510607e+00  9.69586102e-01\n",
      "   9.11198913e-01  8.10299694e-01  7.21392202e-01  6.04903960e-01\n",
      "   4.92157517e-01  3.64684415e-01  2.78911259e-01  2.10781510e-01\n",
      "   1.42797566e-01  1.01626323e-01  6.53253186e-02  5.06127509e-02\n",
      "   2.14196937e-02  1.49780756e-02  8.41269270e-03 -4.44736947e-05]\n",
      " [ 8.16330647e-01  9.07345755e-01  9.69586102e-01  1.01303567e+00\n",
      "   9.72839451e-01  9.18123362e-01  8.38371575e-01  7.20830301e-01\n",
      "   6.01268347e-01  4.97809314e-01  3.76809783e-01  3.04722956e-01\n",
      "   2.29268442e-01  1.49539124e-01  1.03482082e-01  6.82633691e-02\n",
      "   3.67407831e-02  1.95525924e-02  1.00784440e-02  9.61445981e-03]\n",
      " [ 6.94952970e-01  8.15251488e-01  9.11198913e-01  9.72839451e-01\n",
      "   1.01549648e+00  9.76068231e-01  9.09212510e-01  8.41703380e-01\n",
      "   7.26354549e-01  6.02958054e-01  4.88235972e-01  3.99231076e-01\n",
      "   2.87567813e-01  2.08363306e-01  1.48480658e-01  1.04027074e-01\n",
      "   5.57599518e-02  4.53188546e-02  1.88824529e-02  1.19761812e-02]\n",
      " [ 5.59381572e-01  6.96648669e-01  8.10299694e-01  9.18123362e-01\n",
      "   9.76068231e-01  1.01166658e+00  9.82100304e-01  9.21737308e-01\n",
      "   8.28051982e-01  7.28336943e-01  6.07536303e-01  4.92713457e-01\n",
      "   3.94160399e-01  2.87754905e-01  2.14940109e-01  1.44025252e-01\n",
      "   9.96912127e-02  6.63508191e-02  3.43740013e-02  1.13166411e-02]\n",
      " [ 4.50529149e-01  5.92963128e-01  7.21392202e-01  8.38371575e-01\n",
      "   9.09212510e-01  9.82100304e-01  1.01269820e+00  9.74794337e-01\n",
      "   9.19452190e-01  8.42322359e-01  7.33538520e-01  6.11950420e-01\n",
      "   5.04240800e-01  3.87424136e-01  2.89735529e-01  2.03781285e-01\n",
      "   1.40729460e-01  9.10675963e-02  6.07801582e-02  3.79351186e-02]\n",
      " [ 3.36566336e-01  4.68662999e-01  6.04903960e-01  7.20830301e-01\n",
      "   8.41703380e-01  9.21737308e-01  9.74794337e-01  1.01269529e+00\n",
      "   9.67863649e-01  9.12027790e-01  8.36813362e-01  7.27298493e-01\n",
      "   6.09834474e-01  5.08112079e-01  3.93611006e-01  2.88617350e-01\n",
      "   1.99610410e-01  1.47525408e-01  7.66607416e-02  5.23686909e-02]\n",
      " [ 2.49933264e-01  3.64561054e-01  4.92157517e-01  6.01268347e-01\n",
      "   7.26354549e-01  8.28051982e-01  9.19452190e-01  9.67863649e-01\n",
      "   1.01044109e+00  9.76942311e-01  9.29099500e-01  8.50772281e-01\n",
      "   7.32168117e-01  6.23392099e-01  4.98192348e-01  4.04934360e-01\n",
      "   2.94895276e-01  2.05266639e-01  1.37364896e-01  8.38755435e-02]\n",
      " [ 1.80085342e-01  2.49531570e-01  3.64684415e-01  4.97809314e-01\n",
      "   6.02958054e-01  7.28336943e-01  8.42322359e-01  9.12027790e-01\n",
      "   9.76942311e-01  1.01991997e+00  9.76741140e-01  9.30874226e-01\n",
      "   8.42270340e-01  7.30567304e-01  6.15676959e-01  4.91551663e-01\n",
      "   3.74730355e-01  2.82725014e-01  1.95755346e-01  1.35198944e-01]\n",
      " [ 1.11590144e-01  1.75896198e-01  2.78911259e-01  3.76809783e-01\n",
      "   4.88235972e-01  6.07536303e-01  7.33538520e-01  8.36813362e-01\n",
      "   9.29099500e-01  9.76741140e-01  1.01485517e+00  9.75522987e-01\n",
      "   9.19687663e-01  8.38773955e-01  7.17208670e-01  6.24616107e-01\n",
      "   4.79970556e-01  3.66921858e-01  2.81724842e-01  1.92169050e-01]\n",
      " [ 8.99509843e-02  1.27512617e-01  2.10781510e-01  3.04722956e-01\n",
      "   3.99231076e-01  4.92713457e-01  6.11950420e-01  7.27298493e-01\n",
      "   8.50772281e-01  9.30874226e-01  9.75522987e-01  1.02115154e+00\n",
      "   9.80573118e-01  9.20880862e-01  8.25506121e-01  7.37721957e-01\n",
      "   5.92278527e-01  4.66112920e-01  3.41273125e-01  2.48495409e-01]\n",
      " [ 5.42663214e-02  8.66037754e-02  1.42797566e-01  2.29268442e-01\n",
      "   2.87567813e-01  3.94160399e-01  5.04240800e-01  6.09834474e-01\n",
      "   7.32168117e-01  8.42270340e-01  9.19687663e-01  9.80573118e-01\n",
      "   1.01615172e+00  9.78597741e-01  9.19318483e-01  8.29661483e-01\n",
      "   6.99767899e-01  5.86047170e-01  4.50911538e-01  3.40350120e-01]\n",
      " [ 3.34976742e-02  5.67526562e-02  1.01626323e-01  1.49539124e-01\n",
      "   2.08363306e-01  2.87754905e-01  3.87424136e-01  5.08112079e-01\n",
      "   6.23392099e-01  7.30567304e-01  8.38773955e-01  9.20880862e-01\n",
      "   9.78597741e-01  1.00324081e+00  9.72999453e-01  9.17368483e-01\n",
      "   8.12284935e-01  7.22468380e-01  5.86153838e-01  4.72134434e-01]\n",
      " [ 1.76567085e-02  3.42724975e-02  6.53253186e-02  1.03482082e-01\n",
      "   1.48480658e-01  2.14940109e-01  2.89735529e-01  3.93611006e-01\n",
      "   4.98192348e-01  6.15676959e-01  7.17208670e-01  8.25506121e-01\n",
      "   9.19318483e-01  9.72999453e-01  1.01067634e+00  9.64460739e-01\n",
      "   9.05824664e-01  8.45408263e-01  7.03334145e-01  5.84045372e-01]\n",
      " [ 5.84688185e-03  1.91304145e-02  5.06127509e-02  6.82633691e-02\n",
      "   1.04027074e-01  1.44025252e-01  2.03781285e-01  2.88617350e-01\n",
      "   4.04934360e-01  4.91551663e-01  6.24616107e-01  7.37721957e-01\n",
      "   8.29661483e-01  9.17368483e-01  9.64460739e-01  1.01018967e+00\n",
      "   9.72419057e-01  9.03401498e-01  8.20841458e-01  7.05279705e-01]\n",
      " [ 4.54322987e-03  1.07225675e-02  2.14196937e-02  3.67407831e-02\n",
      "   5.57599518e-02  9.96912127e-02  1.40729460e-01  1.99610410e-01\n",
      "   2.94895276e-01  3.74730355e-01  4.79970556e-01  5.92278527e-01\n",
      "   6.99767899e-01  8.12284935e-01  9.05824664e-01  9.72419057e-01\n",
      "   1.00619505e+00  9.62554638e-01  8.95741318e-01  7.96196536e-01]\n",
      " [ 2.27958707e-03  9.77799941e-03  1.49780756e-02  1.95525924e-02\n",
      "   4.53188546e-02  6.63508191e-02  9.10675963e-02  1.47525408e-01\n",
      "   2.05266639e-01  2.82725014e-01  3.66921858e-01  4.66112920e-01\n",
      "   5.86047170e-01  7.22468380e-01  8.45408263e-01  9.03401498e-01\n",
      "   9.62554638e-01  1.01583888e+00  9.67787464e-01  9.12253567e-01]\n",
      " [ 2.28572135e-03  2.85131434e-03  8.41269270e-03  1.00784440e-02\n",
      "   1.88824529e-02  3.43740013e-02  6.07801582e-02  7.66607416e-02\n",
      "   1.37364896e-01  1.95755346e-01  2.81724842e-01  3.41273125e-01\n",
      "   4.50911538e-01  5.86153838e-01  7.03334145e-01  8.20841458e-01\n",
      "   8.95741318e-01  9.67787464e-01  1.01202840e+00  9.76086719e-01]\n",
      " [ 3.44955863e-04 -1.03979200e-03 -4.44736947e-05  9.61445981e-03\n",
      "   1.19761812e-02  1.13166411e-02  3.79351186e-02  5.23686909e-02\n",
      "   8.38755435e-02  1.35198944e-01  1.92169050e-01  2.48495409e-01\n",
      "   3.40350120e-01  4.72134434e-01  5.84045372e-01  7.05279705e-01\n",
      "   7.96196536e-01  9.12253567e-01  9.76086719e-01  1.00444666e+00]]\n"
     ]
    }
   ],
   "source": [
    "# Compare to the kernel without this option (subtracting identiy necessary due to inherent regularization of QKRR)\n",
    "print(qkrr_inst.k_train - 1e-1 * np.eye(np.shape(qkrr_inst.k_train)[0]))"
   ]
  },
  {
   "cell_type": "code",
   "execution_count": null,
   "metadata": {},
   "outputs": [],
   "source": []
  }
 ],
 "metadata": {
  "kernelspec": {
   "display_name": "Python 3",
   "language": "python",
   "name": "python3"
  },
  "language_info": {
   "codemirror_mode": {
    "name": "ipython",
    "version": 3
   },
   "file_extension": ".py",
   "mimetype": "text/x-python",
   "name": "python",
   "nbconvert_exporter": "python",
   "pygments_lexer": "ipython3",
   "version": "3.10.2"
  },
  "orig_nbformat": 4
 },
 "nbformat": 4,
 "nbformat_minor": 2
}
