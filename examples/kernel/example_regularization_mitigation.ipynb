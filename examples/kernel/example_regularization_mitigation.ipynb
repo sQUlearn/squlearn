{
 "cells": [
  {
   "attachments": {},
   "cell_type": "markdown",
   "metadata": {},
   "source": [
    "## Example - Usage of regularization and depolarizing noise mitigation options of quantum kernels\n",
    "\n",
    "This notebook demonstrates the use of the regularization option for both FQK and PQK and shows how to use depolarizing noise mitigation options, which is only meaningful for fidelity quantum kernels. The regularization and mitigation methods are based on the theory outlined in http://arxiv.org/pdf/2105.02276v1"
   ]
  },
  {
   "cell_type": "code",
   "execution_count": 7,
   "metadata": {},
   "outputs": [],
   "source": [
    "# necessary python and sQUlearn imports\n",
    "import numpy as np\n",
    "import matplotlib.pyplot as plt\n",
    "\n",
    "from squlearn.encoding_circuit import QEKEncodingCircuit\n",
    "from squlearn.kernel import FidelityKernel\n",
    "from squlearn.kernel import QKRR\n",
    "from squlearn.util import Executor"
   ]
  },
  {
   "cell_type": "markdown",
   "metadata": {},
   "source": [
    "##### Simple artificial data generation"
   ]
  },
  {
   "cell_type": "code",
   "execution_count": 8,
   "metadata": {},
   "outputs": [],
   "source": [
    "# generate some training and test data\n",
    "x = np.linspace(-0.8, 0.8, 20)\n",
    "x_fine = np.linspace(-0.9, 0.9, 200)\n",
    "y = np.sin(10.0 * x) * np.cos(np.exp(2 * x))"
   ]
  },
  {
   "cell_type": "markdown",
   "metadata": {},
   "source": [
    "##### Define the QEK encoding circuit"
   ]
  },
  {
   "cell_type": "code",
   "execution_count": 9,
   "metadata": {},
   "outputs": [],
   "source": [
    "num_qubits = 10\n",
    "enc_circ = QEKEncodingCircuit(num_qubits, num_features=1, num_layers=2)"
   ]
  },
  {
   "cell_type": "markdown",
   "metadata": {},
   "source": [
    "##### Define the Executor\n",
    "\n",
    "<i>Note:</i> Since the effect of regularization as well as depolarizing noise mitigation techniques can only be demonstrated in the presence of noise, we perform qasm simulations in the following"
   ]
  },
  {
   "cell_type": "code",
   "execution_count": 10,
   "metadata": {},
   "outputs": [],
   "source": [
    "# Define the executor and set the desired number of shots\n",
    "executor = Executor(\"qasm_simulator\")\n",
    "executor.set_shots(1000)"
   ]
  },
  {
   "attachments": {},
   "cell_type": "markdown",
   "metadata": {},
   "source": [
    "##### Demonstrating regularization options in QKRR with FQK (takes about 30s)"
   ]
  },
  {
   "cell_type": "code",
   "execution_count": 11,
   "metadata": {},
   "outputs": [],
   "source": [
    "# Define the FQK\n",
    "qkernel = FidelityKernel(\n",
    "    enc_circ, executor=executor, parameter_seed=0, regularization=\"thresholding\"\n",
    ")\n",
    "# the alternative option would be 'tikhonov'\n",
    "\n",
    "# alternatively for PQK\n",
    "# pqk_kernel = ProjectedQuantumKernel(enc_circ, executor=executor, regularization=\"thresholding\")\n",
    "\n",
    "# Set the QKRR instance and with\n",
    "qkrr_inst = QKRR(quantum_kernel=qkernel, alpha=1e-1)\n",
    "qkrr_inst.fit(x.reshape(-1, 1), y)\n",
    "y_pred = qkrr_inst.predict(x_fine.reshape(-1, 1))"
   ]
  },
  {
   "cell_type": "code",
   "execution_count": 12,
   "metadata": {},
   "outputs": [
    {
     "data": {
      "text/plain": [
       "[<matplotlib.lines.Line2D at 0x1b44367a980>]"
      ]
     },
     "execution_count": 12,
     "metadata": {},
     "output_type": "execute_result"
    },
    {
     "data": {
      "image/png": "[encoded data removed]",
      "text/plain": [
       "<Figure size 432x288 with 1 Axes>"
      ]
     },
     "metadata": {
      "needs_background": "light"
     },
     "output_type": "display_data"
    }
   ],
   "source": [
    "# Plot the results\n",
    "plt.plot(x, y, \"x\")\n",
    "plt.plot(x_fine, y_pred)"
   ]
  },
  {
   "attachments": {},
   "cell_type": "markdown",
   "metadata": {},
   "source": [
    "##### Demonstrating depolarizing noise mitigation for fidelity quantum kernels"
   ]
  },
  {
   "cell_type": "code",
   "execution_count": 13,
   "metadata": {},
   "outputs": [
    {
     "name": "stdout",
     "output_type": "stream",
     "text": [
      "WARNING: Advanced option. Do not use it within an squlearn.kernel.ml workflow\n"
     ]
    },
    {
     "data": {
      "text/plain": [
       "array([[ 1.00000000e+00,  9.61143673e-01,  9.08228207e-01,\n",
       "         8.10475859e-01,  6.87073362e-01,  5.70997239e-01,\n",
       "         4.51257584e-01,  3.48218186e-01,  2.57185901e-01,\n",
       "         1.72890038e-01,  1.27945588e-01,  1.01862104e-01,\n",
       "         5.25913325e-02,  3.30571765e-02,  1.92995475e-02,\n",
       "         2.41893271e-03,  3.16507066e-03,  3.98385900e-03,\n",
       "         1.28856707e-03,  7.85317247e-04],\n",
       "       [ 9.61143673e-01,  1.00000000e+00,  9.60403730e-01,\n",
       "         9.03937076e-01,  8.13649122e-01,  6.78463878e-01,\n",
       "         5.77149389e-01,  4.58729648e-01,  3.43238970e-01,\n",
       "         2.58964200e-01,  1.78827157e-01,  1.34222663e-01,\n",
       "         8.53907643e-02,  6.11530394e-02,  3.39220258e-02,\n",
       "         1.95407389e-02,  8.86521492e-03,  8.87274314e-03,\n",
       "         2.36101125e-03, -4.76551731e-04],\n",
       "       [ 9.08228207e-01,  9.60403730e-01,  1.00000000e+00,\n",
       "         9.56362026e-01,  8.97129664e-01,  8.10200789e-01,\n",
       "         6.85920095e-01,  5.58516125e-01,  4.47553663e-01,\n",
       "         3.47721088e-01,  2.67697625e-01,  1.96927561e-01,\n",
       "         1.29989806e-01,  9.68273362e-02,  6.90413812e-02,\n",
       "         3.76073580e-02,  1.68923394e-02,  1.83803517e-02,\n",
       "         4.71608363e-03,  3.37859749e-03],\n",
       "       [ 8.10475859e-01,  9.03937076e-01,  9.56362026e-01,\n",
       "         1.00000000e+00,  9.52490614e-01,  8.91172594e-01,\n",
       "         7.86989247e-01,  7.07221322e-01,  5.80353803e-01,\n",
       "         4.74854423e-01,  3.63872407e-01,  2.97157598e-01,\n",
       "         2.12225952e-01,  1.55867199e-01,  1.09755196e-01,\n",
       "         7.15335800e-02,  4.34855267e-02,  2.09361244e-02,\n",
       "         1.25855678e-02,  5.91306546e-03],\n",
       "       [ 6.87073362e-01,  8.13649122e-01,  8.97129664e-01,\n",
       "         9.52490614e-01,  1.00000000e+00,  9.54169328e-01,\n",
       "         9.02064030e-01,  8.08514543e-01,  7.14022015e-01,\n",
       "         5.94623081e-01,  4.75448568e-01,  3.80047785e-01,\n",
       "         2.81950027e-01,  2.11521485e-01,  1.48247558e-01,\n",
       "         8.92871402e-02,  6.03689573e-02,  2.66966749e-02,\n",
       "         1.88275387e-02,  4.51557610e-03],\n",
       "       [ 5.70997239e-01,  6.78463878e-01,  8.10200789e-01,\n",
       "         8.91172594e-01,  9.54169328e-01,  1.00000000e+00,\n",
       "         9.60174560e-01,  8.97253882e-01,  8.19149407e-01,\n",
       "         7.27588352e-01,  6.20796510e-01,  5.04323890e-01,\n",
       "         3.90180832e-01,  2.85755423e-01,  2.06507166e-01,\n",
       "         1.33485731e-01,  8.05298790e-02,  5.92310291e-02,\n",
       "         3.48636850e-02,  2.15850763e-02],\n",
       "       [ 4.51257584e-01,  5.77149389e-01,  6.85920095e-01,\n",
       "         7.86989247e-01,  9.02064030e-01,  9.60174560e-01,\n",
       "         1.00000000e+00,  9.49595819e-01,  8.96633298e-01,\n",
       "         8.39624180e-01,  7.20516936e-01,  6.05245551e-01,\n",
       "         5.06835011e-01,  3.67082565e-01,  2.74737873e-01,\n",
       "         1.89018954e-01,  1.33582830e-01,  1.02967212e-01,\n",
       "         5.19285666e-02,  3.40375628e-02],\n",
       "       [ 3.48218186e-01,  4.58729648e-01,  5.58516125e-01,\n",
       "         7.07221322e-01,  8.08514543e-01,  8.97253882e-01,\n",
       "         9.49595819e-01,  1.00000000e+00,  9.53751767e-01,\n",
       "         9.08112565e-01,  8.22105727e-01,  7.26760273e-01,\n",
       "         6.18792890e-01,  4.81569861e-01,  3.94535636e-01,\n",
       "         2.77037527e-01,  2.08605461e-01,  1.38482602e-01,\n",
       "         8.87345345e-02,  6.21471910e-02],\n",
       "       [ 2.57185901e-01,  3.43238970e-01,  4.47553663e-01,\n",
       "         5.80353803e-01,  7.14022015e-01,  8.19149407e-01,\n",
       "         8.96633298e-01,  9.53751767e-01,  1.00000000e+00,\n",
       "         9.58466919e-01,  9.01325677e-01,  8.38373316e-01,\n",
       "         7.20678785e-01,  6.14528089e-01,  4.95638366e-01,\n",
       "         3.68534567e-01,  2.94377947e-01,  1.88387594e-01,\n",
       "         1.46750413e-01,  8.58816755e-02],\n",
       "       [ 1.72890038e-01,  2.58964200e-01,  3.47721088e-01,\n",
       "         4.74854423e-01,  5.94623081e-01,  7.27588352e-01,\n",
       "         8.39624180e-01,  9.08112565e-01,  9.58466919e-01,\n",
       "         1.00000000e+00,  9.60478360e-01,  9.11507266e-01,\n",
       "         8.34223838e-01,  7.04899436e-01,  5.92172829e-01,\n",
       "         4.61177945e-01,  3.58214783e-01,  2.78199349e-01,\n",
       "         1.79268022e-01,  1.30831396e-01],\n",
       "       [ 1.27945588e-01,  1.78827157e-01,  2.67697625e-01,\n",
       "         3.63872407e-01,  4.75448568e-01,  6.20796510e-01,\n",
       "         7.20516936e-01,  8.22105727e-01,  9.01325677e-01,\n",
       "         9.60478360e-01,  1.00000000e+00,  9.65018879e-01,\n",
       "         9.04826523e-01,  8.25004094e-01,  7.22523078e-01,\n",
       "         5.91953034e-01,  4.57715393e-01,  3.69762456e-01,\n",
       "         2.60095295e-01,  1.81789903e-01],\n",
       "       [ 1.01862104e-01,  1.34222663e-01,  1.96927561e-01,\n",
       "         2.97157598e-01,  3.80047785e-01,  5.04323890e-01,\n",
       "         6.05245551e-01,  7.26760273e-01,  8.38373316e-01,\n",
       "         9.11507266e-01,  9.65018879e-01,  1.00000000e+00,\n",
       "         9.67141145e-01,  9.12063026e-01,  8.27330274e-01,\n",
       "         7.03925138e-01,  5.84817625e-01,  4.70259994e-01,\n",
       "         3.48115031e-01,  2.59420860e-01],\n",
       "       [ 5.25913325e-02,  8.53907643e-02,  1.29989806e-01,\n",
       "         2.12225952e-01,  2.81950027e-01,  3.90180832e-01,\n",
       "         5.06835011e-01,  6.18792890e-01,  7.20678785e-01,\n",
       "         8.34223838e-01,  9.04826523e-01,  9.67141145e-01,\n",
       "         1.00000000e+00,  9.51077253e-01,  9.09624157e-01,\n",
       "         8.13836625e-01,  7.03379712e-01,  6.02782652e-01,\n",
       "         4.35772884e-01,  3.40522883e-01],\n",
       "       [ 3.30571765e-02,  6.11530394e-02,  9.68273362e-02,\n",
       "         1.55867199e-01,  2.11521485e-01,  2.85755423e-01,\n",
       "         3.67082565e-01,  4.81569861e-01,  6.14528089e-01,\n",
       "         7.04899436e-01,  8.25004094e-01,  9.12063026e-01,\n",
       "         9.51077253e-01,  1.00000000e+00,  9.62357030e-01,\n",
       "         9.10665152e-01,  8.03551478e-01,  6.93914058e-01,\n",
       "         5.75384642e-01,  4.37892835e-01],\n",
       "       [ 1.92995475e-02,  3.39220258e-02,  6.90413812e-02,\n",
       "         1.09755196e-01,  1.48247558e-01,  2.06507166e-01,\n",
       "         2.74737873e-01,  3.94535636e-01,  4.95638366e-01,\n",
       "         5.92172829e-01,  7.22523078e-01,  8.27330274e-01,\n",
       "         9.09624157e-01,  9.62357030e-01,  1.00000000e+00,\n",
       "         9.58565849e-01,  8.96334805e-01,  8.07633888e-01,\n",
       "         6.76067758e-01,  5.67663095e-01],\n",
       "       [ 2.41893271e-03,  1.95407389e-02,  3.76073580e-02,\n",
       "         7.15335800e-02,  8.92871402e-02,  1.33485731e-01,\n",
       "         1.89018954e-01,  2.77037527e-01,  3.68534567e-01,\n",
       "         4.61177945e-01,  5.91953034e-01,  7.03925138e-01,\n",
       "         8.13836625e-01,  9.10665152e-01,  9.58565849e-01,\n",
       "         1.00000000e+00,  9.58331936e-01,  9.01504058e-01,\n",
       "         8.00084658e-01,  6.61698793e-01],\n",
       "       [ 3.16507066e-03,  8.86521492e-03,  1.68923394e-02,\n",
       "         4.34855267e-02,  6.03689573e-02,  8.05298790e-02,\n",
       "         1.33582830e-01,  2.08605461e-01,  2.94377947e-01,\n",
       "         3.58214783e-01,  4.57715393e-01,  5.84817625e-01,\n",
       "         7.03379712e-01,  8.03551478e-01,  8.96334805e-01,\n",
       "         9.58331936e-01,  1.00000000e+00,  9.60341093e-01,\n",
       "         9.01174187e-01,  7.99868883e-01],\n",
       "       [ 3.98385900e-03,  8.87274314e-03,  1.83803517e-02,\n",
       "         2.09361244e-02,  2.66966749e-02,  5.92310291e-02,\n",
       "         1.02967212e-01,  1.38482602e-01,  1.88387594e-01,\n",
       "         2.78199349e-01,  3.69762456e-01,  4.70259994e-01,\n",
       "         6.02782652e-01,  6.93914058e-01,  8.07633888e-01,\n",
       "         9.01504058e-01,  9.60341093e-01,  1.00000000e+00,\n",
       "         9.50609319e-01,  8.97942042e-01],\n",
       "       [ 1.28856707e-03,  2.36101125e-03,  4.71608363e-03,\n",
       "         1.25855678e-02,  1.88275387e-02,  3.48636850e-02,\n",
       "         5.19285666e-02,  8.87345345e-02,  1.46750413e-01,\n",
       "         1.79268022e-01,  2.60095295e-01,  3.48115031e-01,\n",
       "         4.35772884e-01,  5.75384642e-01,  6.76067758e-01,\n",
       "         8.00084658e-01,  9.01174187e-01,  9.50609319e-01,\n",
       "         1.00000000e+00,  9.53667726e-01],\n",
       "       [ 7.85317247e-04, -4.76551731e-04,  3.37859749e-03,\n",
       "         5.91306546e-03,  4.51557610e-03,  2.15850763e-02,\n",
       "         3.40375628e-02,  6.21471910e-02,  8.58816755e-02,\n",
       "         1.30831396e-01,  1.81789903e-01,  2.59420860e-01,\n",
       "         3.40522883e-01,  4.37892835e-01,  5.67663095e-01,\n",
       "         6.61698793e-01,  7.99868883e-01,  8.97942042e-01,\n",
       "         9.53667726e-01,  1.00000000e+00]])"
      ]
     },
     "execution_count": 13,
     "metadata": {},
     "output_type": "execute_result"
    }
   ],
   "source": [
    "# Set the FQK with the option of mit_depol_noise\n",
    "# Since we are using only a qasm_simulator this option is in principal useless,\n",
    "# however, in this case we demonstrate the availability of this option and it's main effect,\n",
    "# i.e. restoring ones on the diagonal\n",
    "kernel_mit = FidelityKernel(\n",
    "    enc_circ, executor=executor, mit_depol_noise=\"msplit\", parameter_seed=10\n",
    ")  # the alternative option would be 'mmean'\n",
    "kernel_mit.evaluate(x.reshape(-1, 1))"
   ]
  },
  {
   "cell_type": "code",
   "execution_count": 14,
   "metadata": {},
   "outputs": [
    {
     "name": "stdout",
     "output_type": "stream",
     "text": [
      "[[ 1.00145722e+00  9.45502754e-01  8.26694590e-01  6.40809381e-01\n",
      "   4.59328695e-01  3.04667675e-01  1.95117307e-01  9.62296597e-02\n",
      "   4.55576222e-02  1.84947420e-02  7.38149027e-03  3.84209276e-03\n",
      "   1.38060932e-03 -5.22646533e-04  1.66137609e-03 -4.27682555e-04\n",
      "  -1.20931180e-04 -5.12152763e-04  6.15293986e-04 -6.50576722e-05]\n",
      " [ 9.45502754e-01  1.00785345e+00  9.54228313e-01  8.32023573e-01\n",
      "   6.43120315e-01  4.74759397e-01  3.16514562e-01  1.75212481e-01\n",
      "   9.48699582e-02  4.72439709e-02  1.75826609e-02  3.81149655e-03\n",
      "   7.70798421e-04 -5.69323365e-05 -1.48828051e-03  3.21525093e-03\n",
      "  -5.89998548e-04 -2.07778626e-04 -9.02906762e-04  5.00785273e-04]\n",
      " [ 8.26694590e-01  9.54228313e-01  1.00882354e+00  9.49592221e-01\n",
      "   8.22418867e-01  6.37860795e-01  4.57927652e-01  2.94573215e-01\n",
      "   1.68631843e-01  9.82818686e-02  4.88090167e-02  1.99964996e-02\n",
      "   8.30562769e-03  7.94800512e-03 -1.80392568e-03 -3.45844452e-03\n",
      "   1.58405613e-03  1.24484257e-03 -5.21468313e-04 -2.84307385e-04]\n",
      " [ 6.40809381e-01  8.32023573e-01  9.49592221e-01  1.01144738e+00\n",
      "   9.55308590e-01  8.37832099e-01  6.52220934e-01  4.80142408e-01\n",
      "   3.22893545e-01  1.89581111e-01  9.92958994e-02  5.06184012e-02\n",
      "   2.42615622e-02  1.02100110e-02  2.86360313e-03 -1.05457172e-03\n",
      "   9.03425559e-05  1.02578390e-03  5.42360029e-04 -6.98107787e-04]\n",
      " [ 4.59328695e-01  6.43120315e-01  8.22418867e-01  9.55308590e-01\n",
      "   1.01140024e+00  9.48008395e-01  8.18754672e-01  6.68174552e-01\n",
      "   4.97248669e-01  3.20401458e-01  1.86745616e-01  1.06402909e-01\n",
      "   4.58714120e-02  1.96432466e-02  1.31479472e-02  5.08218432e-03\n",
      "  -6.47225080e-04 -7.69891630e-04  2.13949685e-03  2.55976846e-04]\n",
      " [ 3.04667675e-01  4.74759397e-01  6.37860795e-01  8.37832099e-01\n",
      "   9.48008395e-01  1.00795179e+00  9.42700220e-01  8.43710587e-01\n",
      "   6.70705645e-01  4.82033183e-01  3.26386209e-01  1.87684811e-01\n",
      "   1.09143040e-01  5.64793483e-02  2.58394336e-02  4.63539039e-03\n",
      "   1.19112952e-03  8.13910122e-04  2.66725616e-04  4.32164376e-04]\n",
      " [ 1.95117307e-01  3.16514562e-01  4.57927652e-01  6.52220934e-01\n",
      "   8.18754672e-01  9.42700220e-01  1.00852542e+00  9.44435238e-01\n",
      "   8.27845217e-01  6.47426860e-01  5.02927029e-01  3.00855457e-01\n",
      "   1.90235995e-01  1.08550122e-01  4.70176444e-02  2.66895967e-02\n",
      "   1.09397551e-02  5.17358737e-03 -7.70867021e-04  1.28963938e-04]\n",
      " [ 9.62296597e-02  1.75212481e-01  2.94573215e-01  4.80142408e-01\n",
      "   6.68174552e-01  8.43710587e-01  9.44435238e-01  1.01360286e+00\n",
      "   9.50688515e-01  8.38992197e-01  6.71267059e-01  4.82523694e-01\n",
      "   3.17605992e-01  1.87525654e-01  1.15959714e-01  4.96668265e-02\n",
      "   2.20718400e-02  9.00931372e-03  7.33526720e-04  1.67599828e-03]\n",
      " [ 4.55576222e-02  9.48699582e-02  1.68631843e-01  3.22893545e-01\n",
      "   4.97248669e-01  6.70705645e-01  8.27845217e-01  9.50688515e-01\n",
      "   1.02300390e+00  9.53816452e-01  8.25955778e-01  6.84213577e-01\n",
      "   4.81202367e-01  2.90315231e-01  2.01157392e-01  1.17556816e-01\n",
      "   4.28684936e-02  2.16638214e-02  8.84446721e-03  2.56183684e-03]\n",
      " [ 1.84947420e-02  4.72439709e-02  9.82818686e-02  1.89581111e-01\n",
      "   3.20401458e-01  4.82033183e-01  6.47426860e-01  8.38992197e-01\n",
      "   9.53816452e-01  1.01071537e+00  9.49908669e-01  8.45142743e-01\n",
      "   6.65696625e-01  4.74936102e-01  3.32841458e-01  1.96266414e-01\n",
      "   9.64337779e-02  4.40185641e-02  1.48409374e-02  4.29277732e-03]\n",
      " [ 7.38149027e-03  1.75826609e-02  4.88090167e-02  9.92958994e-02\n",
      "   1.86745616e-01  3.26386209e-01  5.02927029e-01  6.71267059e-01\n",
      "   8.25955778e-01  9.49908669e-01  1.01686468e+00  9.48375439e-01\n",
      "   8.42152476e-01  6.69681972e-01  4.80150600e-01  3.10262773e-01\n",
      "   2.00812520e-01  1.09711615e-01  4.76304586e-02  1.90406718e-02]\n",
      " [ 3.84209276e-03  3.81149655e-03  1.99964996e-02  5.06184012e-02\n",
      "   1.06402909e-01  1.87684811e-01  3.00855457e-01  4.82523694e-01\n",
      "   6.84213577e-01  8.45142743e-01  9.48375439e-01  1.02236969e+00\n",
      "   9.54601133e-01  8.15828589e-01  6.59995550e-01  4.63860335e-01\n",
      "   2.96295772e-01  1.66960725e-01  9.16740647e-02  3.90507367e-02]\n",
      " [ 1.38060932e-03  7.70798421e-04  8.30562769e-03  2.42615622e-02\n",
      "   4.58714120e-02  1.09143040e-01  1.90235995e-01  3.17605992e-01\n",
      "   4.81202367e-01  6.65696625e-01  8.42152476e-01  9.54601133e-01\n",
      "   1.00722820e+00  9.55255153e-01  8.26751625e-01  6.49667521e-01\n",
      "   4.87854266e-01  3.21861700e-01  1.90089353e-01  9.22169456e-02]\n",
      " [-5.22646533e-04 -5.69323365e-05  7.94800512e-03  1.02100110e-02\n",
      "   1.96432466e-02  5.64793483e-02  1.08550122e-01  1.87525654e-01\n",
      "   2.90315231e-01  4.74936102e-01  6.69681972e-01  8.15828589e-01\n",
      "   9.55255153e-01  1.01979721e+00  9.48329545e-01  8.16901204e-01\n",
      "   6.69666750e-01  4.81694425e-01  3.39923914e-01  2.05516794e-01]\n",
      " [ 1.66137609e-03 -1.48828051e-03 -1.80392568e-03  2.86360313e-03\n",
      "   1.31479472e-02  2.58394336e-02  4.70176444e-02  1.15959714e-01\n",
      "   2.01157392e-01  3.32841458e-01  4.80150600e-01  6.59995550e-01\n",
      "   8.26751625e-01  9.48329545e-01  1.01333511e+00  9.51651182e-01\n",
      "   8.41133861e-01  6.54379314e-01  4.73038349e-01  2.90026532e-01]\n",
      " [-4.27682555e-04  3.21525093e-03 -3.45844452e-03 -1.05457172e-03\n",
      "   5.08218432e-03  4.63539039e-03  2.66895967e-02  4.96668265e-02\n",
      "   1.17556816e-01  1.96266414e-01  3.10262773e-01  4.63860335e-01\n",
      "   6.49667521e-01  8.16901204e-01  9.51651182e-01  1.01139445e+00\n",
      "   9.59206207e-01  8.37866431e-01  6.85451636e-01  4.83695188e-01]\n",
      " [-1.20931180e-04 -5.89998548e-04  1.58405613e-03  9.03425559e-05\n",
      "  -6.47225080e-04  1.19112952e-03  1.09397551e-02  2.20718400e-02\n",
      "   4.28684936e-02  9.64337779e-02  2.00812520e-01  2.96295772e-01\n",
      "   4.87854266e-01  6.69666750e-01  8.41133861e-01  9.59206207e-01\n",
      "   1.00957698e+00  9.46210645e-01  8.12657665e-01  6.17052092e-01]\n",
      " [-5.12152763e-04 -2.07778626e-04  1.24484257e-03  1.02578390e-03\n",
      "  -7.69891630e-04  8.13910122e-04  5.17358737e-03  9.00931372e-03\n",
      "   2.16638214e-02  4.40185641e-02  1.09711615e-01  1.66960725e-01\n",
      "   3.21861700e-01  4.81694425e-01  6.54379314e-01  8.37866431e-01\n",
      "   9.46210645e-01  1.00481841e+00  9.46450313e-01  8.27285787e-01]\n",
      " [ 6.15293986e-04 -9.02906762e-04 -5.21468313e-04  5.42360029e-04\n",
      "   2.13949685e-03  2.66725616e-04 -7.70867021e-04  7.33526720e-04\n",
      "   8.84446721e-03  1.48409374e-02  4.76304586e-02  9.16740647e-02\n",
      "   1.90089353e-01  3.39923914e-01  4.73038349e-01  6.85451636e-01\n",
      "   8.12657665e-01  9.46450313e-01  1.00545553e+00  9.48746007e-01]\n",
      " [-6.50576722e-05  5.00785273e-04 -2.84307385e-04 -6.98107787e-04\n",
      "   2.55976846e-04  4.32164376e-04  1.28963938e-04  1.67599828e-03\n",
      "   2.56183684e-03  4.29277732e-03  1.90406718e-02  3.90507367e-02\n",
      "   9.22169456e-02  2.05516794e-01  2.90026532e-01  4.83695188e-01\n",
      "   6.17052092e-01  8.27285787e-01  9.48746007e-01  1.00173043e+00]]\n"
     ]
    }
   ],
   "source": [
    "# Compare to the kernel without this option (subtracting identiy necessary due to inherent regularization of QKRR)\n",
    "print(qkrr_inst.k_train - 1e-1 * np.eye(np.shape(qkrr_inst.k_train)[0]))"
   ]
  }
 ],
 "metadata": {
  "kernelspec": {
   "display_name": "Python 3",
   "language": "python",
   "name": "python3"
  },
  "language_info": {
   "codemirror_mode": {
    "name": "ipython",
    "version": 3
   },
   "file_extension": ".py",
   "mimetype": "text/x-python",
   "name": "python",
   "nbconvert_exporter": "python",
   "pygments_lexer": "ipython3",
   "version": "3.10.10"
  },
  "orig_nbformat": 4
 },
 "nbformat": 4,
 "nbformat_minor": 2
}
