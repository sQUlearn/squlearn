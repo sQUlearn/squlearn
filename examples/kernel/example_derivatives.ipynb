{
 "cells": [
  {
   "cell_type": "code",
   "execution_count": 1,
   "metadata": {},
   "outputs": [],
   "source": [
    "import numpy as np\n",
    "\n",
    "from squlearn import Executor\n",
    "from squlearn.encoding_circuit import *\n",
    "from squlearn.kernel import FidelityKernel"
   ]
  },
  {
   "cell_type": "code",
   "execution_count": 6,
   "metadata": {},
   "outputs": [],
   "source": [
    "circuit1 = LayeredEncodingCircuit(2, 2)\n",
    "circuit1.Rx(\"p\")\n",
    "circuit1.Rx(\"x\")"
   ]
  },
  {
   "cell_type": "code",
   "execution_count": 15,
   "metadata": {},
   "outputs": [
    {
     "data": {
      "image/png": "[encoded data removed]",
      "text/plain": [
       "<Figure size 287.294x200.667 with 1 Axes>"
      ]
     },
     "execution_count": 15,
     "metadata": {},
     "output_type": "execute_result"
    }
   ],
   "source": [
    "circuit1.draw(\"mpl\")"
   ]
  },
  {
   "cell_type": "code",
   "execution_count": 13,
   "metadata": {},
   "outputs": [
    {
     "data": {
      "image/png": "[encoded data removed]",
      "text/plain": [
       "<Figure size 454.517x200.667 with 1 Axes>"
      ]
     },
     "execution_count": 13,
     "metadata": {},
     "output_type": "execute_result"
    }
   ],
   "source": [
    "(circuit1.compose(circuit1.inverse())).draw(\"mpl\")"
   ]
  },
  {
   "cell_type": "code",
   "execution_count": 8,
   "metadata": {},
   "outputs": [
    {
     "data": {
      "image/png": "[encoded data removed]",
      "text/plain": [
       "<Figure size 454.517x200.667 with 1 Axes>"
      ]
     },
     "execution_count": 8,
     "metadata": {},
     "output_type": "execute_result"
    }
   ],
   "source": [
    "(circuit1+circuit1.inverse()).draw(\"mpl\")"
   ]
  },
  {
   "cell_type": "markdown",
   "metadata": {},
   "source": [
    "## Testing single variable"
   ]
  },
  {
   "cell_type": "code",
   "execution_count": 3,
   "metadata": {},
   "outputs": [
    {
     "name": "stdout",
     "output_type": "stream",
     "text": [
      "Normal squlearn K == LowQNN implementation K =  True\n",
      "K_analyical = K_qnn_squlearn =  True\n",
      "dKdx_analyical = dKdx_qnn_squlearn =  True\n",
      "dKdp_analyical = dKdp_qnn_squlearn =  True\n",
      "dKdy_analyical = dKdy_qnn_squlearn =  True\n",
      "dKdxdy_analyical = dKdxdy_qnn_squlearn =  True\n"
     ]
    }
   ],
   "source": [
    "executor = Executor(\"pennylane\")\n",
    "\n",
    "N_samples_x = 7\n",
    "N_samples_y = 3\n",
    "n_dim = 1\n",
    "\n",
    "np.random.seed(42)\n",
    "x_space = np.random.rand(N_samples_x, n_dim)\n",
    "y_space = np.random.rand(N_samples_y, n_dim)\n",
    "\n",
    "circuit1 = LayeredEncodingCircuit(1, 1)\n",
    "circuit1.Ry(\"p\")\n",
    "circuit1.Rx(\"x\")\n",
    "\n",
    "fqk = FidelityKernel(circuit1, executor=executor, caching=False)\n",
    "\n",
    "p1 = 0.35\n",
    "fqk.assign_parameters([p1])\n",
    "\n",
    "\n",
    "def manual_separable_rx_kernel(x, y, p0):\n",
    "    # RxRy rotation\n",
    "    # 0.375*(1 - cos(p0))**2*cos(x0 - y0) + 0.125*(1 - cos(p0))**2*cos(x0 + y0) - 0.5*(1 - cos(p0))**2 - 1.0*cos(p0) - 0.3125*cos(x0 - y0) - 0.1875*cos(x0 + y0) - 0.03125*cos(-2*p0 + x0 + y0) + 0.125*cos(-p0 + x0 + y0) + 0.375*cos(p0 - x0 + y0) + 0.375*cos(p0 + x0 - y0) + 0.125*cos(p0 + x0 + y0) + 0.03125*cos(2*p0 - x0 + y0) + 0.03125*cos(2*p0 + x0 - y0) - 0.03125*cos(2*p0 + x0 + y0) + 1.5\n",
    "\n",
    "    return (\n",
    "        0.375 * (1 - np.cos(p0)) ** 2 * np.cos(x - y)\n",
    "        + 0.125 * (1 - np.cos(p0)) ** 2 * np.cos(x + y)\n",
    "        - 0.5 * (1 - np.cos(p0)) ** 2\n",
    "        - 1.0 * np.cos(p0)\n",
    "        - 0.3125 * np.cos(x - y)\n",
    "        - 0.1875 * np.cos(x + y)\n",
    "        - 0.03125 * np.cos(-2 * p0 + x + y)\n",
    "        + 0.125 * np.cos(-p0 + x + y)\n",
    "        + 0.375 * np.cos(p0 - x + y)\n",
    "        + 0.375 * np.cos(p0 + x - y)\n",
    "        + 0.125 * np.cos(p0 + x + y)\n",
    "        + 0.03125 * np.cos(2 * p0 - x + y)\n",
    "        + 0.03125 * np.cos(2 * p0 + x - y)\n",
    "        - 0.03125 * np.cos(2 * p0 + x + y)\n",
    "        + 1.5\n",
    "    )\n",
    "\n",
    "\n",
    "def manual_separable_rx_kernel_dKdx(x, y, p0):\n",
    "    \"\"\"\n",
    "    # RxRy rotation\n",
    "    \"\"\"\n",
    "    return -0.25 * np.sin(x - y) + 0.125 * np.sin(2 * p0 - x + y) - 0.125 * np.sin(2 * p0 + x - y)\n",
    "\n",
    "\n",
    "def manual_separable_rx_kernel_dKdp(x, y, p0):\n",
    "    return 0.5 * (1 - np.cos(x - y)) * np.sin(2 * p0)\n",
    "\n",
    "\n",
    "def manual_separable_rx_kernel_dKdy(x, y, p0):\n",
    "    return 0.25 * np.sin(x - y) - 0.125 * np.sin(2 * p0 - x + y) + 0.125 * np.sin(2 * p0 + x - y)\n",
    "\n",
    "\n",
    "def manual_separable_rx_kernel_dKdxdy(x, y, p0):\n",
    "    return (\n",
    "        0.375 * (1 - np.cos(p0)) ** 2 * np.cos(x - y)\n",
    "        + 0.125 * (1 - np.cos(p0)) ** 2 * np.cos(x + y)\n",
    "        - 0.3125 * np.cos(x - y)\n",
    "        - 0.1875 * np.cos(x + y)\n",
    "        - 0.03125 * np.cos(-2 * p0 + x + y)\n",
    "        + 0.125 * np.cos(-p0 + x + y)\n",
    "        + 0.375 * np.cos(p0 - x + y)\n",
    "        + 0.375 * np.cos(p0 + x - y)\n",
    "        + 0.125 * np.cos(p0 + x + y)\n",
    "        + 0.03125 * np.cos(2 * p0 - x + y)\n",
    "        + 0.03125 * np.cos(2 * p0 + x - y)\n",
    "        - 0.03125 * np.cos(2 * p0 + x + y)\n",
    "    )\n",
    "\n",
    "\n",
    "def matrix_manual_todo(x_array, y_array, p0, todo):\n",
    "    todo = {\n",
    "        \"K\": manual_separable_rx_kernel,\n",
    "        \"dKdx\": manual_separable_rx_kernel_dKdx,\n",
    "        \"dKdp\": manual_separable_rx_kernel_dKdp,\n",
    "        \"dKdy\": manual_separable_rx_kernel_dKdy,\n",
    "        \"dKdxdy\": manual_separable_rx_kernel_dKdxdy,\n",
    "    }[todo]\n",
    "    k_matrix = np.zeros((len(x_array), len(y_array)))\n",
    "    for i, x in enumerate(x_array):\n",
    "        for j, y in enumerate(y_array):\n",
    "            k_matrix[i, j] = todo(x[0], y[0], p0)\n",
    "    return k_matrix\n",
    "\n",
    "\n",
    "print(\n",
    "    \"Normal squlearn K == LowQNN implementation K = \",\n",
    "    np.allclose(\n",
    "        fqk.evaluate(x_space, y_space),\n",
    "        fqk.evaluate_derivatives(x_space, y_space, values=[\"K\"])[\"K\"],\n",
    "    ),\n",
    ")\n",
    "print(\n",
    "    \"K_analyical = K_qnn_squlearn = \",\n",
    "    np.allclose(matrix_manual_todo(x_space, y_space, p1, \"K\"), fqk.evaluate(x_space, y_space)),\n",
    ")\n",
    "print(\n",
    "    \"dKdx_analyical = dKdx_qnn_squlearn = \",\n",
    "    np.allclose(\n",
    "        matrix_manual_todo(x_space, y_space, p1, \"dKdx\"),\n",
    "        fqk.evaluate_derivatives(x_space, y_space, values=[\"dKdx\"])[\"dKdx\"],\n",
    "    ),\n",
    ")\n",
    "print(\n",
    "    \"dKdp_analyical = dKdp_qnn_squlearn = \",\n",
    "    np.allclose(\n",
    "        matrix_manual_todo(x_space, y_space, p1, \"dKdp\"),\n",
    "        fqk.evaluate_derivatives(x_space, y_space, values=[\"dKdp\"])[\"dKdp\"],\n",
    "    ),\n",
    ")\n",
    "print(\n",
    "    \"dKdy_analyical = dKdy_qnn_squlearn = \",\n",
    "    np.allclose(\n",
    "        matrix_manual_todo(x_space, y_space, p1, \"dKdy\"),\n",
    "        fqk.evaluate_derivatives(x_space, y_space, values=[\"dKdy\"])[\"dKdy\"],\n",
    "    ),\n",
    ")\n",
    "print(\n",
    "    \"dKdxdy_analyical = dKdxdy_qnn_squlearn = \",\n",
    "    np.allclose(\n",
    "        matrix_manual_todo(x_space, y_space, p1, \"dKdxdy\"),\n",
    "        fqk.evaluate_derivatives(x_space, y_space, values=[\"dKdxdy\"])[\"dKdxdy\"],\n",
    "    ),\n",
    ")"
   ]
  },
  {
   "cell_type": "markdown",
   "metadata": {},
   "source": [
    "# Testing multi-dimensional"
   ]
  },
  {
   "cell_type": "code",
   "execution_count": 3,
   "metadata": {},
   "outputs": [
    {
     "name": "stdout",
     "output_type": "stream",
     "text": [
      "Normal squlearn K == LowQNN implementation K =  True\n",
      "K_analyical = K_qnn_squlearn =  True\n",
      "dKdx1_analyical = dKdx_qnn_squlearn =  True\n",
      "dKdx2_analyical = dKdx_qnn_squlearn =  True\n",
      "dKdy1_analyical = dKdy_qnn_squlearn =  True\n",
      "dKdy2_analyical = dKdy_qnn_squlearn =  True\n"
     ]
    }
   ],
   "source": [
    "executor = Executor(\"pennylane\")\n",
    "\n",
    "N_samples_x = 7\n",
    "N_samples_y = 3\n",
    "n_dim = 2\n",
    "\n",
    "np.random.seed(42)\n",
    "x_space = np.random.rand(N_samples_x, n_dim)\n",
    "y_space = np.random.rand(N_samples_y, n_dim)\n",
    "\n",
    "circuit1 = LayeredEncodingCircuit(n_dim, n_dim)\n",
    "circuit1.Rx(\"p\")\n",
    "circuit1.Rx(\"x\")\n",
    "\n",
    "fqk = FidelityKernel(circuit1, executor=executor, caching=False)\n",
    "p1 = 0.45\n",
    "fqk.assign_parameters([p1, p1])\n",
    "\n",
    "\n",
    "def manual_separable_rx_kernel(x, y, p0):\n",
    "    # Rx(x0)Rx(p0) \\otimes Rx(x1)Rx(p0)\n",
    "\n",
    "    return (\n",
    "        0.25 * np.cos(x[0] - y[0])\n",
    "        + 0.25 * np.cos(x[1] - y[1])\n",
    "        + 0.125 * np.cos(x[0] - x[1] - y[0] + y[1])\n",
    "        + 0.125 * np.cos(x[0] + x[1] - y[0] - y[1])\n",
    "        + 0.25\n",
    "    )\n",
    "\n",
    "\n",
    "def manual_separable_rx_kernel_dKdx1(x, y, p0):\n",
    "    return -0.25 * (np.cos(x[1] - y[1]) + 1) * np.sin(x[0] - y[0])\n",
    "\n",
    "\n",
    "def manual_separable_rx_kernel_dKdx2(x, y, p0):\n",
    "    return -0.25 * (np.cos(x[0] - y[0]) + 1) * np.sin(x[1] - y[1])\n",
    "\n",
    "\n",
    "def manual_separable_rx_kernel_dKdy1(x, y, p0):\n",
    "    # 1.0*sin(x0/2 - y0/2)*cos(x0/2 - y0/2)*cos(x1/2 - y1/2)**2\n",
    "    return (\n",
    "        1.0\n",
    "        * np.sin(x[0] / 2 - y[0] / 2)\n",
    "        * np.cos(x[0] / 2 - y[0] / 2)\n",
    "        * np.cos(x[1] / 2 - y[1] / 2) ** 2\n",
    "    )\n",
    "\n",
    "\n",
    "def manual_separable_rx_kernel_dKdy2(x, y, p0):\n",
    "    return (\n",
    "        1.0\n",
    "        * np.sin(x[1] / 2 - y[1] / 2)\n",
    "        * np.cos(x[0] / 2 - y[0] / 2) ** 2\n",
    "        * np.cos(x[1] / 2 - y[1] / 2)\n",
    "    )\n",
    "\n",
    "\n",
    "def matrix_manual_todo(x_array, y_array, p0, todo):\n",
    "    todo = {\n",
    "        \"K\": manual_separable_rx_kernel,\n",
    "        \"dKdx1\": manual_separable_rx_kernel_dKdx1,\n",
    "        \"dKdx2\": manual_separable_rx_kernel_dKdx2,\n",
    "        \"dKdy1\": manual_separable_rx_kernel_dKdy1,\n",
    "        \"dKdy2\": manual_separable_rx_kernel_dKdy2,\n",
    "    }[todo]\n",
    "    k_matrix = np.zeros((len(x_array), len(y_array)))\n",
    "    for i, x in enumerate(x_array):\n",
    "        for j, y in enumerate(y_array):\n",
    "            k_matrix[i, j] = todo(x, y, p0)\n",
    "    return k_matrix\n",
    "\n",
    "\n",
    "print(\n",
    "    \"Normal squlearn K == LowQNN implementation K = \",\n",
    "    np.allclose(\n",
    "        fqk.evaluate(x_space, y_space),\n",
    "        fqk.evaluate_derivatives(x_space, y_space, values=[\"K\"])[\"K\"],\n",
    "    ),\n",
    ")\n",
    "print(\n",
    "    \"K_analyical = K_qnn_squlearn = \",\n",
    "    np.allclose(matrix_manual_todo(x_space, y_space, p1, \"K\"), fqk.evaluate(x_space, y_space)),\n",
    ")\n",
    "print(\n",
    "    \"dKdx1_analyical = dKdx_qnn_squlearn = \",\n",
    "    np.allclose(\n",
    "        matrix_manual_todo(x_space, y_space, p1, \"dKdx1\"),\n",
    "        fqk.evaluate_derivatives(x_space, y_space, values=[\"dKdx\"])[\"dKdx\"][0],\n",
    "    ),\n",
    ")\n",
    "print(\n",
    "    \"dKdx2_analyical = dKdx_qnn_squlearn = \",\n",
    "    np.allclose(\n",
    "        matrix_manual_todo(x_space, y_space, p1, \"dKdx2\"),\n",
    "        fqk.evaluate_derivatives(x_space, y_space, values=[\"dKdx\"])[\"dKdx\"][1],\n",
    "    ),\n",
    ")\n",
    "print(\n",
    "    \"dKdy1_analyical = dKdy_qnn_squlearn = \",\n",
    "    np.allclose(\n",
    "        matrix_manual_todo(x_space, y_space, p1, \"dKdy1\"),\n",
    "        fqk.evaluate_derivatives(x_space, y_space, values=[\"dKdy\"])[\"dKdy\"][0],\n",
    "    ),\n",
    ")\n",
    "print(\n",
    "    \"dKdy2_analyical = dKdy_qnn_squlearn = \",\n",
    "    np.allclose(\n",
    "        matrix_manual_todo(x_space, y_space, p1, \"dKdy2\"),\n",
    "        fqk.evaluate_derivatives(x_space, y_space, values=[\"dKdy\"])[\"dKdy\"][1],\n",
    "    ),\n",
    ")"
   ]
  }
 ],
 "metadata": {
  "kernelspec": {
   "display_name": ".venv",
   "language": "python",
   "name": "python3"
  },
  "language_info": {
   "codemirror_mode": {
    "name": "ipython",
    "version": 3
   },
   "file_extension": ".py",
   "mimetype": "text/x-python",
   "name": "python",
   "nbconvert_exporter": "python",
   "pygments_lexer": "ipython3",
   "version": "3.10.11"
  }
 },
 "nbformat": 4,
 "nbformat_minor": 2
}
