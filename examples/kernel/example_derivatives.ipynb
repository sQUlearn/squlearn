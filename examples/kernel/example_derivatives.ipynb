{
 "cells": [
  {
   "cell_type": "code",
   "execution_count": 1,
   "metadata": {},
   "outputs": [],
   "source": [
    "import numpy as np\n",
    "\n",
    "from squlearn import Executor\n",
    "from squlearn.encoding_circuit import *\n",
    "from squlearn.kernel import FidelityKernel"
   ]
  },
  {
   "cell_type": "markdown",
   "metadata": {},
   "source": [
    "## Testing single variable"
   ]
  },
  {
   "cell_type": "code",
   "execution_count": 2,
   "metadata": {},
   "outputs": [
    {
     "name": "stdout",
     "output_type": "stream",
     "text": [
      "Normal squlearn K == LowQNN implementation K =  True\n",
      "K_analyical = K_qnn_squlearn =  True\n",
      "dKdx_analyical = dKdx_qnn_squlearn =  True\n",
      "dKdp_analyical = dKdp_qnn_squlearn =  True\n",
      "dKdy_analyical = dKdy_qnn_squlearn =  True\n",
      "dKdxdy_analyical = dKdxdy_qnn_squlearn =  True\n"
     ]
    }
   ],
   "source": [
    "executor = Executor(\"pennylane\")\n",
    "\n",
    "N_samples_x = 7\n",
    "N_samples_y = 3\n",
    "n_dim = 1\n",
    "\n",
    "np.random.seed(42)\n",
    "x_space = np.random.rand(N_samples_x, n_dim)\n",
    "y_space = np.random.rand(N_samples_y, n_dim)\n",
    "\n",
    "circuit1 = LayeredEncodingCircuit(1, 1)\n",
    "circuit1.Ry(\"p\")\n",
    "circuit1.Rx(\"x\")\n",
    "\n",
    "fqk = FidelityKernel(circuit1, executor=executor, caching=False, use_expectation=True)\n",
    "\n",
    "p1 = 0.35\n",
    "fqk.assign_parameters([p1])\n",
    "\n",
    "\n",
    "def manual_separable_rx_kernel(x, y, p0):\n",
    "    # RxRy rotation\n",
    "    # 0.375*(1 - cos(p0))**2*cos(x0 - y0) + 0.125*(1 - cos(p0))**2*cos(x0 + y0) - 0.5*(1 - cos(p0))**2 - 1.0*cos(p0) - 0.3125*cos(x0 - y0) - 0.1875*cos(x0 + y0) - 0.03125*cos(-2*p0 + x0 + y0) + 0.125*cos(-p0 + x0 + y0) + 0.375*cos(p0 - x0 + y0) + 0.375*cos(p0 + x0 - y0) + 0.125*cos(p0 + x0 + y0) + 0.03125*cos(2*p0 - x0 + y0) + 0.03125*cos(2*p0 + x0 - y0) - 0.03125*cos(2*p0 + x0 + y0) + 1.5\n",
    "\n",
    "    return (\n",
    "        0.375 * (1 - np.cos(p0)) ** 2 * np.cos(x - y)\n",
    "        + 0.125 * (1 - np.cos(p0)) ** 2 * np.cos(x + y)\n",
    "        - 0.5 * (1 - np.cos(p0)) ** 2\n",
    "        - 1.0 * np.cos(p0)\n",
    "        - 0.3125 * np.cos(x - y)\n",
    "        - 0.1875 * np.cos(x + y)\n",
    "        - 0.03125 * np.cos(-2 * p0 + x + y)\n",
    "        + 0.125 * np.cos(-p0 + x + y)\n",
    "        + 0.375 * np.cos(p0 - x + y)\n",
    "        + 0.375 * np.cos(p0 + x - y)\n",
    "        + 0.125 * np.cos(p0 + x + y)\n",
    "        + 0.03125 * np.cos(2 * p0 - x + y)\n",
    "        + 0.03125 * np.cos(2 * p0 + x - y)\n",
    "        - 0.03125 * np.cos(2 * p0 + x + y)\n",
    "        + 1.5\n",
    "    )\n",
    "\n",
    "\n",
    "def manual_separable_rx_kernel_dKdx(x, y, p0):\n",
    "    \"\"\"\n",
    "    # RxRy rotation\n",
    "    \"\"\"\n",
    "    return -0.25 * np.sin(x - y) + 0.125 * np.sin(2 * p0 - x + y) - 0.125 * np.sin(2 * p0 + x - y)\n",
    "\n",
    "\n",
    "def manual_separable_rx_kernel_dKdp(x, y, p0):\n",
    "    return 0.5 * (1 - np.cos(x - y)) * np.sin(2 * p0)\n",
    "\n",
    "\n",
    "def manual_separable_rx_kernel_dKdy(x, y, p0):\n",
    "    return 0.25 * np.sin(x - y) - 0.125 * np.sin(2 * p0 - x + y) + 0.125 * np.sin(2 * p0 + x - y)\n",
    "\n",
    "\n",
    "def manual_separable_rx_kernel_dKdxdy(x, y, p0):\n",
    "    return (\n",
    "        0.375 * (1 - np.cos(p0)) ** 2 * np.cos(x - y)\n",
    "        + 0.125 * (1 - np.cos(p0)) ** 2 * np.cos(x + y)\n",
    "        - 0.3125 * np.cos(x - y)\n",
    "        - 0.1875 * np.cos(x + y)\n",
    "        - 0.03125 * np.cos(-2 * p0 + x + y)\n",
    "        + 0.125 * np.cos(-p0 + x + y)\n",
    "        + 0.375 * np.cos(p0 - x + y)\n",
    "        + 0.375 * np.cos(p0 + x - y)\n",
    "        + 0.125 * np.cos(p0 + x + y)\n",
    "        + 0.03125 * np.cos(2 * p0 - x + y)\n",
    "        + 0.03125 * np.cos(2 * p0 + x - y)\n",
    "        - 0.03125 * np.cos(2 * p0 + x + y)\n",
    "    )\n",
    "\n",
    "\n",
    "def matrix_manual_todo(x_array, y_array, p0, todo):\n",
    "    todo = {\n",
    "        \"K\": manual_separable_rx_kernel,\n",
    "        \"dKdx\": manual_separable_rx_kernel_dKdx,\n",
    "        \"dKdp\": manual_separable_rx_kernel_dKdp,\n",
    "        \"dKdy\": manual_separable_rx_kernel_dKdy,\n",
    "        \"dKdxdy\": manual_separable_rx_kernel_dKdxdy,\n",
    "    }[todo]\n",
    "    k_matrix = np.zeros((len(x_array), len(y_array)))\n",
    "    for i, x in enumerate(x_array):\n",
    "        for j, y in enumerate(y_array):\n",
    "            k_matrix[i, j] = todo(x[0], y[0], p0)\n",
    "    return k_matrix\n",
    "\n",
    "\n",
    "print(\n",
    "    \"Normal squlearn K == LowQNN implementation K = \",\n",
    "    np.allclose(\n",
    "        fqk.evaluate(x_space, y_space),\n",
    "        fqk.evaluate_derivatives(x_space, y_space, values=[\"K\"])[\"K\"],\n",
    "    ),\n",
    ")\n",
    "print(\n",
    "    \"K_analyical = K_qnn_squlearn = \",\n",
    "    np.allclose(matrix_manual_todo(x_space, y_space, p1, \"K\"), fqk.evaluate(x_space, y_space)),\n",
    ")\n",
    "print(\n",
    "    \"dKdx_analyical = dKdx_qnn_squlearn = \",\n",
    "    np.allclose(\n",
    "        matrix_manual_todo(x_space, y_space, p1, \"dKdx\"),\n",
    "        fqk.evaluate_derivatives(x_space, y_space, values=[\"dKdx\"])[\"dKdx\"],\n",
    "    ),\n",
    ")\n",
    "print(\n",
    "    \"dKdp_analyical = dKdp_qnn_squlearn = \",\n",
    "    np.allclose(\n",
    "        matrix_manual_todo(x_space, y_space, p1, \"dKdp\"),\n",
    "        fqk.evaluate_derivatives(x_space, y_space, values=[\"dKdp\"])[\"dKdp\"],\n",
    "    ),\n",
    ")\n",
    "print(\n",
    "    \"dKdy_analyical = dKdy_qnn_squlearn = \",\n",
    "    np.allclose(\n",
    "        matrix_manual_todo(x_space, y_space, p1, \"dKdy\"),\n",
    "        fqk.evaluate_derivatives(x_space, y_space, values=[\"dKdy\"])[\"dKdy\"],\n",
    "    ),\n",
    ")\n",
    "print(\n",
    "    \"dKdxdy_analyical = dKdxdy_qnn_squlearn = \",\n",
    "    np.allclose(\n",
    "        matrix_manual_todo(x_space, y_space, p1, \"dKdxdy\"),\n",
    "        fqk.evaluate_derivatives(x_space, y_space, values=[\"dKdxdy\"])[\"dKdxdy\"],\n",
    "    ),\n",
    ")"
   ]
  },
  {
   "cell_type": "code",
   "execution_count": 3,
   "metadata": {},
   "outputs": [
    {
     "data": {
      "text/plain": [
       "array([[0.44121055]])"
      ]
     },
     "execution_count": 3,
     "metadata": {},
     "output_type": "execute_result"
    }
   ],
   "source": [
    "x_space = np.random.rand(1, 1)\n",
    "fqk.evaluate_derivatives(x_space, x_space, values=[\"dKdxdy\"])[\"dKdxdy\"]"
   ]
  },
  {
   "cell_type": "markdown",
   "metadata": {},
   "source": [
    "# Testing multi-dimensional"
   ]
  },
  {
   "cell_type": "code",
   "execution_count": 4,
   "metadata": {},
   "outputs": [
    {
     "name": "stdout",
     "output_type": "stream",
     "text": [
      "Normal squlearn K == LowQNN implementation K =  True\n",
      "K_analyical = K_qnn_squlearn =  True\n",
      "dKdx1_analyical = dKdx_qnn_squlearn =  True\n",
      "dKdx2_analyical = dKdx_qnn_squlearn =  True\n",
      "dKdy1_analyical = dKdy_qnn_squlearn =  True\n",
      "dKdy2_analyical = dKdy_qnn_squlearn =  True\n"
     ]
    }
   ],
   "source": [
    "executor = Executor(\"pennylane\")\n",
    "\n",
    "N_samples_x = 7\n",
    "N_samples_y = 3\n",
    "n_dim = 2\n",
    "\n",
    "np.random.seed(42)\n",
    "x_space = np.random.rand(N_samples_x, n_dim)\n",
    "y_space = np.random.rand(N_samples_y, n_dim)\n",
    "\n",
    "circuit1 = LayeredEncodingCircuit(n_dim, n_dim)\n",
    "circuit1.Rx(\"p\")\n",
    "circuit1.Rx(\"x\")\n",
    "\n",
    "fqk = FidelityKernel(circuit1, executor=executor, caching=False, use_expectation=True)\n",
    "p1 = 0.45\n",
    "fqk.assign_parameters([p1, p1])\n",
    "\n",
    "\n",
    "def manual_separable_rx_kernel(x, y, p0):\n",
    "    # Rx(x0)Rx(p0) \\otimes Rx(x1)Rx(p0)\n",
    "\n",
    "    return (\n",
    "        0.25 * np.cos(x[0] - y[0])\n",
    "        + 0.25 * np.cos(x[1] - y[1])\n",
    "        + 0.125 * np.cos(x[0] - x[1] - y[0] + y[1])\n",
    "        + 0.125 * np.cos(x[0] + x[1] - y[0] - y[1])\n",
    "        + 0.25\n",
    "    )\n",
    "\n",
    "\n",
    "def manual_separable_rx_kernel_dKdx1(x, y, p0):\n",
    "    return -0.25 * (np.cos(x[1] - y[1]) + 1) * np.sin(x[0] - y[0])\n",
    "\n",
    "\n",
    "def manual_separable_rx_kernel_dKdx2(x, y, p0):\n",
    "    return -0.25 * (np.cos(x[0] - y[0]) + 1) * np.sin(x[1] - y[1])\n",
    "\n",
    "\n",
    "def manual_separable_rx_kernel_dKdy1(x, y, p0):\n",
    "    # 1.0*sin(x0/2 - y0/2)*cos(x0/2 - y0/2)*cos(x1/2 - y1/2)**2\n",
    "    return (\n",
    "        1.0\n",
    "        * np.sin(x[0] / 2 - y[0] / 2)\n",
    "        * np.cos(x[0] / 2 - y[0] / 2)\n",
    "        * np.cos(x[1] / 2 - y[1] / 2) ** 2\n",
    "    )\n",
    "\n",
    "\n",
    "def manual_separable_rx_kernel_dKdy2(x, y, p0):\n",
    "    return (\n",
    "        1.0\n",
    "        * np.sin(x[1] / 2 - y[1] / 2)\n",
    "        * np.cos(x[0] / 2 - y[0] / 2) ** 2\n",
    "        * np.cos(x[1] / 2 - y[1] / 2)\n",
    "    )\n",
    "\n",
    "\n",
    "def matrix_manual_todo(x_array, y_array, p0, todo):\n",
    "    todo = {\n",
    "        \"K\": manual_separable_rx_kernel,\n",
    "        \"dKdx1\": manual_separable_rx_kernel_dKdx1,\n",
    "        \"dKdx2\": manual_separable_rx_kernel_dKdx2,\n",
    "        \"dKdy1\": manual_separable_rx_kernel_dKdy1,\n",
    "        \"dKdy2\": manual_separable_rx_kernel_dKdy2,\n",
    "    }[todo]\n",
    "    k_matrix = np.zeros((len(x_array), len(y_array)))\n",
    "    for i, x in enumerate(x_array):\n",
    "        for j, y in enumerate(y_array):\n",
    "            k_matrix[i, j] = todo(x, y, p0)\n",
    "    return k_matrix\n",
    "\n",
    "\n",
    "print(\n",
    "    \"Normal squlearn K == LowQNN implementation K = \",\n",
    "    np.allclose(\n",
    "        fqk.evaluate(x_space, y_space),\n",
    "        fqk.evaluate_derivatives(x_space, y_space, values=[\"K\"])[\"K\"],\n",
    "    ),\n",
    ")\n",
    "print(\n",
    "    \"K_analyical = K_qnn_squlearn = \",\n",
    "    np.allclose(matrix_manual_todo(x_space, y_space, p1, \"K\"), fqk.evaluate(x_space, y_space)),\n",
    ")\n",
    "print(\n",
    "    \"dKdx1_analyical = dKdx_qnn_squlearn = \",\n",
    "    np.allclose(\n",
    "        matrix_manual_todo(x_space, y_space, p1, \"dKdx1\"),\n",
    "        fqk.evaluate_derivatives(x_space, y_space, values=[\"dKdx\"])[\"dKdx\"][0],\n",
    "    ),\n",
    ")\n",
    "print(\n",
    "    \"dKdx2_analyical = dKdx_qnn_squlearn = \",\n",
    "    np.allclose(\n",
    "        matrix_manual_todo(x_space, y_space, p1, \"dKdx2\"),\n",
    "        fqk.evaluate_derivatives(x_space, y_space, values=[\"dKdx\"])[\"dKdx\"][1],\n",
    "    ),\n",
    ")\n",
    "print(\n",
    "    \"dKdy1_analyical = dKdy_qnn_squlearn = \",\n",
    "    np.allclose(\n",
    "        matrix_manual_todo(x_space, y_space, p1, \"dKdy1\"),\n",
    "        fqk.evaluate_derivatives(x_space, y_space, values=[\"dKdy\"])[\"dKdy\"][0],\n",
    "    ),\n",
    ")\n",
    "print(\n",
    "    \"dKdy2_analyical = dKdy_qnn_squlearn = \",\n",
    "    np.allclose(\n",
    "        matrix_manual_todo(x_space, y_space, p1, \"dKdy2\"),\n",
    "        fqk.evaluate_derivatives(x_space, y_space, values=[\"dKdy\"])[\"dKdy\"][1],\n",
    "    ),\n",
    ")"
   ]
  },
  {
   "cell_type": "code",
   "execution_count": 5,
   "metadata": {},
   "outputs": [
    {
     "data": {
      "text/plain": [
       "{'x': array([[0.61185289, 0.13949386, 0.61185289, 0.13949386]]),\n",
       " 'param': [0.45, 0.45],\n",
       " 'param_op': array([0.25, 0.25, 0.25, 0.25]),\n",
       " 'dKdx': array([[[0.00000000e+00]],\n",
       " \n",
       "        [[1.38777878e-17]]])}"
      ]
     },
     "execution_count": 5,
     "metadata": {},
     "output_type": "execute_result"
    }
   ],
   "source": [
    "x_space = np.random.rand(1, 2)\n",
    "fqk.evaluate_derivatives(x_space, x_space, values=[\"dKdx\"])"
   ]
  },
  {
   "cell_type": "code",
   "execution_count": 6,
   "metadata": {},
   "outputs": [],
   "source": [
    "import numpy as np\n",
    "import sympy as sp\n",
    "from squlearn import Executor\n",
    "from squlearn.encoding_circuit import LayeredEncodingCircuit\n",
    "from squlearn.kernel.lowlevel_kernel import FidelityKernel\n",
    "\n",
    "def setup_single_variable():\n",
    "    x, y, p = sp.symbols(\"x y p\")\n",
    "    sympy_K = 0.375 * (1 - sp.cos(p)) ** 2 * sp.cos(x - y) + 0.125 * (1 - sp.cos(p)) ** 2 * sp.cos(x + y) - 0.5 * (1 - sp.cos(p)) ** 2 - 1.0 * sp.cos(p) - 0.3125 * sp.cos(x - y) - 0.1875 * sp.cos(x + y) - 0.03125 * sp.cos(-2 * p + x + y) + 0.125 * sp.cos(-p + x + y) + 0.375 * sp.cos(p - x + y) + 0.375 * sp.cos(p + x - y) + 0.125 * sp.cos(p + x + y) + 0.03125 * sp.cos(2 * p - x + y) + 0.03125 * sp.cos(2 * p + x - y) - 0.03125 * sp.cos(2 * p + x + y) + 1.5\n",
    "\n",
    "    sympy_values = {\n",
    "        \"K\": sympy_K,\n",
    "        \"dKdx\": sp.diff(sympy_K, x),\n",
    "        \"dKdy\": sp.diff(sympy_K, y),\n",
    "        \"dKdxdx\": sp.diff(sp.diff(sympy_K, x), x),\n",
    "        \"dKdp\": sp.diff(sympy_K, p),\n",
    "    }\n",
    "\n",
    "    return x, y, p, sympy_values\n",
    "\n",
    "def setup_multi_variable():\n",
    "    x0, y0, p0 = sp.symbols(\"x0 y0 p0\")\n",
    "    x1, y1, p1 = sp.symbols(\"x1 y1 p1\")\n",
    "\n",
    "    sympy_K = 0.25*sp.cos(x0 - y0) + 0.25*sp.cos(x1 - y1) + 0.125*sp.cos(x0 - x1 - y0 + y1) + 0.125*sp.cos(x0 + x1 - y0 - y1) + 0.25\n",
    "    \n",
    "    sympy_values = {\n",
    "        \"K\": sympy_K,\n",
    "        \"dKdx0\": sp.diff(sympy_K, x0),\n",
    "        \"dKdx1\": sp.diff(sympy_K, x1),\n",
    "        \"dKdy0\": sp.diff(sympy_K, y0),\n",
    "        \"dKdy1\": sp.diff(sympy_K, y1),\n",
    "        \"dKdp0\": sp.diff(sympy_K, p0),\n",
    "        \"dKdp1\": sp.diff(sympy_K, p1),\n",
    "    }\n",
    "\n",
    "    return x0, y0, x1, y1, p0, p1, sympy_values\n",
    "\n",
    "def create_fidelity_kernel(num_features, initial_parameters):\n",
    "    executor = Executor()\n",
    "    encoding_circuit = LayeredEncodingCircuit(\n",
    "        num_qubits=num_features, num_features=num_features\n",
    "    )\n",
    "\n",
    "    if num_features == 1:\n",
    "        encoding_circuit.Ry(\"p\") #For 1 feature, the FQK analytical kernel is:  Rx(x)@Ry(p)\n",
    "    elif num_features == 2:\n",
    "        encoding_circuit.Rx(\"p\") #For 2 features, the FQK analytical kernel is:  Rx(x0)@Ry(p0) x Rx(x1)@Ry(p1)\n",
    "    encoding_circuit.Rx(\"x\")\n",
    "    \n",
    "    kernel = FidelityKernel(encoding_circuit, executor=executor, caching=False, use_expectation=True, initial_parameters=initial_parameters)    \n",
    "\n",
    "    return kernel\n",
    "\n",
    "def test_single_variable_derivatives():\n",
    "    x, y, p, sympy_values = setup_single_variable()\n",
    "\n",
    "    x_num, y_num = 0.79, -0.31\n",
    "    p_num = -0.63\n",
    "\n",
    "    subs = {x: x_num, y: y_num, p: p_num}\n",
    "    sympy_num_values = {key: sympy_values[key].evalf(subs=subs) for key in sympy_values}\n",
    "\n",
    "    kernel = create_fidelity_kernel(1, [p_num])\n",
    "\n",
    "    values = kernel.evaluate_derivatives(\n",
    "        np.array([[x_num]]), np.array([[y_num]]), [\"K\", \"dKdx\", \"dKdy\", \"dKdxdx\", \"dKdp\"]\n",
    "    )\n",
    "    for key in [\"K\", \"dKdx\", \"dKdy\", \"dKdxdx\", \"dKdp\"]:\n",
    "        assert np.allclose(\n",
    "            np.array(values[key]).flatten().astype(float),\n",
    "            np.array(sympy_num_values[key]).astype(float),\n",
    "            atol=1e-7,\n",
    "        )\n",
    "    print(\"Single variable derivatives test passed.\")\n",
    "\n",
    "def test_multi_variable_derivatives():\n",
    "    x0, y0, x1, y1, p0, p1, sympy_values = setup_multi_variable()\n",
    "\n",
    "    x0_num, y0_num = 0.79, -0.31\n",
    "    x1_num, y1_num = 0.9, -1.31\n",
    "    p_num = -0.63\n",
    "\n",
    "    subs = {\n",
    "        x0: x0_num,\n",
    "        y0: y0_num,\n",
    "        x1: x1_num,\n",
    "        y1: y1_num,\n",
    "        p0: p_num,\n",
    "        p1: p_num,\n",
    "    }\n",
    "    sympy_num_values = {\n",
    "        \"K\": sympy_values[\"K\"].evalf(subs=subs),\n",
    "        \"dKdx\": [\n",
    "            sympy_values[\"dKdx0\"].evalf(subs=subs),\n",
    "            sympy_values[\"dKdx1\"].evalf(subs=subs),\n",
    "        ],\n",
    "        \"dKdy\": [\n",
    "            sympy_values[\"dKdy0\"].evalf(subs=subs),\n",
    "            sympy_values[\"dKdy1\"].evalf(subs=subs),\n",
    "        ],\n",
    "        \"dKdp\": [\n",
    "            sympy_values[\"dKdp0\"].evalf(subs=subs),\n",
    "            sympy_values[\"dKdp1\"].evalf(subs=subs),\n",
    "        ],\n",
    "    }\n",
    "\n",
    "    kernel = create_fidelity_kernel(2, [p_num, p_num])\n",
    "\n",
    "    values = kernel.evaluate_derivatives(\n",
    "        np.array([[x0_num, x1_num]]), np.array([[y0_num, y1_num]]), [\"K\", \"dKdx\", \"dKdy\", \"dKdp\"]\n",
    "    )\n",
    "\n",
    "    for key in [\"K\", \"dKdx\", \"dKdy\", \"dKdp\"]:\n",
    "        assert np.allclose(\n",
    "            np.array(values[key]).flatten().astype(float),\n",
    "            np.array(sympy_num_values[key]).astype(float),\n",
    "            atol=1e-7,\n",
    "        )\n",
    "    print(\"Multi variable derivatives test passed.\")\n",
    "\n",
    "# Run the tests\n",
    "#\n"
   ]
  },
  {
   "cell_type": "code",
   "execution_count": 7,
   "metadata": {},
   "outputs": [
    {
     "name": "stdout",
     "output_type": "stream",
     "text": [
      "Single variable derivatives test passed.\n"
     ]
    }
   ],
   "source": [
    "test_single_variable_derivatives()"
   ]
  },
  {
   "cell_type": "code",
   "execution_count": 8,
   "metadata": {},
   "outputs": [
    {
     "name": "stdout",
     "output_type": "stream",
     "text": [
      "Multi variable derivatives test passed.\n"
     ]
    }
   ],
   "source": [
    "test_multi_variable_derivatives()"
   ]
  },
  {
   "cell_type": "code",
   "execution_count": 9,
   "metadata": {},
   "outputs": [],
   "source": [
    "def process_kernel_entries(x: np.ndarray, y: np.ndarray, evaluate_duplicates: str) -> tuple:\n",
    "    def not_needed(i: int, j: int, x_i: np.ndarray, y_j: np.ndarray, symmetric: bool) -> bool:\n",
    "        \"\"\"Verifies if the kernel entry is trivial (to be set to `1.0`) or not.\n",
    "\n",
    "        Args:\n",
    "            i: Row index kernel matrix entry.\n",
    "            j: Column index kernel matrix matrix entry.\n",
    "            x_i: A sample from the dataset corresponding to the row in the kernel matrix.\n",
    "            y_j: A sample from the dataset corresponding to the column in the kernel matrix.\n",
    "            symmetric: Boolean indicating whether it is a symmetric case or not.\n",
    "\n",
    "        Returns:\n",
    "            True if value is trivial, False otherwise.\n",
    "        \"\"\"\n",
    "        # evaluate all combinations -> all are needed\n",
    "        if evaluate_duplicates == \"all\":\n",
    "            return False\n",
    "\n",
    "        # only off-diagonal entries are needed\n",
    "        if symmetric and i == j and evaluate_duplicates == \"off_diagonal\":\n",
    "            return True\n",
    "\n",
    "        # don't evaluate any duplicates\n",
    "        if np.array_equal(x_i, y_j) and evaluate_duplicates == \"none\":\n",
    "            return True\n",
    "\n",
    "        # otherwise evaluate\n",
    "        return False\n",
    "\n",
    "    is_symmetric = np.array_equal(x, y)\n",
    "    num_features = x.shape[1]\n",
    "    x_list = np.zeros((0, num_features))\n",
    "    y_list = np.zeros((0, num_features))\n",
    "\n",
    "    if is_symmetric:\n",
    "        indices = []\n",
    "        for i, x_i in enumerate(x):\n",
    "            for j, x_j in enumerate(x[i:]):\n",
    "                if not_needed(i, i + j, x_i, x_j, True):\n",
    "                    continue\n",
    "                x_list = np.vstack((x_list, x_i))\n",
    "                y_list = np.vstack((y_list, x_j))\n",
    "                indices.append((i, i + j))\n",
    "    else:\n",
    "        indices = []\n",
    "        for i, x_i in enumerate(x):\n",
    "            for j, y_j in enumerate(y):\n",
    "                if not_needed(i, j, x_i, y_j, False):\n",
    "                    continue\n",
    "                x_list = np.vstack((x_list, x_i))\n",
    "                y_list = np.vstack((y_list, y_j))\n",
    "                indices.append((i, j))\n",
    "\n",
    "    return x_list, y_list, indices"
   ]
  },
  {
   "cell_type": "code",
   "execution_count": 14,
   "metadata": {},
   "outputs": [],
   "source": [
    "N_samples_x = 3\n",
    "N_samples_y = 2\n",
    "n_dim = 2\n",
    "\n",
    "np.random.seed(42)\n",
    "x_space = np.random.rand(N_samples_x, n_dim)\n",
    "y_space = np.random.rand(N_samples_y, n_dim)\n",
    "\n",
    "\n"
   ]
  },
  {
   "cell_type": "code",
   "execution_count": null,
   "metadata": {},
   "outputs": [],
   "source": [
    "def to_FQK_circuit_format(x, y=None, evaluate_duplicates=\"all\"):\n",
    "            if y is None:\n",
    "                y = x\n",
    "                n = x.shape[0]\n",
    "                x_rep = np.repeat(x, n, axis=0)  # Repeat each row n times\n",
    "                x_tile = np.tile(x, (n, 1))  # Tile the entire array n times\n",
    "            else:\n",
    "                n = x.shape[0]\n",
    "                n2 = y.shape[0]\n",
    "                x_rep = np.repeat(x, n2, axis=0)\n",
    "                x_tile = np.tile(y, (n, 1))\n",
    "            qnn_to_evaluate = np.hstack((x_rep, x_tile))\n",
    "            gramm_indeces  = [(i, j) for i in range(n) for j in range(n2)]\n",
    "            \n",
    "            return qnn_to_evaluate, gramm_indeces"
   ]
  },
  {
   "cell_type": "code",
   "execution_count": 258,
   "metadata": {},
   "outputs": [
    {
     "data": {
      "text/plain": [
       "(array([1, 2, 2]), array([0, 0, 1]))"
      ]
     },
     "execution_count": 258,
     "metadata": {},
     "output_type": "execute_result"
    }
   ],
   "source": [
    "dummy = np.zeros((3, 3))\n",
    "lower_triangle = np.tril_indices_from(dummy, -1)\n",
    "lower_triangle"
   ]
  },
  {
   "cell_type": "code",
   "execution_count": 284,
   "metadata": {},
   "outputs": [],
   "source": [
    "#diag indices\n",
    "#\n",
    "\n",
    "#create a n by 2*m*n array, m=2 and n=3\n",
    "dummy = np.array([[1, 2, 3, 4, 5, 6, 7, 8, 9, 10, 11, 12], [13, 14, 15, 16, 17, 18, 19, 20, 21, 22, 23, 24],  [25, 26, 27, 28, 29, 30, 31, 32, 33, 34, 35, 36]])"
   ]
  },
  {
   "cell_type": "code",
   "execution_count": 290,
   "metadata": {},
   "outputs": [],
   "source": [
    "#print the main diagonal of the matrix by unravel indices \n",
    "dummy_flat = dummy.ravel()\n",
    "dummy_flat_diag_indices = np.unravel_index(np.arange(0, 3), (3, 4))"
   ]
  },
  {
   "cell_type": "code",
   "execution_count": 291,
   "metadata": {},
   "outputs": [
    {
     "data": {
      "text/plain": [
       "(array([0, 0, 0, 1, 1, 1, 2, 2, 2], dtype=int64),\n",
       " array([0, 4, 8, 0, 4, 8, 0, 4, 8], dtype=int64))"
      ]
     },
     "execution_count": 291,
     "metadata": {},
     "output_type": "execute_result"
    }
   ],
   "source": [
    "dummy_flat_indices"
   ]
  },
  {
   "cell_type": "code",
   "execution_count": 263,
   "metadata": {},
   "outputs": [
    {
     "data": {
      "text/plain": [
       "[0, 5, 10, 15]"
      ]
     },
     "execution_count": 263,
     "metadata": {},
     "output_type": "execute_result"
    }
   ],
   "source": [
    "\n",
    "\n",
    "\n"
   ]
  },
  {
   "cell_type": "code",
   "execution_count": 486,
   "metadata": {},
   "outputs": [
    {
     "name": "stdout",
     "output_type": "stream",
     "text": [
      "Lower Triangle Indices in Flattened Form: [ 4  8  9 12 13 14]\n",
      "Diagonal Elements in Flattened Form: [ 0  5 10 15]\n"
     ]
    }
   ],
   "source": [
    "import numpy as np\n",
    "\n",
    "def get_flattened_matrix_indices(n, part=\"lower\"):\n",
    "    \"\"\"\n",
    "    Returns the lower triangle indices in flattened form or the diagonal elements in the flattened form.\n",
    "\n",
    "    Parameters:\n",
    "    n (int): Size of the matrix (n x n).\n",
    "    part (str): Part of the matrix to return indices for. Options are \"lower\" for lower triangle and \"diagonal\" for diagonal elements.\n",
    "\n",
    "    Returns:\n",
    "    numpy.ndarray: Indices in flattened form.\n",
    "    \"\"\"\n",
    "    matrix = np.arange(n**2).reshape(n, n)  # Creating a sample n x n matrix\n",
    "    flat_matrix = matrix.ravel()  # Flattening the matrix\n",
    "\n",
    "    if part == \"lower\":\n",
    "        lower_tri_rows, lower_tri_cols = np.tril_indices(n, k=-1)\n",
    "        lower_tri_flat_indices = np.ravel_multi_index((lower_tri_rows, lower_tri_cols), (n, n))\n",
    "        return lower_tri_flat_indices\n",
    "    elif part == \"higher\":\n",
    "        upper_tri_rows, upper_tri_cols = np.triu_indices(n, k=1)\n",
    "        upper_tri_flat_indices = np.ravel_multi_index((upper_tri_rows, upper_tri_cols), (n, n))\n",
    "        return upper_tri_flat_indices\n",
    "    elif part == \"diagonal\" or part == \"off_diagonal\":\n",
    "        diag_indices = np.arange(0, n * (n + 1), n + 1)\n",
    "        remaining_indices = np.setdiff1d(flat_matrix, diag_indices)\n",
    "        if part == \"diagonal\":\n",
    "            return diag_indices\n",
    "        return remaining_indices\n",
    "    else:\n",
    "        raise ValueError(\"Invalid part specified. Use 'lower' or 'diagonal'.\")\n",
    "\n",
    "# Example usage:\n",
    "n = 4\n",
    "print(\"Lower Triangle Indices in Flattened Form:\", get_flattened_matrix_indices(n, part=\"lower\"))\n",
    "print(\"Diagonal Elements in Flattened Form:\", get_flattened_matrix_indices(n, part=\"diagonal\"))\n"
   ]
  },
  {
   "cell_type": "code",
   "execution_count": 499,
   "metadata": {},
   "outputs": [
    {
     "data": {
      "text/plain": [
       "array([[ 1.        , -0.81152361,  0.80190914,  0.31247741, -0.32079646],\n",
       "       [-0.81152361,  1.        , -0.98650652, -0.99987371, -0.98909978],\n",
       "       [ 0.80190914, -0.98650652,  1.        ,  0.80657841,  0.25273084],\n",
       "       [ 0.31247741, -0.99987371,  0.80657841,  1.        ,  0.76484219],\n",
       "       [-0.32079646, -0.98909978,  0.25273084,  0.76484219,  1.        ]])"
      ]
     },
     "execution_count": 499,
     "metadata": {},
     "output_type": "execute_result"
    }
   ],
   "source": [
    "def to_FQK_circuit_format(x, y=None, evaluate_duplicates=\"all\"):\n",
    "            \"\"\"\n",
    "            Transforms an input array of shape (n, m) into an array of shape (n*n, 2*m),\n",
    "            where each row consists of all possible ordered pairs of rows from the input array.\n",
    "\n",
    "            Parameters:\n",
    "            x (numpy.ndarray): An input array of shape (n, m), where n is the number of samples\n",
    "                            and m is the number of features.\n",
    "\n",
    "            y (numpy.ndarray): An optional input array of shape (n2, m), where n2 is the number of samples\n",
    "                            and m is the number of features. If None, y is set to x.\n",
    "\n",
    "            Returns:\n",
    "            numpy.ndarray: A transformed array of shape (n*n2, 2*m), containing all possible\n",
    "                        ordered pairs of rows from x.\n",
    "\n",
    "            Example:\n",
    "            --------\n",
    "            >>> x = np.array([[1],\n",
    "            ...               [2],\n",
    "            ...               [3]])\n",
    "            >>> to_FQK_circuit_format(x)\n",
    "            array([[1, 1],\n",
    "                [2, 1],\n",
    "                [3, 1],\n",
    "                [1, 2],\n",
    "                [2, 2],\n",
    "                [3, 2],\n",
    "                [1, 3],\n",
    "                [2, 3],\n",
    "                [3, 3]])\n",
    "            \"\"\"\n",
    "            if y is None:\n",
    "                y = x\n",
    "                n = x.shape[0]\n",
    "                x_rep = np.repeat(x, n, axis=0)  # Repeat each row n times\n",
    "                x_tile = np.tile(x, (n, 1))  # Tile the entire array n times\n",
    "            else:\n",
    "                n = x.shape[0]\n",
    "                n2 = y.shape[0]\n",
    "                x_rep = np.repeat(x, n2, axis=0)\n",
    "                x_tile = np.tile(y, (n, 1))\n",
    "            result = np.hstack((x_rep, x_tile))  \n",
    "\n",
    "            if evaluate_duplicates == \"off_diagonal\":\n",
    "                result = np.delete(result, get_flattened_matrix_indices(n, part=\"diagonal\"), axis=0)\n",
    "            elif evaluate_duplicates == \"none\":\n",
    "                result = np.delete(result, np.concatenate([get_flattened_matrix_indices(n, part=\"higher\"), get_flattened_matrix_indices(n, part=\"diagonal\")]), axis=0)\n",
    "            elif evaluate_duplicates == \"all\":\n",
    "                pass\n",
    "            else:\n",
    "                raise ValueError(\"Invalid evaluate_duplicates option. Use 'off_diagonal', 'none', or 'all'.\")\n",
    "            return result\n",
    "\n",
    "def evaluate_qnn(X_qnn, m_features):\n",
    "    k_flat = np.zeros(X_qnn.shape[0])\n",
    "    for i, x_ in enumerate(X_qnn):\n",
    "        x1_ = x_[:m_features]\n",
    "        x2_ = x_[m_features:]\n",
    "        norm = np.linalg.norm(x1_-x2_)\n",
    "        k_flat[i] = np.cos(norm)\n",
    "    return k_flat\n",
    "\n",
    "\n",
    "def fill_matrix_indices(k_flat, n, matrix_part):\n",
    "    \"\"\"\n",
    "    Given a flattened kernel matrix, of size n x n - n, fills the upper triangle from the lower triangle.\n",
    "    Args:\n",
    "        k_flat: Flattened kernel matrix of size n x n - n.\n",
    "        n: Number of samples in the dataset.\n",
    "\n",
    "    \"\"\"\n",
    "    # Fill the upper triangle from the lower triangle\n",
    "    k_full = np.zeros(n * n)\n",
    "\n",
    "    main_diagonal_indices = get_flattened_matrix_indices(n, part=\"diagonal\")\n",
    "    k_full[main_diagonal_indices] = 1.0  # Set diagonal elements to 1\n",
    "    if matrix_part == \"lower\":\n",
    "        lower_triangle_indices = get_flattened_matrix_indices(n, part=\"lower\")\n",
    "        k_full[lower_triangle_indices] = k_flat # Fill the lower triangle with the kernel values\n",
    "    elif matrix_part == \"diagonal\":\n",
    "        non_diagonal_indices = get_flattened_matrix_indices(n, part=\"off_diagonal\")\n",
    "        k_full[non_diagonal_indices] = k_flat\n",
    "    else:\n",
    "        raise ValueError(\"Invalid matrix_part specified. Use 'lower' or 'diagonal'.\")\n",
    "    return k_full\n",
    "\n",
    "\n",
    "def reshape_to_kernel_matrix(k_flat, n, n2, evaluate_duplicates):\n",
    "    \"\"\"\n",
    "    Reshapes the kernel values and indices to a kernel matrix.\n",
    "\n",
    "    Args:\n",
    "        values: List of kernel values.\n",
    "        indices: List of indices.\n",
    "        n: Number of samples in the first dataset.\n",
    "        n2: Number of samples in the second dataset.\n",
    "        evaluate_duplicates: String indicating which kernel values to evaluate.\n",
    "\n",
    "    Returns:\n",
    "        The kernel matrix.\n",
    "    \"\"\"\n",
    "    if evaluate_duplicates == \"off_diagonal\":\n",
    "        k_flat = fill_matrix_indices(k_flat, n, \"diagonal\")\n",
    "        k_flat = k_flat.reshape(n, n2)\n",
    "    elif evaluate_duplicates == \"none\":\n",
    "        k_flat = fill_matrix_indices(k_flat, n, \"lower\")\n",
    "        k_flat = k_flat.reshape(n, n2)\n",
    "        #make symmetric\n",
    "        k_flat = k_flat + k_flat.T - np.diag(k_flat.diagonal())\n",
    "    elif evaluate_duplicates == \"all\":\n",
    "        k_flat = k_flat.reshape(n, n2)\n",
    "    \n",
    "    return k_flat\n",
    "\n",
    "    \n",
    "x_space = np.array([[1, 0.3], [0.3, 4], [0.5, 0.7], [-0.1, 0.9],[-0.8, 0.9] ])\n",
    "evaluate_duplicates = \"all\"\n",
    "X_space = to_FQK_circuit_format(x_space, x_space, evaluate_duplicates )\n",
    "k_flat = evaluate_qnn(X_space, 2)\n",
    "reshape_to_kernel_matrix(k_flat, x_space.shape[0], x_space.shape[0], evaluate_duplicates)\n"
   ]
  },
  {
   "cell_type": "code",
   "execution_count": 500,
   "metadata": {},
   "outputs": [
    {
     "data": {
      "text/plain": [
       "(array([ 0,  5, 10, 15]),)"
      ]
     },
     "execution_count": 500,
     "metadata": {},
     "output_type": "execute_result"
    }
   ],
   "source": [
    "get_flattened_matrix_indices(n, part=\"diagonal\"),"
   ]
  },
  {
   "cell_type": "code",
   "execution_count": 501,
   "metadata": {},
   "outputs": [
    {
     "name": "stdout",
     "output_type": "stream",
     "text": [
      "(20,)\n"
     ]
    },
    {
     "data": {
      "text/plain": [
       "array([[ 1.        , -0.81152361,  0.80190914,  0.31247741, -0.32079646],\n",
       "       [-0.81152361,  1.        , -0.98650652, -0.99987371, -0.98909978],\n",
       "       [ 0.80190914, -0.98650652,  1.        ,  0.80657841,  0.25273084],\n",
       "       [ 0.31247741, -0.99987371,  0.80657841,  1.        ,  0.76484219],\n",
       "       [-0.32079646, -0.98909978,  0.25273084,  0.76484219,  1.        ]])"
      ]
     },
     "execution_count": 501,
     "metadata": {},
     "output_type": "execute_result"
    }
   ],
   "source": [
    "evaluate_duplicates = \"off_diagonal\"\n",
    "\n",
    "X_space = to_FQK_circuit_format(x_space, x_space, evaluate_duplicates )\n",
    "k_flat = evaluate_qnn(X_space, 2)\n",
    "print(k_flat.shape)\n",
    "reshape_to_kernel_matrix(k_flat, x_space.shape[0], x_space.shape[0], evaluate_duplicates)\n"
   ]
  },
  {
   "cell_type": "code",
   "execution_count": 502,
   "metadata": {},
   "outputs": [
    {
     "name": "stdout",
     "output_type": "stream",
     "text": [
      "(10,)\n"
     ]
    },
    {
     "data": {
      "text/plain": [
       "array([[ 1.        , -0.81152361,  0.80190914,  0.31247741, -0.32079646],\n",
       "       [-0.81152361,  1.        , -0.98650652, -0.99987371, -0.98909978],\n",
       "       [ 0.80190914, -0.98650652,  1.        ,  0.80657841,  0.25273084],\n",
       "       [ 0.31247741, -0.99987371,  0.80657841,  1.        ,  0.76484219],\n",
       "       [-0.32079646, -0.98909978,  0.25273084,  0.76484219,  1.        ]])"
      ]
     },
     "execution_count": 502,
     "metadata": {},
     "output_type": "execute_result"
    }
   ],
   "source": [
    "evaluate_duplicates = \"none\"\n",
    "\n",
    "X_space = to_FQK_circuit_format(x_space, x_space, evaluate_duplicates )\n",
    "k_flat = evaluate_qnn(X_space, 2)\n",
    "print(k_flat.shape)\n",
    "reshape_to_kernel_matrix(k_flat, x_space.shape[0], x_space.shape[0], evaluate_duplicates)\n"
   ]
  }
 ],
 "metadata": {
  "kernelspec": {
   "display_name": ".venv",
   "language": "python",
   "name": "python3"
  },
  "language_info": {
   "codemirror_mode": {
    "name": "ipython",
    "version": 3
   },
   "file_extension": ".py",
   "mimetype": "text/x-python",
   "name": "python",
   "nbconvert_exporter": "python",
   "pygments_lexer": "ipython3",
   "version": "3.10.11"
  }
 },
 "nbformat": 4,
 "nbformat_minor": 2
}
