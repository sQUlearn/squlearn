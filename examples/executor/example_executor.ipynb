{
 "cells": [
  {
   "cell_type": "code",
   "execution_count": 1,
   "metadata": {},
   "outputs": [],
   "source": [
    "import numpy as np\n",
    "from typing import Union\n",
    "\n",
    "from qiskit import Aer, QuantumCircuit\n",
    "from qiskit.circuit import ParameterVector\n",
    "from qiskit.utils import QuantumInstance\n",
    "from qiskit.primitives import Sampler, Estimator, BackendSampler, BackendEstimator\n",
    "from qiskit.opflow import StateFn, CircuitStateFn, PauliSumOp\n",
    "\n",
    "from squlearn.util.quantum_fisher import get_quantum_fisher\n",
    "\n",
    "from qiskit.quantum_info import SparsePauliOp\n",
    "from qiskit.circuit.random import random_circuit\n",
    "\n",
    "from squlearn.util import Executor\n",
    "\n",
    "from qiskit_ibm_runtime import QiskitRuntimeService, Session, Options\n",
    "\n",
    "from qiskit_ibm_runtime import Estimator as Estimator_runtime\n",
    "\n",
    "import logging\n",
    "\n",
    "logging.basicConfig(level=logging.INFO, filename=\"qiskit.log\", filemode=\"w\")"
   ]
  },
  {
   "cell_type": "code",
   "execution_count": 2,
   "metadata": {},
   "outputs": [
    {
     "name": "stderr",
     "output_type": "stream",
     "text": [
      "C:\\Users\\DKR\\AppData\\Local\\Temp\\ipykernel_19328\\1414278804.py:11: DeprecationWarning: The class ``qiskit.utils.quantum_instance.QuantumInstance`` is deprecated as of qiskit-terra 0.24.0. It will be removed no earlier than 3 months after the release date. For code migration guidelines, visit https://qisk.it/qi_migration.\n",
      "  QI = QuantumInstance(Aer.get_backend('qasm_simulator'),shots=1000)\n"
     ]
    }
   ],
   "source": [
    "# Generate executor from different backend / execution models:\n",
    "\n",
    "# String:\n",
    "executor = Executor(\"statevector_simulator\")\n",
    "executor = Executor(\"qasm_simulator\")\n",
    "\n",
    "# Backend:\n",
    "executor = Executor(Aer.get_backend(\"statevector_simulator\"))\n",
    "\n",
    "# Quantum Instance:\n",
    "QI = QuantumInstance(Aer.get_backend(\"qasm_simulator\"), shots=1000)\n",
    "executor = Executor(QI)\n",
    "\n",
    "# Service (for execution on the real backend, uncomment the following lines and replace YOUR_TOKEN_HERE with your token):\n",
    "# service = QiskitRuntimeService(channel=\"ibm_quantum\",token=\"YOUR_TOKEN_HERE\")\n",
    "# executor = Executor(service,backend = service.get_backend('ibm_nairobi'))\n",
    "# # alternatively:\n",
    "# executor = Executor(service.get_backend('ibm_nairobi'))\n",
    "\n",
    "# # Session\n",
    "# session = Session(service, backend=service.get_backend('ibm_nairobi'),max_time=28800)\n",
    "# executor = Executor(session)\n",
    "\n",
    "# # Estimator\n",
    "# estimator = Estimator_runtime(session)\n",
    "# executor = Executor(estimator)\n",
    "\n",
    "# Primitive:\n",
    "executor = Executor(Estimator())\n",
    "executor = Executor(Sampler())\n",
    "executor = Executor(BackendEstimator(Aer.get_backend(\"qasm_simulator\")))\n",
    "executor = Executor(BackendSampler(Aer.get_backend(\"qasm_simulator\"), {\"shots\": 1000}))"
   ]
  },
  {
   "cell_type": "code",
   "execution_count": 3,
   "metadata": {},
   "outputs": [
    {
     "name": "stdout",
     "output_type": "stream",
     "text": [
      "Current shots as set before: 1000\n",
      "Adjusted shots : 1234\n",
      "Reset shots : 1000\n"
     ]
    }
   ],
   "source": [
    "# Shots can be set by the executor:\n",
    "print(\"Current shots as set before:\", executor.get_shots())\n",
    "# Set shots\n",
    "executor.set_shots(1234)\n",
    "print(\"Adjusted shots :\", executor.get_shots())\n",
    "# Reset shots to initial ones:\n",
    "executor.reset_shots()\n",
    "print(\"Reset shots :\", executor.get_shots())"
   ]
  },
  {
   "cell_type": "code",
   "execution_count": 4,
   "metadata": {},
   "outputs": [
    {
     "name": "stdout",
     "output_type": "stream",
     "text": [
      "EstimatorResult(values=array([-0.12149965]), metadata=[{'variance': 0.9852378343553527, 'shots': 4321}])\n",
      "SamplerResult(quasi_dists=[{3: 0.511, 0: 0.416, 2: 0.038, 1: 0.035}], metadata=[{'shots': 1000}])\n"
     ]
    }
   ],
   "source": [
    "# The executor generates modified Primitives that can be used as usual:\n",
    "# The modified primitives allow caching, automatic session handling and logging.\n",
    "\n",
    "# Generate a random circuit:\n",
    "circuit = random_circuit(2, 2, seed=0).decompose(reps=1)\n",
    "\n",
    "# Generate a observable:\n",
    "observable = SparsePauliOp(\"ZI\")\n",
    "\n",
    "# Get the Executor Estimator Primitive and call run:\n",
    "estimator = executor.get_estimator()\n",
    "print(estimator.run(circuit, observable, shots=4321).result())\n",
    "\n",
    "# Get the Executor Sampler Primitive and call run:\n",
    "circuit.measure_all()\n",
    "sampler = executor.get_sampler()\n",
    "print(sampler.run(circuit).result())"
   ]
  },
  {
   "cell_type": "code",
   "execution_count": 5,
   "metadata": {},
   "outputs": [
    {
     "data": {
      "text/plain": [
       "Result(backend_name='qasm_simulator', backend_version='0.12.0', qobj_id='', job_id='8ed199ec-d01b-422a-8083-e136b64b2d46', success=True, results=[ExperimentResult(shots=1000, success=True, meas_level=2, data=ExperimentResultData(counts={'0x3': 536, '0x0': 403, '0x2': 37, '0x1': 24}), header=QobjExperimentHeader(creg_sizes=[['meas', 2]], global_phase=0.0, memory_slots=2, metadata=None, n_qubits=2, name='circuit-125', qreg_sizes=[['q', 2]]), status=DONE, seed_simulator=480264778, metadata={'batched_shots_optimization': False, 'method': 'statevector', 'active_input_qubits': [0, 1], 'device': 'CPU', 'remapped_qubits': False, 'num_qubits': 2, 'num_clbits': 2, 'sample_measure_time': 0.0003055, 'input_qubit_map': [[0, 0], [1, 1]], 'measure_sampling': True, 'noise': 'ideal', 'parallel_shots': 1, 'parallel_state_update': 12, 'fusion': {'enabled': True, 'threshold': 14, 'max_fused_qubits': 5, 'applied': False}}, time_taken=0.0019038)], date=2023-05-10T11:52:23.584640, status=COMPLETED, header=None, metadata={'parallel_experiments': 1, 'omp_enabled': True, 'max_memory_mb': 16135, 'max_gpu_memory_mb': 0, 'num_processes_per_experiments': 1, 'mpi_rank': 0, 'num_mpi_processes': 1, 'time_taken_execute': 0.0019838}, time_taken=0.0019986629486083984)"
      ]
     },
     "execution_count": 5,
     "metadata": {},
     "output_type": "execute_result"
    }
   ],
   "source": [
    "# The executor can also be used to execute backend.run() (caching not implemented yet)\n",
    "job = executor.backend_run(circuit)\n",
    "job.result()"
   ]
  },
  {
   "cell_type": "code",
   "execution_count": 6,
   "metadata": {},
   "outputs": [
    {
     "name": "stdout",
     "output_type": "stream",
     "text": [
      "ComposedOp([\n",
      "  OperatorMeasurement(1.0 * ZI),\n",
      "  CircuitStateFn(\n",
      "         ┌──────────┐  ┌────┐┌─────────┐     ┌─────────────┐      ┌──────────┐»\n",
      "  q_0: ──┤ Rz(-π/2) ├──┤ √X ├┤ Rz(π/2) ├──■──┤ Ry(0.84756) ├───■──┤ Rz(-π/2) ├»\n",
      "       ┌─┴──────────┴─┐├───┬┘└─────────┘┌─┴─┐├─────────────┴┐┌─┴─┐└─┬─────┬──┘»\n",
      "  q_1: ┤ Rz(-0.25744) ├┤ S ├────────────┤ X ├┤ Ry(-0.84756) ├┤ X ├──┤ Sdg ├───»\n",
      "       └──────────────┘└───┘            └───┘└──────────────┘└───┘  └─────┘   »\n",
      "  «         ┌──────┐   ┌─────────┐┌────────────┐\n",
      "  «q_0: ────┤ √Xdg ├───┤ Rz(π/2) ├┤ R(5.735,0) ├\n",
      "  «     ┌───┴──────┴──┐└─────────┘└────────────┘\n",
      "  «q_1: ┤ Rz(0.25744) ├─────────────────────────\n",
      "  «     └─────────────┘                         \n",
      "  )\n",
      "])\n",
      "opflow ComposedOp([\n",
      "  OperatorMeasurement(1.0 * ZI),\n",
      "  CircuitStateFn(\n",
      "         ┌──────────┐  ┌────┐┌─────────┐     ┌─────────────┐      ┌──────────┐»\n",
      "  q_0: ──┤ Rz(-π/2) ├──┤ √X ├┤ Rz(π/2) ├──■──┤ Ry(0.84756) ├───■──┤ Rz(-π/2) ├»\n",
      "       ┌─┴──────────┴─┐├───┬┘└─────────┘┌─┴─┐├─────────────┴┐┌─┴─┐└─┬─────┬──┘»\n",
      "  q_1: ┤ Rz(-0.25744) ├┤ S ├────────────┤ X ├┤ Ry(-0.84756) ├┤ X ├──┤ Sdg ├───»\n",
      "       └──────────────┘└───┘            └───┘└──────────────┘└───┘  └─────┘   »\n",
      "  «         ┌──────┐   ┌─────────┐┌────────────┐\n",
      "  «q_0: ────┤ √Xdg ├───┤ Rz(π/2) ├┤ R(5.735,0) ├\n",
      "  «     ┌───┴──────┴──┐└─────────┘└────────────┘\n",
      "  «q_1: ┤ Rz(0.25744) ├─────────────────────────\n",
      "  «     └─────────────┘                         \n",
      "  )\n",
      "])\n",
      "type(opflow) <class 'qiskit.opflow.list_ops.composed_op.ComposedOp'>\n",
      "circuit_list [<qiskit.circuit.quantumcircuit.QuantumCircuit object at 0x0000019F52647520>]\n",
      "measure_list [PauliSumOp(SparsePauliOp(['ZI'],\n",
      "              coeffs=[1.+0.j]), coeff=1.0)]\n",
      "[-0.084]\n"
     ]
    },
    {
     "name": "stderr",
     "output_type": "stream",
     "text": [
      "C:\\Users\\DKR\\AppData\\Local\\Temp\\ipykernel_19328\\1503346594.py:4: DeprecationWarning: The class ``qiskit.opflow.primitive_ops.pauli_sum_op.PauliSumOp`` is deprecated as of qiskit-terra 0.24.0. It will be removed no earlier than 3 months after the release date. For code migration guidelines, visit https://qisk.it/opflow_migration.\n",
      "  opflow = StateFn(PauliSumOp(observable),is_measurement=True) @ CircuitStateFn(circuit)\n",
      "C:\\Users\\DKR\\AppData\\Local\\Temp\\ipykernel_19328\\1503346594.py:4: DeprecationWarning: The class ``qiskit.opflow.state_fns.operator_state_fn.OperatorStateFn`` is deprecated as of qiskit-terra 0.24.0. It will be removed no earlier than 3 months after the release date. For code migration guidelines, visit https://qisk.it/opflow_migration.\n",
      "  opflow = StateFn(PauliSumOp(observable),is_measurement=True) @ CircuitStateFn(circuit)\n",
      "C:\\Users\\DKR\\AppData\\Local\\Temp\\ipykernel_19328\\1503346594.py:4: DeprecationWarning: The class ``qiskit.opflow.state_fns.circuit_state_fn.CircuitStateFn`` is deprecated as of qiskit-terra 0.24.0. It will be removed no earlier than 3 months after the release date. For code migration guidelines, visit https://qisk.it/opflow_migration.\n",
      "  opflow = StateFn(PauliSumOp(observable),is_measurement=True) @ CircuitStateFn(circuit)\n"
     ]
    }
   ],
   "source": [
    "# Opflow structures can be used as well:\n",
    "circuit = random_circuit(2, 2, seed=0).decompose(reps=1)\n",
    "\n",
    "opflow = StateFn(PauliSumOp(observable), is_measurement=True) @ CircuitStateFn(circuit)\n",
    "print(opflow)\n",
    "\n",
    "result = executor.opflow_exec(opflow)\n",
    "print(result)"
   ]
  },
  {
   "cell_type": "code",
   "execution_count": 7,
   "metadata": {},
   "outputs": [
    {
     "name": "stdout",
     "output_type": "stream",
     "text": [
      "EstimatorResult(values=array([-0.12288822]), metadata=[{'variance': 0.9848984853067378, 'shots': 4321}])\n"
     ]
    }
   ],
   "source": [
    "# The executor features a log of what is done in the background (useful for real backends):\n",
    "\n",
    "executor = Executor(BackendSampler(Aer.get_backend(\"qasm_simulator\")), log_file=\"example_log.log\")\n",
    "executor.set_shots(1234)\n",
    "estimator = executor.get_estimator()\n",
    "print(estimator.run(circuit, observable, shots=4321).result())"
   ]
  },
  {
   "cell_type": "code",
   "execution_count": 8,
   "metadata": {},
   "outputs": [
    {
     "name": "stdout",
     "output_type": "stream",
     "text": [
      "EstimatorResult(values=array([-0.14001389]), metadata=[{'variance': 0.9803961118182966, 'shots': 4321}])\n",
      "EstimatorResult(values=array([-0.13938412]), metadata=[{'variance': 0.9805720680135228, 'shots': 1234}])\n",
      "EstimatorResult(values=array([-0.14001389]), metadata=[{'variance': 0.9803961118182966, 'shots': 4321}])\n"
     ]
    }
   ],
   "source": [
    "# The executor features a cache where the result of jobs are stored and can be reused:\n",
    "\n",
    "executor = Executor(\n",
    "    BackendSampler(Aer.get_backend(\"qasm_simulator\")),\n",
    "    log_file=\"example_log_cache.log\",\n",
    "    caching=True,\n",
    "    cache_dir=\"_cache\",\n",
    ")\n",
    "executor.set_shots(1234)\n",
    "estimator = executor.get_estimator()\n",
    "print(estimator.run(circuit, observable, shots=4321).result())\n",
    "print(estimator.run(circuit, observable, shots=1234).result())\n",
    "print(estimator.run(circuit, observable, shots=4321).result())"
   ]
  }
 ],
 "metadata": {
  "kernelspec": {
   "display_name": "Python 3.10.2 64-bit",
   "language": "python",
   "name": "python3"
  },
  "language_info": {
   "codemirror_mode": {
    "name": "ipython",
    "version": 3
   },
   "file_extension": ".py",
   "mimetype": "text/x-python",
   "name": "python",
   "nbconvert_exporter": "python",
   "pygments_lexer": "ipython3",
   "version": "3.10.2"
  },
  "orig_nbformat": 4,
  "vscode": {
   "interpreter": {
    "hash": "26de051ba29f2982a8de78e945f0abaf191376122a1563185a90213a26c5da77"
   }
  }
 },
 "nbformat": 4,
 "nbformat_minor": 2
}
