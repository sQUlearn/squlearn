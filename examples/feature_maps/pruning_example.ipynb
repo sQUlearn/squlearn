{
 "cells": [
  {
   "cell_type": "code",
   "execution_count": 1,
   "metadata": {},
   "outputs": [],
   "source": [
    "import numpy as np\n",
    "\n",
    "from squlearn.feature_map import (\n",
    "    PrunedFeatureMap,\n",
    "    pruning_from_QFI,\n",
    "    automated_pruning,\n",
    ")\n",
    "from squlearn.feature_map import LayeredFeatureMap\n",
    "from squlearn.util.qfi import get_quantum_fisher\n",
    "from squlearn.util.executor import Executor"
   ]
  },
  {
   "cell_type": "code",
   "execution_count": 2,
   "metadata": {},
   "outputs": [],
   "source": [
    "# Example uses statevector as backend\n",
    "executor = Executor(\"statevector_simulator\")"
   ]
  },
  {
   "cell_type": "code",
   "execution_count": 3,
   "metadata": {},
   "outputs": [
    {
     "data": {
      "image/png": "[encoded data removed]",
      "text/plain": [
       "<Figure size 538.128x200.667 with 1 Axes>"
      ]
     },
     "execution_count": 3,
     "metadata": {},
     "output_type": "execute_result"
    }
   ],
   "source": [
    "# Example for two qubits\n",
    "nqubit = 2\n",
    "\n",
    "# Generate and print the example pqc\n",
    "pqc = LayeredFeatureMap.from_string(\"Rz(p)-Ry(p)-Z-Ry(p)-Rz(p)\", nqubit, num_features=0)\n",
    "pqc.draw(\"mpl\")"
   ]
  },
  {
   "cell_type": "code",
   "execution_count": 4,
   "metadata": {},
   "outputs": [
    {
     "name": "stdout",
     "output_type": "stream",
     "text": [
      "[[ 0.     0.    -0.    -0.    -0.     0.     0.     0.   ]\n",
      " [ 0.     0.    -0.    -0.     0.     0.     0.     0.   ]\n",
      " [-0.    -0.     1.     0.    -1.    -0.    -0.    -0.   ]\n",
      " [-0.    -0.     0.     1.    -0.    -1.    -0.     0.   ]\n",
      " [-0.     0.    -1.    -0.     1.     0.     0.     0.   ]\n",
      " [ 0.     0.    -0.    -1.     0.     1.     0.     0.   ]\n",
      " [ 0.     0.    -0.    -0.     0.     0.     0.032  0.   ]\n",
      " [ 0.     0.    -0.     0.     0.     0.     0.     0.01 ]]\n"
     ]
    }
   ],
   "source": [
    "# Generate random parameters\n",
    "np.random.seed(0)\n",
    "param = np.random.rand(pqc.num_parameters)\n",
    "\n",
    "# Nicer numpy output\n",
    "np.set_printoptions(precision=3)\n",
    "np.set_printoptions(suppress=True)\n",
    "\n",
    "# Evaluate and print the Quantum Fisher Information Matrix\n",
    "QFIM = get_quantum_fisher(pqc, [], param, executor)\n",
    "print(QFIM)"
   ]
  },
  {
   "cell_type": "code",
   "execution_count": 5,
   "metadata": {},
   "outputs": [
    {
     "name": "stdout",
     "output_type": "stream",
     "text": [
      "[-0.    -0.     0.     0.     0.01   0.032  2.     2.   ]\n"
     ]
    }
   ],
   "source": [
    "# Calculate and print the spectrum of the Quantum Fisher Information Matrix\n",
    "V, D = np.linalg.eig(QFIM)\n",
    "print(np.sort(V))"
   ]
  },
  {
   "cell_type": "code",
   "execution_count": 6,
   "metadata": {},
   "outputs": [
    {
     "name": "stdout",
     "output_type": "stream",
     "text": [
      "[0 1 2 5]\n"
     ]
    }
   ],
   "source": [
    "# Call the pruning routine and print the pruned parameters\n",
    "red_gate = pruning_from_QFI(QFIM)\n",
    "print(np.sort(red_gate))"
   ]
  },
  {
   "cell_type": "code",
   "execution_count": 7,
   "metadata": {},
   "outputs": [
    {
     "data": {
      "image/png": "[encoded data removed]",
      "text/plain": [
       "<Figure size 370.906x200.667 with 1 Axes>"
      ]
     },
     "execution_count": 7,
     "metadata": {},
     "output_type": "execute_result"
    }
   ],
   "source": [
    "# Construct and print the pruned PQC\n",
    "pruned_pqc = PrunedFeatureMap(pqc, red_gate)\n",
    "pruned_pqc.draw(\"mpl\")"
   ]
  },
  {
   "cell_type": "code",
   "execution_count": 8,
   "metadata": {},
   "outputs": [
    {
     "name": "stdout",
     "output_type": "stream",
     "text": [
      "Pruned parameters: [0 1 2 3]\n"
     ]
    },
    {
     "data": {
      "image/png": "[encoded data removed]",
      "text/plain": [
       "<Figure size 370.906x200.667 with 1 Axes>"
      ]
     },
     "execution_count": 8,
     "metadata": {},
     "output_type": "execute_result"
    }
   ],
   "source": [
    "# Example for the automated pruning routine\n",
    "pruned_pqc_auto = automated_pruning(pqc, executor)\n",
    "pruned_pqc_auto.draw(\"mpl\")"
   ]
  }
 ],
 "metadata": {
  "kernelspec": {
   "display_name": "Python 3.10.2 64-bit",
   "language": "python",
   "name": "python3"
  },
  "language_info": {
   "codemirror_mode": {
    "name": "ipython",
    "version": 3
   },
   "file_extension": ".py",
   "mimetype": "text/x-python",
   "name": "python",
   "nbconvert_exporter": "python",
   "pygments_lexer": "ipython3",
   "version": "3.9.13"
  },
  "orig_nbformat": 4,
  "vscode": {
   "interpreter": {
    "hash": "26de051ba29f2982a8de78e945f0abaf191376122a1563185a90213a26c5da77"
   }
  }
 },
 "nbformat": 4,
 "nbformat_minor": 2
}
