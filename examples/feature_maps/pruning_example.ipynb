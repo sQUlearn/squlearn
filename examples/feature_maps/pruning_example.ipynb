{
 "cells": [
  {
   "cell_type": "code",
   "execution_count": 1,
   "metadata": {},
   "outputs": [],
   "source": [
    "import numpy as np\n",
    "from typing import Union\n",
    "\n",
    "from qiskit import Aer, QuantumCircuit\n",
    "from qiskit.circuit import ParameterVector\n",
    "from qiskit.utils import QuantumInstance\n",
    "\n",
    "from squlearn.feature_map import (\n",
    "    PrunedFeatureMap,\n",
    "    pruning_from_QFI,\n",
    "    automated_pruning,\n",
    ")\n",
    "from squlearn.feature_map.feature_map_base import FeatureMapBase\n",
    "\n",
    "from squlearn.util.quantum_fisher import get_quantum_fisher"
   ]
  },
  {
   "cell_type": "code",
   "execution_count": 2,
   "metadata": {},
   "outputs": [],
   "source": [
    "# Example uses statevector as backend\n",
    "backend = Aer.get_backend(\"statevector_simulator\")\n",
    "QI = QuantumInstance(backend)\n",
    "\n",
    "# Nicer numpy output\n",
    "np.set_printoptions(precision=3)\n",
    "np.set_printoptions(suppress=True)"
   ]
  },
  {
   "cell_type": "code",
   "execution_count": 3,
   "metadata": {},
   "outputs": [],
   "source": [
    "# Create a simple example pqc with redundant parameters\n",
    "class example_pqc(FeatureMapBase):\n",
    "    def __init__(self, number_of_qubits: int):\n",
    "        # No features / input data in this case\n",
    "        number_of_features = 0\n",
    "        super().__init__(number_of_qubits, number_of_features)  # Parent initialization\n",
    "\n",
    "    @property\n",
    "    def num_parameters(self) -> int:\n",
    "        \"\"\"Returns the number of trainable parameters of the feature map.\"\"\"\n",
    "        return 4 * self.num_qubits\n",
    "\n",
    "    def get_circuit(\n",
    "        self,\n",
    "        features: Union[ParameterVector, np.ndarray],\n",
    "        parameters: Union[ParameterVector, np.ndarray],\n",
    "    ) -> QuantumCircuit:\n",
    "        nparam = len(parameters)\n",
    "\n",
    "        QC = QuantumCircuit(self.num_qubits)\n",
    "\n",
    "        ioff = 0\n",
    "        for i in range(self.num_qubits):\n",
    "            QC.rz(parameters[ioff % nparam], i)\n",
    "            ioff = ioff + 1\n",
    "        for i in range(self.num_qubits):\n",
    "            QC.ry(parameters[ioff % nparam], i)\n",
    "            ioff = ioff + 1\n",
    "        for i in range(self.num_qubits):\n",
    "            QC.z(i)\n",
    "        for i in range(self.num_qubits):\n",
    "            QC.ry(parameters[ioff % nparam], i)\n",
    "            ioff = ioff + 1\n",
    "        for i in range(self.num_qubits):\n",
    "            QC.rz(parameters[ioff % nparam], i)\n",
    "            ioff = ioff + 1\n",
    "\n",
    "        return QC"
   ]
  },
  {
   "cell_type": "code",
   "execution_count": 4,
   "metadata": {},
   "outputs": [
    {
     "data": {
      "image/png": "[encoded data removed]",
      "text/plain": [
       "<Figure size 387.452x144.48 with 1 Axes>"
      ]
     },
     "execution_count": 4,
     "metadata": {},
     "output_type": "execute_result"
    }
   ],
   "source": [
    "# Example for two qubits\n",
    "nqubit = 2\n",
    "\n",
    "# Generate and print the example pqc\n",
    "pqc = example_pqc(nqubit)\n",
    "pqc.draw()"
   ]
  },
  {
   "cell_type": "code",
   "execution_count": 5,
   "metadata": {},
   "outputs": [
    {
     "name": "stdout",
     "output_type": "stream",
     "text": [
      "[[-0.    -0.    -0.     0.     0.     0.    -0.    -0.   ]\n",
      " [-0.    -0.     0.     0.     0.     0.    -0.    -0.   ]\n",
      " [-0.     0.     1.     0.    -1.    -0.     0.     0.   ]\n",
      " [ 0.     0.     0.     1.     0.    -1.     0.    -0.   ]\n",
      " [ 0.     0.    -1.     0.     1.    -0.     0.     0.   ]\n",
      " [ 0.     0.    -0.    -1.    -0.     1.    -0.     0.   ]\n",
      " [-0.    -0.     0.     0.     0.    -0.     0.032  0.   ]\n",
      " [-0.    -0.     0.    -0.     0.     0.     0.     0.01 ]]\n"
     ]
    }
   ],
   "source": [
    "# Generate random parameters\n",
    "np.random.seed(0)\n",
    "param = np.random.rand(pqc.num_parameters)\n",
    "\n",
    "# Evaluate and print the Quantum Fisher Information Matrix\n",
    "QFIM = get_quantum_fisher(pqc, [], param, QI)\n",
    "print(QFIM)"
   ]
  },
  {
   "cell_type": "code",
   "execution_count": 6,
   "metadata": {},
   "outputs": [
    {
     "name": "stdout",
     "output_type": "stream",
     "text": [
      "[-0.    -0.    -0.     0.     0.01   0.032  2.     2.   ]\n"
     ]
    }
   ],
   "source": [
    "# Calculate and print the spectrum of the Quantum Fisher Information Matrix\n",
    "V, D = np.linalg.eig(QFIM)\n",
    "print(np.sort(V))"
   ]
  },
  {
   "cell_type": "code",
   "execution_count": 7,
   "metadata": {},
   "outputs": [
    {
     "name": "stdout",
     "output_type": "stream",
     "text": [
      "[0 1 2 5]\n"
     ]
    }
   ],
   "source": [
    "# Call the pruning routine and print the pruned parameters\n",
    "red_gate = pruning_from_QFI(QFIM)\n",
    "print(np.sort(red_gate))"
   ]
  },
  {
   "cell_type": "code",
   "execution_count": 8,
   "metadata": {},
   "outputs": [
    {
     "data": {
      "image/png": "[encoded data removed]",
      "text/plain": [
       "<Figure size 267.052x144.48 with 1 Axes>"
      ]
     },
     "execution_count": 8,
     "metadata": {},
     "output_type": "execute_result"
    }
   ],
   "source": [
    "# Construct and print the pruned PQC\n",
    "pruned_pqc = PrunedFeatureMap(pqc, red_gate)\n",
    "pruned_pqc.draw()"
   ]
  },
  {
   "cell_type": "code",
   "execution_count": 9,
   "metadata": {},
   "outputs": [
    {
     "name": "stdout",
     "output_type": "stream",
     "text": [
      "Pruned parameters: [0 1 3 4]\n"
     ]
    },
    {
     "data": {
      "image/png": "[encoded data removed]",
      "text/plain": [
       "<Figure size 267.052x144.48 with 1 Axes>"
      ]
     },
     "execution_count": 9,
     "metadata": {},
     "output_type": "execute_result"
    }
   ],
   "source": [
    "# Example for the automated pruning routine\n",
    "pruned_pqc_auto = automated_pruning(pqc, QI)\n",
    "pruned_pqc_auto.draw()"
   ]
  }
 ],
 "metadata": {
  "kernelspec": {
   "display_name": "Python 3.10.2 64-bit",
   "language": "python",
   "name": "python3"
  },
  "language_info": {
   "codemirror_mode": {
    "name": "ipython",
    "version": 3
   },
   "file_extension": ".py",
   "mimetype": "text/x-python",
   "name": "python",
   "nbconvert_exporter": "python",
   "pygments_lexer": "ipython3",
   "version": "3.10.2"
  },
  "orig_nbformat": 4,
  "vscode": {
   "interpreter": {
    "hash": "26de051ba29f2982a8de78e945f0abaf191376122a1563185a90213a26c5da77"
   }
  }
 },
 "nbformat": 4,
 "nbformat_minor": 2
}
