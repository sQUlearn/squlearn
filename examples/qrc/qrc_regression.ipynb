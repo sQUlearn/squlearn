{
 "cells": [
  {
   "cell_type": "markdown",
   "metadata": {},
   "source": [
    "# Example: Regression using Quantum Reservoir Computing\n",
    "\n",
    "In this exampe, we demonstrate how to use Quantum Reservoir Computing (QRC) for regression.\n",
    "We will use the ``QRCRegressor`` implementation to build a QRC model and train it on a simple dataset.\n",
    "\n",
    "## Imports"
   ]
  },
  {
   "cell_type": "code",
   "execution_count": 1,
   "metadata": {},
   "outputs": [],
   "source": [
    "import numpy as np\n",
    "import matplotlib.pyplot as plt\n",
    "from sklearn.metrics import mean_squared_error, r2_score\n",
    "from squlearn import Executor\n",
    "from squlearn.qrc import QRCRegressor\n",
    "from squlearn.encoding_circuit import HubregtsenEncodingCircuit"
   ]
  },
  {
   "cell_type": "markdown",
   "metadata": {},
   "source": [
    "## Generate a simple univariate example dataset\n",
    "\n",
    "First, we create a simple univariate dataset with the function $\\exp(\\sin(10x))$."
   ]
  },
  {
   "cell_type": "code",
   "execution_count": 2,
   "metadata": {},
   "outputs": [],
   "source": [
    "# Training data\n",
    "X_train = np.arange(0.0, 1.0, 0.1)\n",
    "y_train = np.exp(np.sin(10 * X_train))\n",
    "X_train = X_train.reshape(-1, 1)\n",
    "\n",
    "# Testing data\n",
    "X_test = np.arange(0.01, 1.0, 0.01)\n",
    "y_test = np.exp(np.sin(10 * X_test))\n",
    "X_test = X_test.reshape(-1, 1)"
   ]
  },
  {
   "cell_type": "markdown",
   "metadata": {},
   "source": [
    "## ``QRCRegressor`` Setup\n",
    "\n",
    "We create a encoding circuit for the Quantum Reservoir, parameters in the encoding circuit are randomly initialized.\n",
    "Furthermore, we initialize the squlearn Executor for the circuit evaluations. \n",
    "Finally, we create a ``QRCRegressor`` instance with the encoding circuit and the executor, utilizing\n",
    "200 random measurements as the input of a linear model."
   ]
  },
  {
   "cell_type": "code",
   "execution_count": 3,
   "metadata": {},
   "outputs": [
    {
     "data": {
      "text/html": [
       "<pre style=\"word-wrap: normal;white-space: pre;background: #fff0;line-height: 1.1;font-family: &quot;Courier New&quot;,Courier,monospace\">     ┌───┐┌──────────┐┌──────────┐                                       »\n",
       "q_0: ┤ H ├┤ Rz(x[0]) ├┤ Ry(p[0]) ├──────■────────────────────────────────»\n",
       "     ├───┤├──────────┤├──────────┤┌─────┴─────┐              ┌──────────┐»\n",
       "q_1: ┤ H ├┤ Rz(x[0]) ├┤ Ry(p[1]) ├┤ Rz(p[10]) ├──────■───────┤ Rz(x[0]) ├»\n",
       "     ├───┤├──────────┤├──────────┤└───────────┘┌─────┴─────┐ └──────────┘»\n",
       "q_2: ┤ H ├┤ Rz(x[0]) ├┤ Ry(p[2]) ├─────────────┤ Rz(p[11]) ├──────■──────»\n",
       "     ├───┤├──────────┤├──────────┤             └───────────┘┌─────┴─────┐»\n",
       "q_3: ┤ H ├┤ Rz(x[0]) ├┤ Ry(p[3]) ├──────────────────────────┤ Rz(p[12]) ├»\n",
       "     ├───┤├──────────┤├──────────┤                          └───────────┘»\n",
       "q_4: ┤ H ├┤ Rz(x[0]) ├┤ Ry(p[4]) ├───────────────────────────────────────»\n",
       "     ├───┤├──────────┤├──────────┤                                       »\n",
       "q_5: ┤ H ├┤ Rz(x[0]) ├┤ Ry(p[5]) ├───────────────────────────────────────»\n",
       "     ├───┤├──────────┤├──────────┤                                       »\n",
       "q_6: ┤ H ├┤ Rz(x[0]) ├┤ Ry(p[6]) ├───────────────────────────────────────»\n",
       "     ├───┤├──────────┤├──────────┤                                       »\n",
       "q_7: ┤ H ├┤ Rz(x[0]) ├┤ Ry(p[7]) ├───────────────────────────────────────»\n",
       "     ├───┤├──────────┤├──────────┤                                       »\n",
       "q_8: ┤ H ├┤ Rz(x[0]) ├┤ Ry(p[8]) ├───────────────────────────────────────»\n",
       "     ├───┤├──────────┤├──────────┤                                       »\n",
       "q_9: ┤ H ├┤ Rz(x[0]) ├┤ Ry(p[9]) ├───────────────────────────────────────»\n",
       "     └───┘└──────────┘└──────────┘                                       »\n",
       "«                                                                      »\n",
       "«q_0: ─────────────────────────────────────────────────────────────────»\n",
       "«     ┌───────────┐                                                    »\n",
       "«q_1: ┤ Ry(p[21]) ├────────────────────────────────────────────────────»\n",
       "«     └┬──────────┤┌───────────┐                                       »\n",
       "«q_2: ─┤ Rz(x[0]) ├┤ Ry(p[22]) ├───────────────────────────────────────»\n",
       "«      └──────────┘└┬──────────┤┌───────────┐                          »\n",
       "«q_3: ──────■───────┤ Rz(x[0]) ├┤ Ry(p[23]) ├──────────────────────────»\n",
       "«     ┌─────┴─────┐ └──────────┘└┬──────────┤┌───────────┐             »\n",
       "«q_4: ┤ Rz(p[13]) ├──────■───────┤ Rz(x[0]) ├┤ Ry(p[24]) ├─────────────»\n",
       "«     └───────────┘┌─────┴─────┐ └──────────┘└┬──────────┤┌───────────┐»\n",
       "«q_5: ─────────────┤ Rz(p[14]) ├──────■───────┤ Rz(x[0]) ├┤ Ry(p[25]) ├»\n",
       "«                  └───────────┘┌─────┴─────┐ └──────────┘└┬──────────┤»\n",
       "«q_6: ──────────────────────────┤ Rz(p[15]) ├──────■───────┤ Rz(x[0]) ├»\n",
       "«                               └───────────┘┌─────┴─────┐ └──────────┘»\n",
       "«q_7: ───────────────────────────────────────┤ Rz(p[16]) ├──────■──────»\n",
       "«                                            └───────────┘┌─────┴─────┐»\n",
       "«q_8: ────────────────────────────────────────────────────┤ Rz(p[17]) ├»\n",
       "«                                                         └───────────┘»\n",
       "«q_9: ─────────────────────────────────────────────────────────────────»\n",
       "«                                                                      »\n",
       "«                  ┌───────────┐ ┌──────────┐┌───────────┐             »\n",
       "«q_0: ─────────────┤ Rz(p[19]) ├─┤ Rz(x[0]) ├┤ Ry(p[20]) ├──────■──────»\n",
       "«                  └─────┬─────┘ └──────────┘└───────────┘┌─────┴─────┐»\n",
       "«q_1: ───────────────────┼────────────────────────────────┤ Rz(p[30]) ├»\n",
       "«                        │                                └───────────┘»\n",
       "«q_2: ───────────────────┼─────────────────────────────────────────────»\n",
       "«                        │                                             »\n",
       "«q_3: ───────────────────┼─────────────────────────────────────────────»\n",
       "«                        │                                             »\n",
       "«q_4: ───────────────────┼─────────────────────────────────────────────»\n",
       "«                        │                                             »\n",
       "«q_5: ───────────────────┼─────────────────────────────────────────────»\n",
       "«     ┌───────────┐      │                                             »\n",
       "«q_6: ┤ Ry(p[26]) ├──────┼─────────────────────────────────────────────»\n",
       "«     └┬──────────┤      │      ┌───────────┐                          »\n",
       "«q_7: ─┤ Rz(x[0]) ├──────┼──────┤ Ry(p[27]) ├──────────────────────────»\n",
       "«      └──────────┘      │      └┬──────────┤┌───────────┐             »\n",
       "«q_8: ──────■────────────┼───────┤ Rz(x[0]) ├┤ Ry(p[28]) ├─────────────»\n",
       "«     ┌─────┴─────┐      │       ├──────────┤├───────────┤             »\n",
       "«q_9: ┤ Rz(p[18]) ├──────■───────┤ Rz(x[0]) ├┤ Ry(p[29]) ├─────────────»\n",
       "«     └───────────┘              └──────────┘└───────────┘             »\n",
       "«                                                                      »\n",
       "«q_0: ─────────────────────────────────────────────────────────────────»\n",
       "«                                                                      »\n",
       "«q_1: ──────■──────────────────────────────────────────────────────────»\n",
       "«     ┌─────┴─────┐                                                    »\n",
       "«q_2: ┤ Rz(p[31]) ├──────■─────────────────────────────────────────────»\n",
       "«     └───────────┘┌─────┴─────┐                                       »\n",
       "«q_3: ─────────────┤ Rz(p[32]) ├──────■────────────────────────────────»\n",
       "«                  └───────────┘┌─────┴─────┐                          »\n",
       "«q_4: ──────────────────────────┤ Rz(p[33]) ├──────■───────────────────»\n",
       "«                               └───────────┘┌─────┴─────┐             »\n",
       "«q_5: ───────────────────────────────────────┤ Rz(p[34]) ├──────■──────»\n",
       "«                                            └───────────┘┌─────┴─────┐»\n",
       "«q_6: ────────────────────────────────────────────────────┤ Rz(p[35]) ├»\n",
       "«                                                         └───────────┘»\n",
       "«q_7: ─────────────────────────────────────────────────────────────────»\n",
       "«                                                                      »\n",
       "«q_8: ─────────────────────────────────────────────────────────────────»\n",
       "«                                                                      »\n",
       "«q_9: ─────────────────────────────────────────────────────────────────»\n",
       "«                                                                      »\n",
       "«                                            ┌───────────┐\n",
       "«q_0: ───────────────────────────────────────┤ Rz(p[39]) ├\n",
       "«                                            └─────┬─────┘\n",
       "«q_1: ─────────────────────────────────────────────┼──────\n",
       "«                                                  │      \n",
       "«q_2: ─────────────────────────────────────────────┼──────\n",
       "«                                                  │      \n",
       "«q_3: ─────────────────────────────────────────────┼──────\n",
       "«                                                  │      \n",
       "«q_4: ─────────────────────────────────────────────┼──────\n",
       "«                                                  │      \n",
       "«q_5: ─────────────────────────────────────────────┼──────\n",
       "«                                                  │      \n",
       "«q_6: ──────■──────────────────────────────────────┼──────\n",
       "«     ┌─────┴─────┐                                │      \n",
       "«q_7: ┤ Rz(p[36]) ├──────■─────────────────────────┼──────\n",
       "«     └───────────┘┌─────┴─────┐                   │      \n",
       "«q_8: ─────────────┤ Rz(p[37]) ├──────■────────────┼──────\n",
       "«                  └───────────┘┌─────┴─────┐      │      \n",
       "«q_9: ──────────────────────────┤ Rz(p[38]) ├──────■──────\n",
       "«                               └───────────┘             </pre>"
      ],
      "text/plain": [
       "     ┌───┐┌──────────┐┌──────────┐                                       »\n",
       "q_0: ┤ H ├┤ Rz(x[0]) ├┤ Ry(p[0]) ├──────■────────────────────────────────»\n",
       "     ├───┤├──────────┤├──────────┤┌─────┴─────┐              ┌──────────┐»\n",
       "q_1: ┤ H ├┤ Rz(x[0]) ├┤ Ry(p[1]) ├┤ Rz(p[10]) ├──────■───────┤ Rz(x[0]) ├»\n",
       "     ├───┤├──────────┤├──────────┤└───────────┘┌─────┴─────┐ └──────────┘»\n",
       "q_2: ┤ H ├┤ Rz(x[0]) ├┤ Ry(p[2]) ├─────────────┤ Rz(p[11]) ├──────■──────»\n",
       "     ├───┤├──────────┤├──────────┤             └───────────┘┌─────┴─────┐»\n",
       "q_3: ┤ H ├┤ Rz(x[0]) ├┤ Ry(p[3]) ├──────────────────────────┤ Rz(p[12]) ├»\n",
       "     ├───┤├──────────┤├──────────┤                          └───────────┘»\n",
       "q_4: ┤ H ├┤ Rz(x[0]) ├┤ Ry(p[4]) ├───────────────────────────────────────»\n",
       "     ├───┤├──────────┤├──────────┤                                       »\n",
       "q_5: ┤ H ├┤ Rz(x[0]) ├┤ Ry(p[5]) ├───────────────────────────────────────»\n",
       "     ├───┤├──────────┤├──────────┤                                       »\n",
       "q_6: ┤ H ├┤ Rz(x[0]) ├┤ Ry(p[6]) ├───────────────────────────────────────»\n",
       "     ├───┤├──────────┤├──────────┤                                       »\n",
       "q_7: ┤ H ├┤ Rz(x[0]) ├┤ Ry(p[7]) ├───────────────────────────────────────»\n",
       "     ├───┤├──────────┤├──────────┤                                       »\n",
       "q_8: ┤ H ├┤ Rz(x[0]) ├┤ Ry(p[8]) ├───────────────────────────────────────»\n",
       "     ├───┤├──────────┤├──────────┤                                       »\n",
       "q_9: ┤ H ├┤ Rz(x[0]) ├┤ Ry(p[9]) ├───────────────────────────────────────»\n",
       "     └───┘└──────────┘└──────────┘                                       »\n",
       "«                                                                      »\n",
       "«q_0: ─────────────────────────────────────────────────────────────────»\n",
       "«     ┌───────────┐                                                    »\n",
       "«q_1: ┤ Ry(p[21]) ├────────────────────────────────────────────────────»\n",
       "«     └┬──────────┤┌───────────┐                                       »\n",
       "«q_2: ─┤ Rz(x[0]) ├┤ Ry(p[22]) ├───────────────────────────────────────»\n",
       "«      └──────────┘└┬──────────┤┌───────────┐                          »\n",
       "«q_3: ──────■───────┤ Rz(x[0]) ├┤ Ry(p[23]) ├──────────────────────────»\n",
       "«     ┌─────┴─────┐ └──────────┘└┬──────────┤┌───────────┐             »\n",
       "«q_4: ┤ Rz(p[13]) ├──────■───────┤ Rz(x[0]) ├┤ Ry(p[24]) ├─────────────»\n",
       "«     └───────────┘┌─────┴─────┐ └──────────┘└┬──────────┤┌───────────┐»\n",
       "«q_5: ─────────────┤ Rz(p[14]) ├──────■───────┤ Rz(x[0]) ├┤ Ry(p[25]) ├»\n",
       "«                  └───────────┘┌─────┴─────┐ └──────────┘└┬──────────┤»\n",
       "«q_6: ──────────────────────────┤ Rz(p[15]) ├──────■───────┤ Rz(x[0]) ├»\n",
       "«                               └───────────┘┌─────┴─────┐ └──────────┘»\n",
       "«q_7: ───────────────────────────────────────┤ Rz(p[16]) ├──────■──────»\n",
       "«                                            └───────────┘┌─────┴─────┐»\n",
       "«q_8: ────────────────────────────────────────────────────┤ Rz(p[17]) ├»\n",
       "«                                                         └───────────┘»\n",
       "«q_9: ─────────────────────────────────────────────────────────────────»\n",
       "«                                                                      »\n",
       "«                  ┌───────────┐ ┌──────────┐┌───────────┐             »\n",
       "«q_0: ─────────────┤ Rz(p[19]) ├─┤ Rz(x[0]) ├┤ Ry(p[20]) ├──────■──────»\n",
       "«                  └─────┬─────┘ └──────────┘└───────────┘┌─────┴─────┐»\n",
       "«q_1: ───────────────────┼────────────────────────────────┤ Rz(p[30]) ├»\n",
       "«                        │                                └───────────┘»\n",
       "«q_2: ───────────────────┼─────────────────────────────────────────────»\n",
       "«                        │                                             »\n",
       "«q_3: ───────────────────┼─────────────────────────────────────────────»\n",
       "«                        │                                             »\n",
       "«q_4: ───────────────────┼─────────────────────────────────────────────»\n",
       "«                        │                                             »\n",
       "«q_5: ───────────────────┼─────────────────────────────────────────────»\n",
       "«     ┌───────────┐      │                                             »\n",
       "«q_6: ┤ Ry(p[26]) ├──────┼─────────────────────────────────────────────»\n",
       "«     └┬──────────┤      │      ┌───────────┐                          »\n",
       "«q_7: ─┤ Rz(x[0]) ├──────┼──────┤ Ry(p[27]) ├──────────────────────────»\n",
       "«      └──────────┘      │      └┬──────────┤┌───────────┐             »\n",
       "«q_8: ──────■────────────┼───────┤ Rz(x[0]) ├┤ Ry(p[28]) ├─────────────»\n",
       "«     ┌─────┴─────┐      │       ├──────────┤├───────────┤             »\n",
       "«q_9: ┤ Rz(p[18]) ├──────■───────┤ Rz(x[0]) ├┤ Ry(p[29]) ├─────────────»\n",
       "«     └───────────┘              └──────────┘└───────────┘             »\n",
       "«                                                                      »\n",
       "«q_0: ─────────────────────────────────────────────────────────────────»\n",
       "«                                                                      »\n",
       "«q_1: ──────■──────────────────────────────────────────────────────────»\n",
       "«     ┌─────┴─────┐                                                    »\n",
       "«q_2: ┤ Rz(p[31]) ├──────■─────────────────────────────────────────────»\n",
       "«     └───────────┘┌─────┴─────┐                                       »\n",
       "«q_3: ─────────────┤ Rz(p[32]) ├──────■────────────────────────────────»\n",
       "«                  └───────────┘┌─────┴─────┐                          »\n",
       "«q_4: ──────────────────────────┤ Rz(p[33]) ├──────■───────────────────»\n",
       "«                               └───────────┘┌─────┴─────┐             »\n",
       "«q_5: ───────────────────────────────────────┤ Rz(p[34]) ├──────■──────»\n",
       "«                                            └───────────┘┌─────┴─────┐»\n",
       "«q_6: ────────────────────────────────────────────────────┤ Rz(p[35]) ├»\n",
       "«                                                         └───────────┘»\n",
       "«q_7: ─────────────────────────────────────────────────────────────────»\n",
       "«                                                                      »\n",
       "«q_8: ─────────────────────────────────────────────────────────────────»\n",
       "«                                                                      »\n",
       "«q_9: ─────────────────────────────────────────────────────────────────»\n",
       "«                                                                      »\n",
       "«                                            ┌───────────┐\n",
       "«q_0: ───────────────────────────────────────┤ Rz(p[39]) ├\n",
       "«                                            └─────┬─────┘\n",
       "«q_1: ─────────────────────────────────────────────┼──────\n",
       "«                                                  │      \n",
       "«q_2: ─────────────────────────────────────────────┼──────\n",
       "«                                                  │      \n",
       "«q_3: ─────────────────────────────────────────────┼──────\n",
       "«                                                  │      \n",
       "«q_4: ─────────────────────────────────────────────┼──────\n",
       "«                                                  │      \n",
       "«q_5: ─────────────────────────────────────────────┼──────\n",
       "«                                                  │      \n",
       "«q_6: ──────■──────────────────────────────────────┼──────\n",
       "«     ┌─────┴─────┐                                │      \n",
       "«q_7: ┤ Rz(p[36]) ├──────■─────────────────────────┼──────\n",
       "«     └───────────┘┌─────┴─────┐                   │      \n",
       "«q_8: ─────────────┤ Rz(p[37]) ├──────■────────────┼──────\n",
       "«                  └───────────┘┌─────┴─────┐      │      \n",
       "«q_9: ──────────────────────────┤ Rz(p[38]) ├──────■──────\n",
       "«                               └───────────┘             "
      ]
     },
     "execution_count": 3,
     "metadata": {},
     "output_type": "execute_result"
    }
   ],
   "source": [
    "# Encoding circuit\n",
    "pqc = HubregtsenEncodingCircuit(num_qubits=10, num_features=1, num_layers=2)\n",
    "pqc.draw()"
   ]
  },
  {
   "cell_type": "code",
   "execution_count": 4,
   "metadata": {},
   "outputs": [],
   "source": [
    "# Executor\n",
    "exec = Executor()\n",
    "\n",
    "# Quantum Reservoir Computing model for regression\n",
    "qrc = QRCRegressor(pqc, executor=exec, ml_model=\"linear\", num_operators=200)"
   ]
  },
  {
   "cell_type": "markdown",
   "metadata": {},
   "source": [
    "## Training\n",
    "\n",
    "Next, we train the QRC model on the dataset using the ``fit`` method."
   ]
  },
  {
   "cell_type": "code",
   "execution_count": 5,
   "metadata": {},
   "outputs": [],
   "source": [
    "qrc.fit(X_train, y_train)"
   ]
  },
  {
   "cell_type": "markdown",
   "metadata": {},
   "source": [
    "## Evaluate the model\n",
    "\n",
    "We calculate the inference of the model on the training dataset."
   ]
  },
  {
   "cell_type": "code",
   "execution_count": 6,
   "metadata": {},
   "outputs": [],
   "source": [
    "y_pred = qrc.predict(X_test)"
   ]
  },
  {
   "cell_type": "markdown",
   "metadata": {},
   "source": [
    "Plotting of the final results."
   ]
  },
  {
   "cell_type": "code",
   "execution_count": null,
   "metadata": {},
   "outputs": [
    {
     "name": "stdout",
     "output_type": "stream",
     "text": [
      "Mean Squared Error: 0.036204337784137064\n",
      "R^2 Score: 0.9452016697468887\n"
     ]
    },
    {
     "data": {
      "image/png": "[encoded data removed]",
      "text/plain": [
       "<Figure size 640x480 with 1 Axes>"
      ]
     },
     "metadata": {},
     "output_type": "display_data"
    }
   ],
   "source": [
    "print(\"Mean Squared Error:\", mean_squared_error(y_test, y_pred))\n",
    "print(\"R^2 Score:\", r2_score(y_test, y_pred))\n",
    "\n",
    "# Plot the results\n",
    "plt.plot(X_test, y_test, \"-\", color=\"blue\", label=\"True Values\")\n",
    "plt.plot(X_test, y_pred, \"-\", color=\"red\", label=\"Predictions\")\n",
    "plt.plot(X_train, y_train, \"x\", color=\"green\", label=\"Training Set\")\n",
    "plt.xlabel(\"x\")\n",
    "plt.ylabel(\"f(x)\")\n",
    "plt.title(\"QRC Regression Inference\")\n",
    "plt.legend()\n",
    "plt.show()"
   ]
  }
 ],
 "metadata": {
  "kernelspec": {
   "display_name": ".venv",
   "language": "python",
   "name": "python3"
  },
  "language_info": {
   "codemirror_mode": {
    "name": "ipython",
    "version": 3
   },
   "file_extension": ".py",
   "mimetype": "text/x-python",
   "name": "python",
   "nbconvert_exporter": "python",
   "pygments_lexer": "ipython3",
   "version": "3.9.2"
  }
 },
 "nbformat": 4,
 "nbformat_minor": 2
}
