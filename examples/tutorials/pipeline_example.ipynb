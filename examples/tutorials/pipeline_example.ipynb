{
 "cells": [
  {
   "attachments": {},
   "cell_type": "markdown",
   "metadata": {},
   "source": [
    "This example notebook demonstrates how sqlearn methods such as the Quantum Support Vector Machine can be naturally embedded into sklearn pipelines."
   ]
  },
  {
   "cell_type": "code",
   "execution_count": 1,
   "metadata": {},
   "outputs": [],
   "source": [
    "import numpy as np\n",
    "\n",
    "from sklearn.datasets import make_moons\n",
    "from sklearn.model_selection import train_test_split\n",
    "from sklearn.preprocessing import StandardScaler\n",
    "from sklearn.pipeline import Pipeline\n",
    "from qiskit import Aer\n",
    "\n",
    "from squlearn.feature_map import QEKFeatureMap\n",
    "from squlearn.kernel.ml.qsvc import QSVC\n",
    "from squlearn.kernel.matrix import ProjectedQuantumKernel\n",
    "from squlearn.util import Executor"
   ]
  },
  {
   "attachments": {},
   "cell_type": "markdown",
   "metadata": {},
   "source": [
    "First, we set up the quantum kernel. For this, we need to specify an executer. In this example, we use a statevector simulator. Additionally, a feature map has to be chosen. Since we use a parameterized feature map, we also have to assign initial paramters."
   ]
  },
  {
   "cell_type": "code",
   "execution_count": 2,
   "metadata": {},
   "outputs": [
    {
     "ename": "TypeError",
     "evalue": "__init__() got an unexpected keyword argument 'parameters'",
     "output_type": "error",
     "traceback": [
      "\u001b[1;31m---------------------------------------------------------------------------\u001b[0m",
      "\u001b[1;31mTypeError\u001b[0m                                 Traceback (most recent call last)",
      "\u001b[1;32mc:\\Users\\mcr\\PycharmProjects\\squlearn\\examples\\pipeline_example.ipynb Cell 4\u001b[0m in \u001b[0;36m<cell line: 5>\u001b[1;34m()\u001b[0m\n\u001b[0;32m      <a href='vscode-notebook-cell:/c%3A/Users/mcr/PycharmProjects/squlearn/examples/pipeline_example.ipynb#W2sZmlsZQ%3D%3D?line=1'>2</a>\u001b[0m feature_map \u001b[39m=\u001b[39m QEKFeatureMap(num_qubits, num_features\u001b[39m=\u001b[39m\u001b[39m2\u001b[39m, num_layers\u001b[39m=\u001b[39m\u001b[39m2\u001b[39m)\n\u001b[0;32m      <a href='vscode-notebook-cell:/c%3A/Users/mcr/PycharmProjects/squlearn/examples/pipeline_example.ipynb#W2sZmlsZQ%3D%3D?line=2'>3</a>\u001b[0m executor \u001b[39m=\u001b[39m Executor(\u001b[39m'\u001b[39m\u001b[39mstatevector_simulator\u001b[39m\u001b[39m'\u001b[39m)\n\u001b[1;32m----> <a href='vscode-notebook-cell:/c%3A/Users/mcr/PycharmProjects/squlearn/examples/pipeline_example.ipynb#W2sZmlsZQ%3D%3D?line=4'>5</a>\u001b[0m kernel \u001b[39m=\u001b[39m ProjectedQuantumKernel(feature_map, executor\u001b[39m=\u001b[39;49mexecutor, parameters\u001b[39m=\u001b[39;49mnp\u001b[39m.\u001b[39;49mrandom\u001b[39m.\u001b[39;49mrand(feature_map\u001b[39m.\u001b[39;49mnum_parameters))\n",
      "File \u001b[1;32mc:\\Users\\mcr\\Anaconda3\\lib\\site-packages\\squlearn\\kernel\\matrix\\projected_quantum_kernel.py:237\u001b[0m, in \u001b[0;36mProjectedQuantumKernel.__init__\u001b[1;34m(self, feature_map, executor, measurement, outer_kernel, initial_parameters, **kwargs)\u001b[0m\n\u001b[0;32m    235\u001b[0m \u001b[39mif\u001b[39;00m \u001b[39misinstance\u001b[39m(outer_kernel, \u001b[39mstr\u001b[39m):\n\u001b[0;32m    236\u001b[0m     \u001b[39mif\u001b[39;00m outer_kernel\u001b[39m.\u001b[39mlower() \u001b[39m==\u001b[39m \u001b[39m\"\u001b[39m\u001b[39mgaussian\u001b[39m\u001b[39m\"\u001b[39m:\n\u001b[1;32m--> 237\u001b[0m         \u001b[39mself\u001b[39m\u001b[39m.\u001b[39m_outer_kernel \u001b[39m=\u001b[39m GaussianOuterKernel(\u001b[39m*\u001b[39m\u001b[39m*\u001b[39mkwargs)\n\u001b[0;32m    238\u001b[0m     \u001b[39melif\u001b[39;00m outer_kernel\u001b[39m.\u001b[39mlower() \u001b[39m==\u001b[39m \u001b[39m\"\u001b[39m\u001b[39mmatern\u001b[39m\u001b[39m\"\u001b[39m:\n\u001b[0;32m    239\u001b[0m         \u001b[39mself\u001b[39m\u001b[39m.\u001b[39m_outer_kernel \u001b[39m=\u001b[39m OuterKernelBase\u001b[39m.\u001b[39mfrom_sklearn_kernel(Matern,\u001b[39m*\u001b[39m\u001b[39m*\u001b[39mkwargs)\n",
      "\u001b[1;31mTypeError\u001b[0m: __init__() got an unexpected keyword argument 'parameters'"
     ]
    }
   ],
   "source": [
    "num_qubits = 2\n",
    "feature_map = QEKFeatureMap(num_qubits, num_features=2, num_layers=2)\n",
    "executor = Executor('statevector_simulator')\n",
    "\n",
    "kernel = ProjectedQuantumKernel(\n",
    "    feature_map, executor=executor, initial_parameters=np.random.rand(feature_map.num_parameters))"
   ]
  },
  {
   "attachments": {},
   "cell_type": "markdown",
   "metadata": {},
   "source": [
    "Now, we create an example data set that we use our pipeline on."
   ]
  },
  {
   "cell_type": "code",
   "execution_count": null,
   "metadata": {},
   "outputs": [],
   "source": [
    "X, y = make_moons(n_samples=100, noise=0.3, random_state=0)\n",
    "X_train, X_test, y_train, y_test = train_test_split(X, y, random_state=0)"
   ]
  },
  {
   "attachments": {},
   "cell_type": "markdown",
   "metadata": {},
   "source": [
    "Creating the pipeline is equivalent to creating a pipeline with standard sklearn methods. In this example, we preprocess the data with a standard scaler."
   ]
  },
  {
   "cell_type": "code",
   "execution_count": null,
   "metadata": {},
   "outputs": [
    {
     "name": "stdout",
     "output_type": "stream",
     "text": [
      "The score on the test set is 0.84\n"
     ]
    }
   ],
   "source": [
    "pipeline = Pipeline([('scaler', StandardScaler()), ('svc', QSVC(quantum_kernel=kernel))])\n",
    "pipeline.fit(X_train, y_train)\n",
    "\n",
    "print(f'The score on the test set is {pipeline.score(X_test, y_test)}')"
   ]
  }
 ],
 "metadata": {
  "kernelspec": {
   "display_name": "base",
   "language": "python",
   "name": "python3"
  },
  "language_info": {
   "codemirror_mode": {
    "name": "ipython",
    "version": 3
   },
   "file_extension": ".py",
   "mimetype": "text/x-python",
   "name": "python",
   "nbconvert_exporter": "python",
   "pygments_lexer": "ipython3",
   "version": "3.9.12"
  },
  "orig_nbformat": 4
 },
 "nbformat": 4,
 "nbformat_minor": 2
}
