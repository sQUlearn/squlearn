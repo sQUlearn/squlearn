{
 "cells": [
  {
   "attachments": {},
   "cell_type": "markdown",
   "metadata": {},
   "source": [
    "This example notebook demonstrates how sqlearn methods such as the Quantum Support Vector Machine can be naturally embedded into sklearn pipelines."
   ]
  },
  {
   "cell_type": "code",
   "execution_count": 1,
   "metadata": {},
   "outputs": [],
   "source": [
    "import numpy as np\n",
    "\n",
    "from sklearn.datasets import make_moons\n",
    "from sklearn.model_selection import train_test_split\n",
    "from sklearn.preprocessing import StandardScaler\n",
    "from sklearn.pipeline import Pipeline\n",
    "from qiskit import Aer\n",
    "\n",
    "from squlearn import Executor\n",
    "from squlearn.feature_map import QEKFeatureMap\n",
    "from squlearn.kernel.ml.qsvc import QSVC\n",
    "from squlearn.kernel.matrix import ProjectedQuantumKernel"
   ]
  },
  {
   "attachments": {},
   "cell_type": "markdown",
   "metadata": {},
   "source": [
    "First, we set up the quantum kernel. For this, we need to specify an executer. In this example, we use a statevector simulator. Additionally, a feature map has to be chosen. Since we use a parameterized feature map, we also have to assign initial paramters."
   ]
  },
  {
   "cell_type": "code",
   "execution_count": 2,
   "metadata": {},
   "outputs": [],
   "source": [
    "num_qubits = 2\n",
    "feature_map = QEKFeatureMap(num_qubits, num_features=2, num_layers=2)\n",
    "executor = Executor(\"statevector_simulator\")\n",
    "\n",
    "kernel = ProjectedQuantumKernel(\n",
    "    feature_map, executor=executor, initial_parameters=np.random.rand(feature_map.num_parameters)\n",
    ")"
   ]
  },
  {
   "attachments": {},
   "cell_type": "markdown",
   "metadata": {},
   "source": [
    "Now, we create an example data set for our pipeline on."
   ]
  },
  {
   "cell_type": "code",
   "execution_count": 3,
   "metadata": {},
   "outputs": [],
   "source": [
    "X, y = make_moons(n_samples=100, noise=0.3, random_state=0)\n",
    "X_train, X_test, y_train, y_test = train_test_split(X, y, random_state=0)"
   ]
  },
  {
   "attachments": {},
   "cell_type": "markdown",
   "metadata": {},
   "source": [
    "Creating the pipeline is equivalent to creating a pipeline with standard sklearn methods. In this example, we preprocess the data with a standard scaler."
   ]
  },
  {
   "cell_type": "code",
   "execution_count": 4,
   "metadata": {},
   "outputs": [
    {
     "name": "stdout",
     "output_type": "stream",
     "text": [
      "The score on the test set is 0.8\n"
     ]
    }
   ],
   "source": [
    "pipeline = Pipeline([(\"scaler\", StandardScaler()), (\"svc\", QSVC(quantum_kernel=kernel))])\n",
    "pipeline.fit(X_train, y_train)\n",
    "\n",
    "print(f\"The score on the test set is {pipeline.score(X_test, y_test)}\")"
   ]
  }
 ],
 "metadata": {
  "kernelspec": {
   "display_name": "base",
   "language": "python",
   "name": "python3"
  },
  "language_info": {
   "codemirror_mode": {
    "name": "ipython",
    "version": 3
   },
   "file_extension": ".py",
   "mimetype": "text/x-python",
   "name": "python",
   "nbconvert_exporter": "python",
   "pygments_lexer": "ipython3",
   "version": "3.9.12"
  },
  "orig_nbformat": 4
 },
 "nbformat": 4,
 "nbformat_minor": 2
}
