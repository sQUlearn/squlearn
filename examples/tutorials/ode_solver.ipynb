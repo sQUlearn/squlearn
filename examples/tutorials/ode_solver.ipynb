{
 "cells": [
  {
   "cell_type": "markdown",
   "metadata": {},
   "source": [
    "# Solving a First-order Ordinary Differential Equation  (ODE) using QML methods"
   ]
  },
  {
   "cell_type": "markdown",
   "metadata": {},
   "source": [
    "In this notebook, we will solve a first order ODE using sQUlearn's implementations of a Quantum Neural Networks (QNN) differential equation solver, as described in [squlearn.qnn.loss.ODELoss](https://squlearn.github.io/modules/generated/squlearn.qnn.loss.ODELoss.html#squlearn.qnn.loss.ODELoss) and a Quantum Kernel (QK) differential equation solver as  as described in [squlearn.kernel.QKODE](https://squlearn.github.io/modules/generated/squlearn.kernel.QKODE.html)\n",
    "\n",
    "Differential Equations are building blocks of many scientific fields. One numerical method to solve these problems consists on representing an ansatz in a suitable basis and solving for the optimal coefficients of the differential equation in this basis. Formally, we consider a differential equations given in its functional form,\n",
    "\\begin{equation}\\tag{1}\n",
    "F = F[\\{d^{m}f_{n}/d x^{m}\\}_{m,n},\\{f_{n}(x)\\}_{n},x]=0,\n",
    "\\end{equation}\n",
    "where $f$ corresponds to the function solution of the differential equations. For example, the differential equation $\\frac{df(x)}{dx}=\\log(x)$, can be written as $F\\left(\\frac{df(x)}{dx}, f(x), f\\right) = \\frac{df(x)}{dx} - \\log(x)$. The ansatz $f$ can be represented in a parameterized differentiable form,\n",
    "\\begin{equation}\\tag{2}\n",
    "f=f_{{\\theta}},\n",
    "\\end{equation}\n",
    "and the solution to the differential equation can be seen as an optimization problem, where a loss function, \n",
    "\\begin{equation}\\tag{3}\n",
    "\\mathcal{L}_{{\\theta}} = \\mathcal{L}_{{\\theta}}(\\{d^{m}f_{n}/d x^{m}\\}_{m,n},\\{f_{n}(x)\\}_{n},x),\n",
    "\\end{equation}\n",
    "is optimized to find the ideal parameters ${\\theta}_{\\mathrm{opt}}$.\n",
    "\\begin{equation}\\tag{4}\n",
    "{\\theta}_{\\mathrm{opt}}=\\arg_{{\\theta}}\\mathrm{min}(\\mathcal{L}_{{\\theta}}[d_{x}f,f,x]).\n",
    "\\end{equation}\n",
    "In sQUlearn two approaches are implemented to solve differential equations:"
   ]
  },
  {
   "cell_type": "markdown",
   "metadata": {},
   "source": [
    "## QNN Ansatz\n",
    "<center>\n",
    "<img src=\"images/QNN_ode_workflow.png\" alt=\"pipeline\" width=\"1200\"/>\n",
    "\n",
    "*Fig. 1: General Scheme for solving a differential Equation with a QNN as introduced by Ref. [1]*\n",
    "</center>\n",
    "\n",
    "For this case, the ansatz will be given by a parameterized quantum circuit, known as a Quantum Neural Network (QNN) and we will follow the structure introduced by Ref. [1]. Using an encoding circuit unitary $U_{\\phi}(x)$, and a parameterized set of gates $U_{{\\theta}}$, a trial state $\\ket{f_{{\\theta}, \\phi}(x)} = U_{{\\theta}} U_{\\phi}(x) \\ket{0}$ is constructed. By measuring this state with regard to an arbitrary cost operator $\\hat{C}$, a final trial function is given by,\n",
    "\\begin{equation}\\tag{5}\n",
    "f_{{\\theta}, \\phi}(x) = \\langle \\hat{C} \\rangle = \\bra{f_{{\\theta}, \\phi}(x)} \\hat{C} \\ket{f_{{\\theta}, \\phi}(x)}.\n",
    "\\end{equation}\n",
    "$\\phi$ is a nonlinear function that is used to preprocess the data before encoding it into the quantum state. The encoded state after the first unitary $U_{\\phi}(x)$ is then manipulated by the parameterized unitary $U_{{\\theta}}$. Note that sQUlearn's flexibility allows us to not only to stick to this quantum circuit design but to use any of the available circuits (or self-designed) in the library. The derivatives of our ansatz functions are calculated under the hood by sQUlearn and the total loss is obtained. The loss is progressively updated by sQUlearn's available optimization algorithms.\n",
    "\n",
    "Without further ado, we proceed to numerically solve the differential equation."
   ]
  },
  {
   "cell_type": "markdown",
   "metadata": {},
   "source": [
    "**Importing Libraries**\n",
    "\n",
    "In this initial cell, we are importing all the libraries required for the tutorial. We are using sQUlearn to set up the quantum learning problem and `sympy`, to explicitly write the differential equation that we would like to solve\n"
   ]
  }
 ],
 "metadata": {
  "kernelspec": {
   "display_name": ".venv",
   "language": "python",
   "name": "python3"
  },
  "language_info": {
   "codemirror_mode": {
    "name": "ipython",
    "version": 3
   },
   "file_extension": ".py",
   "mimetype": "text/x-python",
   "name": "python",
   "nbconvert_exporter": "python",
   "pygments_lexer": "ipython3",
   "version": "3.10.11"
  },
  "orig_nbformat": 4
 },
 "nbformat": 4,
 "nbformat_minor": 2
}
