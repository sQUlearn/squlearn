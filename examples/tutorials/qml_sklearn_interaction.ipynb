{
 "cells": [
  {
   "attachments": {},
   "cell_type": "markdown",
   "metadata": {},
   "source": [
    "## The compatibility of sQUlearn and sklearn\n",
    "\n",
    "This notebook demonstrates the ability of sQUlearn to smoothly interact with sklearn routines. We first define a simple toy function and use the Chebychev quantum feature map to define a fidelity quantum kernel. The trainable parameters of the quantum feature map are sampled randomly. The aim in mind is to solve a regression problem using QSVR. Subsequently, we apply sklearn's cross validation score. Finally we demonstrate how to optimize the inherent hyperparameters of the SVR pipeline ($C$ and $\\epsilon$) using GridSearchCV."
   ]
  },
  {
   "cell_type": "code",
   "execution_count": 2,
   "metadata": {},
   "outputs": [],
   "source": [
    "import numpy as np\n",
    "\n",
    "from squlearn import Executor\n",
    "from squlearn.feature_map import ChebPQC\n",
    "from squlearn.kernel.matrix import FidelityKernel\n",
    "from squlearn.kernel.ml import QSVR"
   ]
  },
  {
   "cell_type": "code",
   "execution_count": 3,
   "metadata": {},
   "outputs": [],
   "source": [
    "# Generate data set (analogously to qgpr_workflow.ipynb example)\n",
    "def func(x):\n",
    "    return np.sin(3 * x) * x * x\n",
    "\n",
    "\n",
    "# define training and test data\n",
    "x = np.linspace(-1, 1, 100)\n",
    "y = func(x)\n",
    "x_train = np.linspace(-1, 1, 30)\n",
    "y_train = func(x_train)"
   ]
  },
  {
   "cell_type": "code",
   "execution_count": 4,
   "metadata": {},
   "outputs": [],
   "source": [
    "# We can define an qml method of choice and use additional sklearn functions\n",
    "# to validate the model\n",
    "\n",
    "# 1. Step: define QML method\n",
    "# set up feature map with trainable parameters being randomly initialized\n",
    "fmap = ChebPQC(num_qubits=4, num_features=1, num_layers=2)\n",
    "\n",
    "# sample variational parameters of feature map randomly and pass them to kernel definition\n",
    "np.random.seed(0)\n",
    "param = np.random.rand(fmap.num_parameters)\n",
    "q_kernel_fqk = FidelityKernel(\n",
    "    feature_map=fmap, executor=Executor(\"statevector_simulator\"), initial_parameters=param\n",
    ")\n",
    "\n",
    "# define QSVR instance with previously defined kernel\n",
    "qsvr_fqk = QSVR(quantum_kernel=q_kernel_fqk, C=1e-3)"
   ]
  },
  {
   "cell_type": "code",
   "execution_count": 5,
   "metadata": {},
   "outputs": [
    {
     "name": "stdout",
     "output_type": "stream",
     "text": [
      "Cross validation score: [-18.12670951  -6.44089286   0.31412181  -6.43812685 -18.12626799]\n",
      "Cross validation prediction: [ 0.09453931  0.09296693  0.09228168  0.09181882  0.09151399  0.09134121\n",
      "  0.08982308  0.09024509  0.09072591  0.09125676  0.09182972  0.09243742\n",
      " -0.0024385  -0.00151414 -0.00056691  0.00039215  0.00135188  0.00230087\n",
      " -0.09251079 -0.09187206 -0.0912602  -0.09068376 -0.09015211 -0.08967597\n",
      " -0.09126054 -0.09143937 -0.09176706 -0.09227573 -0.09304126 -0.09481676]\n"
     ]
    }
   ],
   "source": [
    "# 2. Step load and use additional sklearn routines\n",
    "from sklearn.model_selection import cross_val_score, cross_val_predict\n",
    "\n",
    "print(\"Cross validation score:\", cross_val_score(qsvr_fqk, x_train.reshape(-1, 1), y_train, cv=5))\n",
    "print(\n",
    "    \"Cross validation prediction:\",\n",
    "    cross_val_predict(qsvr_fqk, x_train.reshape(-1, 1), y_train, cv=5),\n",
    ")"
   ]
  },
  {
   "cell_type": "code",
   "execution_count": 6,
   "metadata": {},
   "outputs": [],
   "source": [
    "# we could also use sklearn routines to optimize hyperparameters\n",
    "from sklearn.model_selection import GridSearchCV\n",
    "\n",
    "param_grid = {\"C\": [1e-3, 1e-2, 1e-1, 1, 10], \"epsilon\": [0.01, 0.1, 0.5]}\n",
    "qsvr_grid = GridSearchCV(qsvr_fqk, param_grid)"
   ]
  },
  {
   "cell_type": "code",
   "execution_count": 7,
   "metadata": {},
   "outputs": [
    {
     "data": {
      "text/plain": [
       "GridSearchCV(estimator=QSVR(C=0.001, cache_size=200, epsilon=0.1, max_iter=-1,\n",
       "                            quantum_kernel=<squlearn.kernel.matrix.fidelity_kernel.FidelityKernel object at 0x000001A2FF77BDF0>,\n",
       "                            shrinking=True, tol=0.001, verbose=False),\n",
       "             param_grid={'C': [0.001, 0.01, 0.1, 1, 10],\n",
       "                         'epsilon': [0.01, 0.1, 0.5]})"
      ]
     },
     "execution_count": 7,
     "metadata": {},
     "output_type": "execute_result"
    }
   ],
   "source": [
    "qsvr_grid.fit(x_train.reshape(-1, 1), y_train)"
   ]
  },
  {
   "cell_type": "code",
   "execution_count": 8,
   "metadata": {},
   "outputs": [
    {
     "name": "stdout",
     "output_type": "stream",
     "text": [
      "Best parameters: {'C': 0.01, 'epsilon': 0.01}\n",
      "MSE with optimized hyperparameters: 0.04248217090511489\n"
     ]
    }
   ],
   "source": [
    "from sklearn.metrics import mean_squared_error as mse\n",
    "\n",
    "print(\"Best parameters:\", qsvr_grid.best_params_)\n",
    "print(\n",
    "    \"MSE with optimized hyperparameters:\", mse(y_train, qsvr_grid.predict(x_train.reshape(-1, 1)))\n",
    ")"
   ]
  },
  {
   "cell_type": "code",
   "execution_count": null,
   "metadata": {},
   "outputs": [],
   "source": []
  }
 ],
 "metadata": {
  "kernelspec": {
   "display_name": "Python 3",
   "language": "python",
   "name": "python3"
  },
  "language_info": {
   "codemirror_mode": {
    "name": "ipython",
    "version": 3
   },
   "file_extension": ".py",
   "mimetype": "text/x-python",
   "name": "python",
   "nbconvert_exporter": "python",
   "pygments_lexer": "ipython3",
   "version": "3.10.10"
  },
  "orig_nbformat": 4
 },
 "nbformat": 4,
 "nbformat_minor": 2
}
