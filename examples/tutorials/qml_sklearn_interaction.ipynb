{
 "cells": [
  {
   "attachments": {},
   "cell_type": "markdown",
   "metadata": {},
   "source": [
    "## The compatibility of sQUlearn and sklearn\n",
    "\n",
    "This notebook demonstrates the ability of sQUlearn to smoothly interact with sklearn routines. We first define a simple toy function and use the Chebychev quantum feature map to define a fidelity quantum kernel. The trainable parameters of the quantum feature map are sampled randomly. The aim in mind is to solve a regression problem using QSVR. Subsequently, we apply sklearn's cross validation score. Finally we demonstrate how to optimize the inherent hyperparameters of the SVR pipeline ($C$ and $\\epsilon$) using GridSearchCV."
   ]
  },
  {
   "cell_type": "code",
   "execution_count": 9,
   "metadata": {},
   "outputs": [],
   "source": [
    "import numpy as np\n",
    "\n",
    "from squlearn.feature_map import ChebPQC\n",
    "from squlearn.kernel.matrix import FidelityKernel\n",
    "from squlearn.kernel.ml import QSVR\n",
    "from squlearn.util import Executor"
   ]
  },
  {
   "cell_type": "code",
   "execution_count": 10,
   "metadata": {},
   "outputs": [],
   "source": [
    "# Generate data set (analogously to qgpr_workflow.ipynb example)\n",
    "def func(x):\n",
    "    return np.sin(3*x)*x*x\n",
    "\n",
    "# define some noise that can be added to training data\n",
    "noise_std = 0.1\n",
    "x = np.linspace(-1, 1, 100)\n",
    "y = func(x) \n",
    "x_train = np.linspace(-1, 1, 30)\n",
    "y_train = func(x_train) + np.random.normal(scale=noise_std, size=len(x_train))"
   ]
  },
  {
   "cell_type": "code",
   "execution_count": 11,
   "metadata": {},
   "outputs": [],
   "source": [
    "# We can define an qml method of choice and use additional sklearn functions\n",
    "# to validate the model\n",
    "\n",
    "# 1. Step: define QML method\n",
    "# set up feature map with trainable parameters being randomly initialized\n",
    "fmap = ChebPQC(\n",
    "    num_qubits=4, num_features=1, num_layers=2\n",
    ")\n",
    "q_kernel_fqk = FidelityKernel(feature_map=fmap, executor=Executor('statevector_simulator'))\n",
    "np.random.seed(0)\n",
    "param = np.random.rand(fmap.num_parameters)\n",
    "q_kernel_fqk.assign_parameters(param)\n",
    "qsvr_fqk = QSVR(quantum_kernel=q_kernel_fqk, C=1e-3)"
   ]
  },
  {
   "cell_type": "code",
   "execution_count": 12,
   "metadata": {},
   "outputs": [
    {
     "name": "stdout",
     "output_type": "stream",
     "text": [
      "Cross validation score: [-9.54521665 -1.32877969 -0.58454985 -3.03531856 -7.13851468]\n",
      "Cross validation prediction: [ 0.07782236  0.07652342  0.0759526   0.07556558  0.07531007  0.07516507\n",
      "  0.04408123  0.04448225  0.04494652  0.04546522  0.0460304   0.04663462\n",
      "  0.02532761  0.02618817  0.02706792  0.027957    0.02884549  0.02972326\n",
      " -0.07687756 -0.07623228 -0.07561744 -0.0750417  -0.07451457 -0.07404682\n",
      " -0.08683296 -0.0870371  -0.08738593 -0.08790925 -0.08867848 -0.09041596]\n"
     ]
    }
   ],
   "source": [
    "# 2. Step load and use additional sklearn routines\n",
    "from sklearn.model_selection import cross_val_score, cross_val_predict\n",
    "\n",
    "print(\"Cross validation score:\", cross_val_score(qsvr_fqk, x_train.reshape(-1, 1), y_train, cv=5))\n",
    "print(\"Cross validation prediction:\", cross_val_predict(qsvr_fqk, x_train.reshape(-1, 1), y_train, cv=5))"
   ]
  },
  {
   "cell_type": "code",
   "execution_count": 13,
   "metadata": {},
   "outputs": [],
   "source": [
    "# we could also use sklearn routines to optimize hyperparameters\n",
    "from sklearn.model_selection import GridSearchCV\n",
    "param_grid = {'C': [1e-3, 1e-2, 1e-1, 1, 10], 'epsilon': [0.01, 0.1, 0.5]}\n",
    "qsvr_grid = GridSearchCV(qsvr_fqk, param_grid)"
   ]
  },
  {
   "cell_type": "code",
   "execution_count": 14,
   "metadata": {},
   "outputs": [
    {
     "data": {
      "text/plain": [
       "GridSearchCV(estimator=QSVR(C=0.001, cache_size=200, epsilon=0.1, max_iter=-1,\n",
       "                            quantum_kernel=<squlearn.kernel.matrix.fidelity_kernel.FidelityKernel object at 0x000001EA43790490>,\n",
       "                            shrinking=True, tol=0.001, verbose=False),\n",
       "             param_grid={'C': [0.001, 0.01, 0.1, 1, 10],\n",
       "                         'epsilon': [0.01, 0.1, 0.5]})"
      ]
     },
     "execution_count": 14,
     "metadata": {},
     "output_type": "execute_result"
    }
   ],
   "source": [
    "qsvr_grid.fit(x_train.reshape(-1, 1), y_train)"
   ]
  },
  {
   "cell_type": "code",
   "execution_count": 15,
   "metadata": {},
   "outputs": [
    {
     "name": "stdout",
     "output_type": "stream",
     "text": [
      "Best parameters: {'C': 1, 'epsilon': 0.01}\n",
      "MSE with optimized hyperparameters: 0.016102807832371526\n"
     ]
    }
   ],
   "source": [
    "from sklearn.metrics import mean_squared_error as mse\n",
    "print(\"Best parameters:\", qsvr_grid.best_params_)\n",
    "print(\"MSE with optimized hyperparameters:\", mse(y_train, qsvr_grid.predict(x_train.reshape(-1, 1))))"
   ]
  },
  {
   "cell_type": "code",
   "execution_count": null,
   "metadata": {},
   "outputs": [],
   "source": []
  }
 ],
 "metadata": {
  "kernelspec": {
   "display_name": "Python 3",
   "language": "python",
   "name": "python3"
  },
  "language_info": {
   "codemirror_mode": {
    "name": "ipython",
    "version": 3
   },
   "file_extension": ".py",
   "mimetype": "text/x-python",
   "name": "python",
   "nbconvert_exporter": "python",
   "pygments_lexer": "ipython3",
   "version": "3.10.10"
  },
  "orig_nbformat": 4
 },
 "nbformat": 4,
 "nbformat_minor": 2
}
