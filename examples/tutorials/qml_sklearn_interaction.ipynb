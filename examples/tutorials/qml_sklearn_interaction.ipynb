{
 "cells": [
  {
   "attachments": {},
   "cell_type": "markdown",
   "metadata": {},
   "source": [
    "## The compatibility of sQUlearn and scikit-learn\n",
    "\n",
    "This notebook demonstrates the ability of sQUlearn to smoothly interact with scikit-learn routines. We first define a simple toy function and use the Chebychev quantum feature map to define a fidelity quantum kernel. The trainable parameters of the quantum feature map are sampled randomly. The aim in mind is to solve a regression problem using QSVR. Subsequently, we apply scikit-learn's cross validation score. Finally we demonstrate how to optimize the inherent hyperparameters of the SVR pipeline ($C$ and $\\epsilon$) using GridSearchCV."
   ]
  },
  {
   "cell_type": "code",
   "execution_count": 23,
   "metadata": {},
   "outputs": [],
   "source": [
    "import numpy as np\n",
    "\n",
    "from squlearn import Executor\n",
    "from squlearn.feature_map import ChebPQC, QEKFeatureMap\n",
    "from squlearn.kernel.matrix import FidelityKernel, ProjectedQuantumKernel\n",
    "from squlearn.kernel.ml import QSVR"
   ]
  },
  {
   "cell_type": "code",
   "execution_count": 24,
   "metadata": {},
   "outputs": [],
   "source": [
    "# Generate data set (analogously to qgpr_workflow.ipynb example)\n",
    "def func(x):\n",
    "    return np.sin(3 * x) * x * x\n",
    "\n",
    "\n",
    "# define training and test data\n",
    "x = np.linspace(-1, 1, 100)\n",
    "y = func(x)\n",
    "x_train = np.linspace(-1, 1, 30)\n",
    "y_train = func(x_train)"
   ]
  },
  {
   "cell_type": "code",
   "execution_count": 27,
   "metadata": {},
   "outputs": [],
   "source": [
    "# We can define an qml method of choice and use additional scikit-learnfunctions\n",
    "# to validate the model\n",
    "\n",
    "# 1. Step: define QML method\n",
    "# set up feature map with trainable parameters being randomly initialized\n",
    "# fmap = ChebPQC(num_qubits=4, num_features=1, num_layers=2, seed=42)\n",
    "feature_map = QEKFeatureMap(num_qubits=4, num_features=1, num_layers=2)\n",
    "# sample variational parameters of feature map randomly and pass them to kernel definition\n",
    "\n",
    "executor = Executor('statevector_simulator')\n",
    "\n",
    "fidelity_kernel = FidelityKernel(feature_map=feature_map, executor=executor, parameter_seed=0)\n",
    "projected_kernel = ProjectedQuantumKernel(feature_map=feature_map, executor=executor, parameter_seed=0)"
   ]
  },
  {
   "cell_type": "code",
   "execution_count": 28,
   "metadata": {},
   "outputs": [
    {
     "name": "stdout",
     "output_type": "stream",
     "text": [
      "Cross validation score: [-18.56767443  -6.70785946   0.1486337   -6.68597084 -18.54866531]\n",
      "Cross validation prediction: [ 9.64310993e-02  9.66014555e-02  9.72791580e-02  9.83079929e-02\n",
      "  9.83511389e-02  9.71336504e-02  9.65991449e-02  9.64125903e-02\n",
      "  9.61227076e-02  9.58176774e-02  9.55499205e-02  9.53525872e-02\n",
      " -6.63094214e-04 -7.65192760e-05  3.94521643e-04  7.95263963e-04\n",
      "  1.16428252e-03  1.51700112e-03 -9.54292061e-02 -9.55475716e-02\n",
      " -9.56872863e-02 -9.58080859e-02 -9.58374549e-02 -9.56842224e-02\n",
      " -9.63483966e-02 -9.77248147e-02 -9.83438244e-02 -9.78596876e-02\n",
      " -9.70421250e-02 -9.48753480e-02]\n"
     ]
    }
   ],
   "source": [
    "# we could also use scikit-learnroutines to optimize hyperparameters\n",
    "from sklearn.model_selection import GridSearchCV\n",
    "\n",
    "parameters = [\n",
    "    {'quantum_kernel': [fidelity_kernel], 'num_qubits': [1, 2, 4], 'num_layers': [1, 2], 'some_classical_parameter': []},\n",
    "    {'quantum_kernel': [projected_kernel], 'num_qubits': [1, 2, 4], 'num_layers': [1, 2], 'some_classical_parameter': []}\n",
    "]\n",
    "\n",
    "qsvc = QSVC()\n",
    "grid_search = GridSearchCV(qsvc, parameters)"
   ]
  },
  {
   "cell_type": "code",
   "execution_count": 9,
   "metadata": {},
   "outputs": [
    {
     "ename": "AttributeError",
     "evalue": "'GridSearchCV' object has no attribute 'best_score_'",
     "output_type": "error",
     "traceback": [
      "\u001b[1;31m---------------------------------------------------------------------------\u001b[0m",
      "\u001b[1;31mAttributeError\u001b[0m                            Traceback (most recent call last)",
      "\u001b[1;32mc:\\Users\\mcr\\PycharmProjects\\squlearn\\examples\\tutorials\\qml_sklearn_interaction.ipynb Cell 6\u001b[0m in \u001b[0;36m<cell line: 6>\u001b[1;34m()\u001b[0m\n\u001b[0;32m      <a href='vscode-notebook-cell:/c%3A/Users/mcr/PycharmProjects/squlearn/examples/tutorials/qml_sklearn_interaction.ipynb#W5sZmlsZQ%3D%3D?line=3'>4</a>\u001b[0m param_grid \u001b[39m=\u001b[39m {\u001b[39m\"\u001b[39m\u001b[39mC\u001b[39m\u001b[39m\"\u001b[39m: [\u001b[39m1e-3\u001b[39m, \u001b[39m1e-2\u001b[39m, \u001b[39m1e-1\u001b[39m, \u001b[39m1\u001b[39m, \u001b[39m10\u001b[39m], \u001b[39m\"\u001b[39m\u001b[39mepsilon\u001b[39m\u001b[39m\"\u001b[39m: [\u001b[39m0.01\u001b[39m, \u001b[39m0.1\u001b[39m, \u001b[39m0.5\u001b[39m]}\n\u001b[0;32m      <a href='vscode-notebook-cell:/c%3A/Users/mcr/PycharmProjects/squlearn/examples/tutorials/qml_sklearn_interaction.ipynb#W5sZmlsZQ%3D%3D?line=4'>5</a>\u001b[0m qsvr_grid \u001b[39m=\u001b[39m GridSearchCV(qsvr_fqk, param_grid)\n\u001b[1;32m----> <a href='vscode-notebook-cell:/c%3A/Users/mcr/PycharmProjects/squlearn/examples/tutorials/qml_sklearn_interaction.ipynb#W5sZmlsZQ%3D%3D?line=5'>6</a>\u001b[0m \u001b[39mprint\u001b[39m(qsvr_grid\u001b[39m.\u001b[39;49mbest_score_)\n",
      "\u001b[1;31mAttributeError\u001b[0m: 'GridSearchCV' object has no attribute 'best_score_'"
     ]
    }
   ],
   "source": [
    "\n",
    "# 2. Step load and use additional scikit-learn routines\n",
    "from sklearn.model_selection import cross_val_score, cross_val_predict\n",
    "                                                 \n",
    "print(\"Cross validation score:\", cross_val_score(QSVR, x_train.reshape(-1, 1), y_train, cv=5))\n",
    "print(\n",
    "    \"Cross validation prediction:\",\n",
    "    cross_val_predict(qsvr_fqk, x_train.reshape(-1, 1), y_train, cv=5))"
   ]
  },
  {
   "cell_type": "code",
   "execution_count": 6,
   "metadata": {},
   "outputs": [
    {
     "name": "stderr",
     "output_type": "stream",
     "text": [
      "c:\\Users\\mcr\\Anaconda3\\lib\\site-packages\\sklearn\\model_selection\\_validation.py:372: FitFailedWarning: \n",
      "75 fits failed out of a total of 75.\n",
      "The score on these train-test partitions for these parameters will be set to nan.\n",
      "If these failures are not expected, you can try to debug them by setting error_score='raise'.\n",
      "\n",
      "Below are more details about the failures:\n",
      "--------------------------------------------------------------------------------\n",
      "75 fits failed with the following error:\n",
      "Traceback (most recent call last):\n",
      "  File \"c:\\Users\\mcr\\Anaconda3\\lib\\site-packages\\sklearn\\model_selection\\_validation.py\", line 680, in _fit_and_score\n",
      "    estimator.fit(X_train, y_train, **fit_params)\n",
      "AttributeError: 'NoneType' object has no attribute 'fit'\n",
      "\n",
      "  warnings.warn(some_fits_failed_message, FitFailedWarning)\n",
      "c:\\Users\\mcr\\Anaconda3\\lib\\site-packages\\sklearn\\model_selection\\_search.py:969: UserWarning: One or more of the test scores are non-finite: [nan nan nan nan nan nan nan nan nan nan nan nan nan nan nan]\n",
      "  warnings.warn(\n"
     ]
    },
    {
     "ename": "TypeError",
     "evalue": "Cannot clone object 'None' (type <class 'NoneType'>): it does not seem to be a scikit-learn estimator as it does not implement a 'get_params' method.",
     "output_type": "error",
     "traceback": [
      "\u001b[1;31m---------------------------------------------------------------------------\u001b[0m",
      "\u001b[1;31mTypeError\u001b[0m                                 Traceback (most recent call last)",
      "\u001b[1;32mc:\\Users\\mcr\\PycharmProjects\\squlearn\\examples\\tutorials\\qml_sklearn_interaction.ipynb Cell 7\u001b[0m in \u001b[0;36m<cell line: 1>\u001b[1;34m()\u001b[0m\n\u001b[1;32m----> <a href='vscode-notebook-cell:/c%3A/Users/mcr/PycharmProjects/squlearn/examples/tutorials/qml_sklearn_interaction.ipynb#W6sZmlsZQ%3D%3D?line=0'>1</a>\u001b[0m qsvr_grid\u001b[39m.\u001b[39;49mfit(x_train\u001b[39m.\u001b[39;49mreshape(\u001b[39m-\u001b[39;49m\u001b[39m1\u001b[39;49m, \u001b[39m1\u001b[39;49m), y_train)\n",
      "File \u001b[1;32mc:\\Users\\mcr\\Anaconda3\\lib\\site-packages\\sklearn\\model_selection\\_search.py:921\u001b[0m, in \u001b[0;36mBaseSearchCV.fit\u001b[1;34m(self, X, y, groups, **fit_params)\u001b[0m\n\u001b[0;32m    916\u001b[0m     \u001b[39mself\u001b[39m\u001b[39m.\u001b[39mbest_params_ \u001b[39m=\u001b[39m results[\u001b[39m\"\u001b[39m\u001b[39mparams\u001b[39m\u001b[39m\"\u001b[39m][\u001b[39mself\u001b[39m\u001b[39m.\u001b[39mbest_index_]\n\u001b[0;32m    918\u001b[0m \u001b[39mif\u001b[39;00m \u001b[39mself\u001b[39m\u001b[39m.\u001b[39mrefit:\n\u001b[0;32m    919\u001b[0m     \u001b[39m# we clone again after setting params in case some\u001b[39;00m\n\u001b[0;32m    920\u001b[0m     \u001b[39m# of the params are estimators as well.\u001b[39;00m\n\u001b[1;32m--> 921\u001b[0m     \u001b[39mself\u001b[39m\u001b[39m.\u001b[39mbest_estimator_ \u001b[39m=\u001b[39m clone(\n\u001b[0;32m    922\u001b[0m         clone(base_estimator)\u001b[39m.\u001b[39;49mset_params(\u001b[39m*\u001b[39;49m\u001b[39m*\u001b[39;49m\u001b[39mself\u001b[39;49m\u001b[39m.\u001b[39;49mbest_params_)\n\u001b[0;32m    923\u001b[0m     )\n\u001b[0;32m    924\u001b[0m     refit_start_time \u001b[39m=\u001b[39m time\u001b[39m.\u001b[39mtime()\n\u001b[0;32m    925\u001b[0m     \u001b[39mif\u001b[39;00m y \u001b[39mis\u001b[39;00m \u001b[39mnot\u001b[39;00m \u001b[39mNone\u001b[39;00m:\n",
      "File \u001b[1;32mc:\\Users\\mcr\\Anaconda3\\lib\\site-packages\\sklearn\\base.py:76\u001b[0m, in \u001b[0;36mclone\u001b[1;34m(estimator, safe)\u001b[0m\n\u001b[0;32m     70\u001b[0m             \u001b[39mraise\u001b[39;00m \u001b[39mTypeError\u001b[39;00m(\n\u001b[0;32m     71\u001b[0m                 \u001b[39m\"\u001b[39m\u001b[39mCannot clone object. \u001b[39m\u001b[39m\"\u001b[39m\n\u001b[0;32m     72\u001b[0m                 \u001b[39m+\u001b[39m \u001b[39m\"\u001b[39m\u001b[39mYou should provide an instance of \u001b[39m\u001b[39m\"\u001b[39m\n\u001b[0;32m     73\u001b[0m                 \u001b[39m+\u001b[39m \u001b[39m\"\u001b[39m\u001b[39mscikit-learn estimator instead of a class.\u001b[39m\u001b[39m\"\u001b[39m\n\u001b[0;32m     74\u001b[0m             )\n\u001b[0;32m     75\u001b[0m         \u001b[39melse\u001b[39;00m:\n\u001b[1;32m---> 76\u001b[0m             \u001b[39mraise\u001b[39;00m \u001b[39mTypeError\u001b[39;00m(\n\u001b[0;32m     77\u001b[0m                 \u001b[39m\"\u001b[39m\u001b[39mCannot clone object \u001b[39m\u001b[39m'\u001b[39m\u001b[39m%s\u001b[39;00m\u001b[39m'\u001b[39m\u001b[39m (type \u001b[39m\u001b[39m%s\u001b[39;00m\u001b[39m): \u001b[39m\u001b[39m\"\u001b[39m\n\u001b[0;32m     78\u001b[0m                 \u001b[39m\"\u001b[39m\u001b[39mit does not seem to be a scikit-learn \u001b[39m\u001b[39m\"\u001b[39m\n\u001b[0;32m     79\u001b[0m                 \u001b[39m\"\u001b[39m\u001b[39mestimator as it does not implement a \u001b[39m\u001b[39m\"\u001b[39m\n\u001b[0;32m     80\u001b[0m                 \u001b[39m\"\u001b[39m\u001b[39m'\u001b[39m\u001b[39mget_params\u001b[39m\u001b[39m'\u001b[39m\u001b[39m method.\u001b[39m\u001b[39m\"\u001b[39m \u001b[39m%\u001b[39m (\u001b[39mrepr\u001b[39m(estimator), \u001b[39mtype\u001b[39m(estimator))\n\u001b[0;32m     81\u001b[0m             )\n\u001b[0;32m     83\u001b[0m klass \u001b[39m=\u001b[39m estimator\u001b[39m.\u001b[39m\u001b[39m__class__\u001b[39m\n\u001b[0;32m     84\u001b[0m new_object_params \u001b[39m=\u001b[39m estimator\u001b[39m.\u001b[39mget_params(deep\u001b[39m=\u001b[39m\u001b[39mFalse\u001b[39;00m)\n",
      "\u001b[1;31mTypeError\u001b[0m: Cannot clone object 'None' (type <class 'NoneType'>): it does not seem to be a scikit-learn estimator as it does not implement a 'get_params' method."
     ]
    }
   ],
   "source": [
    "qsvr_grid.fit(x_train.reshape(-1, 1), y_train)"
   ]
  },
  {
   "cell_type": "code",
   "execution_count": 7,
   "metadata": {},
   "outputs": [
    {
     "name": "stdout",
     "output_type": "stream",
     "text": [
      "Best parameters: {'C': 0.001, 'epsilon': 0.01}\n"
     ]
    },
    {
     "ename": "AttributeError",
     "evalue": "'GridSearchCV' object has no attribute 'best_estimator_'",
     "output_type": "error",
     "traceback": [
      "\u001b[1;31m---------------------------------------------------------------------------\u001b[0m",
      "\u001b[1;31mAttributeError\u001b[0m                            Traceback (most recent call last)",
      "\u001b[1;32mc:\\Users\\mcr\\PycharmProjects\\squlearn\\examples\\tutorials\\qml_sklearn_interaction.ipynb Cell 8\u001b[0m in \u001b[0;36m<cell line: 4>\u001b[1;34m()\u001b[0m\n\u001b[0;32m      <a href='vscode-notebook-cell:/c%3A/Users/mcr/PycharmProjects/squlearn/examples/tutorials/qml_sklearn_interaction.ipynb#X10sZmlsZQ%3D%3D?line=0'>1</a>\u001b[0m \u001b[39mfrom\u001b[39;00m \u001b[39msklearn\u001b[39;00m\u001b[39m.\u001b[39;00m\u001b[39mmetrics\u001b[39;00m \u001b[39mimport\u001b[39;00m mean_squared_error \u001b[39mas\u001b[39;00m mse\n\u001b[0;32m      <a href='vscode-notebook-cell:/c%3A/Users/mcr/PycharmProjects/squlearn/examples/tutorials/qml_sklearn_interaction.ipynb#X10sZmlsZQ%3D%3D?line=2'>3</a>\u001b[0m \u001b[39mprint\u001b[39m(\u001b[39m\"\u001b[39m\u001b[39mBest parameters:\u001b[39m\u001b[39m\"\u001b[39m, qsvr_grid\u001b[39m.\u001b[39mbest_params_)\n\u001b[0;32m      <a href='vscode-notebook-cell:/c%3A/Users/mcr/PycharmProjects/squlearn/examples/tutorials/qml_sklearn_interaction.ipynb#X10sZmlsZQ%3D%3D?line=3'>4</a>\u001b[0m \u001b[39mprint\u001b[39m(\n\u001b[1;32m----> <a href='vscode-notebook-cell:/c%3A/Users/mcr/PycharmProjects/squlearn/examples/tutorials/qml_sklearn_interaction.ipynb#X10sZmlsZQ%3D%3D?line=4'>5</a>\u001b[0m     \u001b[39m\"\u001b[39m\u001b[39mMSE with optimized hyperparameters:\u001b[39m\u001b[39m\"\u001b[39m, mse(y_train, qsvr_grid\u001b[39m.\u001b[39;49mpredict(x_train\u001b[39m.\u001b[39;49mreshape(\u001b[39m-\u001b[39;49m\u001b[39m1\u001b[39;49m, \u001b[39m1\u001b[39;49m)))\n\u001b[0;32m      <a href='vscode-notebook-cell:/c%3A/Users/mcr/PycharmProjects/squlearn/examples/tutorials/qml_sklearn_interaction.ipynb#X10sZmlsZQ%3D%3D?line=5'>6</a>\u001b[0m )\n",
      "File \u001b[1;32mc:\\Users\\mcr\\Anaconda3\\lib\\site-packages\\sklearn\\utils\\metaestimators.py:113\u001b[0m, in \u001b[0;36m_AvailableIfDescriptor.__get__.<locals>.<lambda>\u001b[1;34m(*args, **kwargs)\u001b[0m\n\u001b[0;32m    110\u001b[0m         \u001b[39mraise\u001b[39;00m attr_err\n\u001b[0;32m    112\u001b[0m     \u001b[39m# lambda, but not partial, allows help() to work with update_wrapper\u001b[39;00m\n\u001b[1;32m--> 113\u001b[0m     out \u001b[39m=\u001b[39m \u001b[39mlambda\u001b[39;00m \u001b[39m*\u001b[39margs, \u001b[39m*\u001b[39m\u001b[39m*\u001b[39mkwargs: \u001b[39mself\u001b[39m\u001b[39m.\u001b[39mfn(obj, \u001b[39m*\u001b[39margs, \u001b[39m*\u001b[39m\u001b[39m*\u001b[39mkwargs)  \u001b[39m# noqa\u001b[39;00m\n\u001b[0;32m    114\u001b[0m \u001b[39melse\u001b[39;00m:\n\u001b[0;32m    116\u001b[0m     \u001b[39mdef\u001b[39;00m \u001b[39mfn\u001b[39m(\u001b[39m*\u001b[39margs, \u001b[39m*\u001b[39m\u001b[39m*\u001b[39mkwargs):\n",
      "File \u001b[1;32mc:\\Users\\mcr\\Anaconda3\\lib\\site-packages\\sklearn\\model_selection\\_search.py:521\u001b[0m, in \u001b[0;36mBaseSearchCV.predict\u001b[1;34m(self, X)\u001b[0m\n\u001b[0;32m    503\u001b[0m \u001b[39m\u001b[39m\u001b[39m\"\"\"Call predict on the estimator with the best found parameters.\u001b[39;00m\n\u001b[0;32m    504\u001b[0m \n\u001b[0;32m    505\u001b[0m \u001b[39mOnly available if ``refit=True`` and the underlying estimator supports\u001b[39;00m\n\u001b[1;32m   (...)\u001b[0m\n\u001b[0;32m    518\u001b[0m \u001b[39m    the best found parameters.\u001b[39;00m\n\u001b[0;32m    519\u001b[0m \u001b[39m\"\"\"\u001b[39;00m\n\u001b[0;32m    520\u001b[0m check_is_fitted(\u001b[39mself\u001b[39m)\n\u001b[1;32m--> 521\u001b[0m \u001b[39mreturn\u001b[39;00m \u001b[39mself\u001b[39;49m\u001b[39m.\u001b[39;49mbest_estimator_\u001b[39m.\u001b[39mpredict(X)\n",
      "\u001b[1;31mAttributeError\u001b[0m: 'GridSearchCV' object has no attribute 'best_estimator_'"
     ]
    }
   ],
   "source": [
    "from sklearn.metrics import mean_squared_error as mse\n",
    "\n",
    "print(\"Best parameters:\", qsvr_grid.best_params_)\n",
    "print(\n",
    "    \"MSE with optimized hyperparameters:\", mse(y_train, qsvr_grid.predict(x_train.reshape(-1, 1)))\n",
    ")"
   ]
  },
  {
   "cell_type": "code",
   "execution_count": 29,
   "metadata": {},
   "outputs": [],
   "source": [
    "from sklearn.svm import SVC\n",
    "from sklearn.model_selection import GridSearchCV\n",
    "\n",
    "svc = SVC()\n",
    "grid_search = GridSearchCV(svc, parameters)"
   ]
  },
  {
   "cell_type": "code",
   "execution_count": 35,
   "metadata": {},
   "outputs": [
    {
     "ename": "AttributeError",
     "evalue": "'NoneType' object has no attribute 'get_params'",
     "output_type": "error",
     "traceback": [
      "\u001b[1;31m---------------------------------------------------------------------------\u001b[0m",
      "\u001b[1;31mAttributeError\u001b[0m                            Traceback (most recent call last)",
      "\u001b[1;32mc:\\Users\\mcr\\PycharmProjects\\squlearn\\examples\\tutorials\\qml_sklearn_interaction.ipynb Cell 10\u001b[0m in \u001b[0;36m<cell line: 3>\u001b[1;34m()\u001b[0m\n\u001b[0;32m      <a href='vscode-notebook-cell:/c%3A/Users/mcr/PycharmProjects/squlearn/examples/tutorials/qml_sklearn_interaction.ipynb#X13sZmlsZQ%3D%3D?line=0'>1</a>\u001b[0m \u001b[39mfrom\u001b[39;00m \u001b[39msqulearn\u001b[39;00m\u001b[39m.\u001b[39;00m\u001b[39mkernel\u001b[39;00m \u001b[39mimport\u001b[39;00m QSVC\n\u001b[1;32m----> <a href='vscode-notebook-cell:/c%3A/Users/mcr/PycharmProjects/squlearn/examples/tutorials/qml_sklearn_interaction.ipynb#X13sZmlsZQ%3D%3D?line=2'>3</a>\u001b[0m QSVC(quantum_kernel\u001b[39m=\u001b[39;49m\u001b[39mNone\u001b[39;49;00m)\n",
      "File \u001b[1;32m~\\PycharmProjects\\squlearn\\src\\squlearn\\kernel\\ml\\qsvc.py:75\u001b[0m, in \u001b[0;36mQSVC.__init__\u001b[1;34m(self, quantum_kernel, **kwargs)\u001b[0m\n\u001b[0;32m     72\u001b[0m \u001b[39mself\u001b[39m\u001b[39m.\u001b[39mquantum_kernel \u001b[39m=\u001b[39m quantum_kernel\n\u001b[0;32m     74\u001b[0m \u001b[39m# Apply kwargs to set_params of quantum kernel\u001b[39;00m\n\u001b[1;32m---> 75\u001b[0m valid_params_quantum_kernel \u001b[39m=\u001b[39m \u001b[39mself\u001b[39;49m\u001b[39m.\u001b[39;49mquantum_kernel\u001b[39m.\u001b[39;49mget_params(deep\u001b[39m=\u001b[39m\u001b[39mTrue\u001b[39;00m)\n\u001b[0;32m     76\u001b[0m set_quantum_kernel_params_dict \u001b[39m=\u001b[39m {}\n\u001b[0;32m     77\u001b[0m \u001b[39mfor\u001b[39;00m key, value \u001b[39min\u001b[39;00m kwargs\u001b[39m.\u001b[39mitems():\n",
      "\u001b[1;31mAttributeError\u001b[0m: 'NoneType' object has no attribute 'get_params'"
     ]
    }
   ],
   "source": [
    "from squlearn.kernel import QSVC\n",
    "\n",
    "QSVC(quantum_kernel=None)"
   ]
  },
  {
   "cell_type": "code",
   "execution_count": null,
   "metadata": {},
   "outputs": [],
   "source": []
  }
 ],
 "metadata": {
  "kernelspec": {
   "display_name": "Python 3",
   "language": "python",
   "name": "python3"
  },
  "language_info": {
   "codemirror_mode": {
    "name": "ipython",
    "version": 3
   },
   "file_extension": ".py",
   "mimetype": "text/x-python",
   "name": "python",
   "nbconvert_exporter": "python",
   "pygments_lexer": "ipython3",
   "version": "3.9.12"
  },
  "orig_nbformat": 4
 },
 "nbformat": 4,
 "nbformat_minor": 2
}
