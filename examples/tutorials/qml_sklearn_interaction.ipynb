{
 "cells": [
  {
   "cell_type": "code",
   "execution_count": 15,
   "metadata": {},
   "outputs": [],
   "source": [
    "import numpy as np\n",
    "import matplotlib.pyplot as plt\n",
    "from qiskit.primitives import Estimator\n",
    "\n",
    "from squlearn.feature_map import ChebPQC\n",
    "from squlearn.kernel.matrix import ProjectedQuantumKernel, FidelityKernel\n",
    "from squlearn.kernel.ml import QSVR\n",
    "from squlearn.util import Executor\n"
   ]
  },
  {
   "cell_type": "code",
   "execution_count": 16,
   "metadata": {},
   "outputs": [],
   "source": [
    "# Generate data set (analogously to qgpr_workflow.ipynb example)\n",
    "def func(x):\n",
    "    return np.sin(3*x)*x*x\n",
    "\n",
    "# define some noise that can be added to training data\n",
    "noise_std = 0.1\n",
    "x = np.linspace(-1, 1, 100)\n",
    "y = func(x) \n",
    "x_train = np.linspace(-1, 1, 30)\n",
    "y_train = func(x_train) + np.random.normal(scale=noise_std, size=len(x_train))"
   ]
  },
  {
   "cell_type": "code",
   "execution_count": 17,
   "metadata": {},
   "outputs": [],
   "source": [
    "# We can define an qml method of choice and use additional sklearn functions\n",
    "# to validate the model\n",
    "\n",
    "# 1. Step: define QML method\n",
    "# set up feature map with trainable parameters being randomly initialized\n",
    "fmap = ChebPQC(\n",
    "    num_qubits=4, num_features=1, num_layers=2\n",
    ")\n",
    "q_kernel_fqk = FidelityKernel(feature_map=fmap, executor=Executor('statevector_simulator'))\n",
    "np.random.seed(0)\n",
    "param = np.random.rand(fmap.num_parameters)\n",
    "q_kernel_fqk.assign_parameters(param)\n",
    "qsvr_fqk = QSVR(quantum_kernel=q_kernel_fqk, C=1e-3)"
   ]
  },
  {
   "cell_type": "code",
   "execution_count": 18,
   "metadata": {},
   "outputs": [
    {
     "name": "stdout",
     "output_type": "stream",
     "text": [
      "Cross validation score: [-45.33618867  -2.76908199  -0.12569225  -1.85667525  -5.68701254]\n",
      "Cross validation prediction: [ 0.06770502  0.06615496  0.06545925  0.06497734  0.06464847  0.06444862\n",
      "  0.0548306   0.05522995  0.05568914  0.05619993  0.05675486  0.05734693\n",
      " -0.02488046 -0.02408566 -0.02328057 -0.02247447 -0.0216767  -0.02089682\n",
      " -0.0567504  -0.05624452 -0.05578105 -0.05536728 -0.05501125 -0.05472222\n",
      " -0.08303216 -0.0833036  -0.08367936 -0.08417781 -0.08484747 -0.08622441]\n"
     ]
    }
   ],
   "source": [
    "# 2. Step load and use additional sklearn routines\n",
    "from sklearn.model_selection import cross_val_score, cross_val_predict\n",
    "\n",
    "print(\"Cross validation score:\", cross_val_score(qsvr_fqk, x_train.reshape(-1, 1), y_train, cv=5))\n",
    "print(\"Cross validation prediction:\", cross_val_predict(qsvr_fqk, x_train.reshape(-1, 1), y_train, cv=5))"
   ]
  },
  {
   "cell_type": "code",
   "execution_count": 21,
   "metadata": {},
   "outputs": [],
   "source": [
    "# we could also use sklearn routines to optimize hyperparameters\n",
    "from sklearn.model_selection import GridSearchCV\n",
    "param_grid = {'C': [1e-3, 1e-2, 1e-1, 1, 10], 'epsilon': [0.01, 0.1, 0.5]}\n",
    "qsvr_grid = GridSearchCV(qsvr_fqk, param_grid)"
   ]
  },
  {
   "cell_type": "code",
   "execution_count": 22,
   "metadata": {},
   "outputs": [
    {
     "data": {
      "text/html": [
       "<style>#sk-container-id-2 {color: black;background-color: white;}#sk-container-id-2 pre{padding: 0;}#sk-container-id-2 div.sk-toggleable {background-color: white;}#sk-container-id-2 label.sk-toggleable__label {cursor: pointer;display: block;width: 100%;margin-bottom: 0;padding: 0.3em;box-sizing: border-box;text-align: center;}#sk-container-id-2 label.sk-toggleable__label-arrow:before {content: \"▸\";float: left;margin-right: 0.25em;color: #696969;}#sk-container-id-2 label.sk-toggleable__label-arrow:hover:before {color: black;}#sk-container-id-2 div.sk-estimator:hover label.sk-toggleable__label-arrow:before {color: black;}#sk-container-id-2 div.sk-toggleable__content {max-height: 0;max-width: 0;overflow: hidden;text-align: left;background-color: #f0f8ff;}#sk-container-id-2 div.sk-toggleable__content pre {margin: 0.2em;color: black;border-radius: 0.25em;background-color: #f0f8ff;}#sk-container-id-2 input.sk-toggleable__control:checked~div.sk-toggleable__content {max-height: 200px;max-width: 100%;overflow: auto;}#sk-container-id-2 input.sk-toggleable__control:checked~label.sk-toggleable__label-arrow:before {content: \"▾\";}#sk-container-id-2 div.sk-estimator input.sk-toggleable__control:checked~label.sk-toggleable__label {background-color: #d4ebff;}#sk-container-id-2 div.sk-label input.sk-toggleable__control:checked~label.sk-toggleable__label {background-color: #d4ebff;}#sk-container-id-2 input.sk-hidden--visually {border: 0;clip: rect(1px 1px 1px 1px);clip: rect(1px, 1px, 1px, 1px);height: 1px;margin: -1px;overflow: hidden;padding: 0;position: absolute;width: 1px;}#sk-container-id-2 div.sk-estimator {font-family: monospace;background-color: #f0f8ff;border: 1px dotted black;border-radius: 0.25em;box-sizing: border-box;margin-bottom: 0.5em;}#sk-container-id-2 div.sk-estimator:hover {background-color: #d4ebff;}#sk-container-id-2 div.sk-parallel-item::after {content: \"\";width: 100%;border-bottom: 1px solid gray;flex-grow: 1;}#sk-container-id-2 div.sk-label:hover label.sk-toggleable__label {background-color: #d4ebff;}#sk-container-id-2 div.sk-serial::before {content: \"\";position: absolute;border-left: 1px solid gray;box-sizing: border-box;top: 0;bottom: 0;left: 50%;z-index: 0;}#sk-container-id-2 div.sk-serial {display: flex;flex-direction: column;align-items: center;background-color: white;padding-right: 0.2em;padding-left: 0.2em;position: relative;}#sk-container-id-2 div.sk-item {position: relative;z-index: 1;}#sk-container-id-2 div.sk-parallel {display: flex;align-items: stretch;justify-content: center;background-color: white;position: relative;}#sk-container-id-2 div.sk-item::before, #sk-container-id-2 div.sk-parallel-item::before {content: \"\";position: absolute;border-left: 1px solid gray;box-sizing: border-box;top: 0;bottom: 0;left: 50%;z-index: -1;}#sk-container-id-2 div.sk-parallel-item {display: flex;flex-direction: column;z-index: 1;position: relative;background-color: white;}#sk-container-id-2 div.sk-parallel-item:first-child::after {align-self: flex-end;width: 50%;}#sk-container-id-2 div.sk-parallel-item:last-child::after {align-self: flex-start;width: 50%;}#sk-container-id-2 div.sk-parallel-item:only-child::after {width: 0;}#sk-container-id-2 div.sk-dashed-wrapped {border: 1px dashed gray;margin: 0 0.4em 0.5em 0.4em;box-sizing: border-box;padding-bottom: 0.4em;background-color: white;}#sk-container-id-2 div.sk-label label {font-family: monospace;font-weight: bold;display: inline-block;line-height: 1.2em;}#sk-container-id-2 div.sk-label-container {text-align: center;}#sk-container-id-2 div.sk-container {/* jupyter's `normalize.less` sets `[hidden] { display: none; }` but bootstrap.min.css set `[hidden] { display: none !important; }` so we also need the `!important` here to be able to override the default hidden behavior on the sphinx rendered scikit-learn.org. See: https://github.com/scikit-learn/scikit-learn/issues/21755 */display: inline-block !important;position: relative;}#sk-container-id-2 div.sk-text-repr-fallback {display: none;}</style><div id=\"sk-container-id-2\" class=\"sk-top-container\"><div class=\"sk-text-repr-fallback\"><pre>GridSearchCV(estimator=QSVR(C=0.001, cache_size=200, epsilon=0.1, max_iter=-1,\n",
       "                            quantum_kernel=&lt;src.squlearn.kernel.matrix.fidelity_kernel.FidelityKernel object at 0x000001C39DF73790&gt;,\n",
       "                            shrinking=True, tol=0.001, verbose=False),\n",
       "             param_grid={&#x27;C&#x27;: [0.001, 0.01, 0.1, 1, 10],\n",
       "                         &#x27;epsilon&#x27;: [0.01, 0.1, 0.5]})</pre><b>In a Jupyter environment, please rerun this cell to show the HTML representation or trust the notebook. <br />On GitHub, the HTML representation is unable to render, please try loading this page with nbviewer.org.</b></div><div class=\"sk-container\" hidden><div class=\"sk-item sk-dashed-wrapped\"><div class=\"sk-label-container\"><div class=\"sk-label sk-toggleable\"><input class=\"sk-toggleable__control sk-hidden--visually\" id=\"sk-estimator-id-4\" type=\"checkbox\" ><label for=\"sk-estimator-id-4\" class=\"sk-toggleable__label sk-toggleable__label-arrow\">GridSearchCV</label><div class=\"sk-toggleable__content\"><pre>GridSearchCV(estimator=QSVR(C=0.001, cache_size=200, epsilon=0.1, max_iter=-1,\n",
       "                            quantum_kernel=&lt;src.squlearn.kernel.matrix.fidelity_kernel.FidelityKernel object at 0x000001C39DF73790&gt;,\n",
       "                            shrinking=True, tol=0.001, verbose=False),\n",
       "             param_grid={&#x27;C&#x27;: [0.001, 0.01, 0.1, 1, 10],\n",
       "                         &#x27;epsilon&#x27;: [0.01, 0.1, 0.5]})</pre></div></div></div><div class=\"sk-parallel\"><div class=\"sk-parallel-item\"><div class=\"sk-item\"><div class=\"sk-label-container\"><div class=\"sk-label sk-toggleable\"><input class=\"sk-toggleable__control sk-hidden--visually\" id=\"sk-estimator-id-5\" type=\"checkbox\" ><label for=\"sk-estimator-id-5\" class=\"sk-toggleable__label sk-toggleable__label-arrow\">estimator: QSVR</label><div class=\"sk-toggleable__content\"><pre>QSVR(C=0.001, cache_size=200, epsilon=0.1, max_iter=-1,\n",
       "     quantum_kernel=&lt;src.squlearn.kernel.matrix.fidelity_kernel.FidelityKernel object at 0x000001C39DF73790&gt;,\n",
       "     shrinking=True, tol=0.001, verbose=False)</pre></div></div></div><div class=\"sk-serial\"><div class=\"sk-item\"><div class=\"sk-estimator sk-toggleable\"><input class=\"sk-toggleable__control sk-hidden--visually\" id=\"sk-estimator-id-6\" type=\"checkbox\" ><label for=\"sk-estimator-id-6\" class=\"sk-toggleable__label sk-toggleable__label-arrow\">QSVR</label><div class=\"sk-toggleable__content\"><pre>QSVR(C=0.001, cache_size=200, epsilon=0.1, max_iter=-1,\n",
       "     quantum_kernel=&lt;src.squlearn.kernel.matrix.fidelity_kernel.FidelityKernel object at 0x000001C39DF73790&gt;,\n",
       "     shrinking=True, tol=0.001, verbose=False)</pre></div></div></div></div></div></div></div></div></div></div>"
      ],
      "text/plain": [
       "GridSearchCV(estimator=QSVR(C=0.001, cache_size=200, epsilon=0.1, max_iter=-1,\n",
       "                            quantum_kernel=<src.squlearn.kernel.matrix.fidelity_kernel.FidelityKernel object at 0x000001C39DF73790>,\n",
       "                            shrinking=True, tol=0.001, verbose=False),\n",
       "             param_grid={'C': [0.001, 0.01, 0.1, 1, 10],\n",
       "                         'epsilon': [0.01, 0.1, 0.5]})"
      ]
     },
     "execution_count": 22,
     "metadata": {},
     "output_type": "execute_result"
    }
   ],
   "source": [
    "qsvr_grid.fit(x_train.reshape(-1, 1), y_train)"
   ]
  },
  {
   "cell_type": "code",
   "execution_count": 23,
   "metadata": {},
   "outputs": [
    {
     "name": "stdout",
     "output_type": "stream",
     "text": [
      "Best parameters: {'C': 10, 'epsilon': 0.1}\n",
      "MSE with optimized hyperparameters: 0.009727059321197988\n"
     ]
    }
   ],
   "source": [
    "from sklearn.metrics import mean_squared_error as mse\n",
    "print(\"Best parameters:\", qsvr_grid.best_params_)\n",
    "print(\"MSE with optimized hyperparameters:\", mse(y_train, qsvr_grid.predict(x_train.reshape(-1, 1))))\n"
   ]
  },
  {
   "cell_type": "code",
   "execution_count": null,
   "metadata": {},
   "outputs": [],
   "source": []
  }
 ],
 "metadata": {
  "kernelspec": {
   "display_name": "Python 3",
   "language": "python",
   "name": "python3"
  },
  "language_info": {
   "codemirror_mode": {
    "name": "ipython",
    "version": 3
   },
   "file_extension": ".py",
   "mimetype": "text/x-python",
   "name": "python",
   "nbconvert_exporter": "python",
   "pygments_lexer": "ipython3",
   "version": "3.10.10"
  },
  "orig_nbformat": 4
 },
 "nbformat": 4,
 "nbformat_minor": 2
}
