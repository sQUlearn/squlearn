{
 "cells": [
  {
   "cell_type": "markdown",
   "metadata": {},
   "source": [
    "# Example: MLFlow integration\n",
    "\n",
    "In this example we show how to use sQUlearn with the open-source MLOps tool [MLFlow](https://mlflow.org/docs/latest/index.html). The purpose of this tutorial is to show how sQUlearn integrates with tools that leverage the scikit-learn interface.\n",
    "\n",
    "## Imports\n",
    "We start by importing MLFlow as well as everything necessary to define a `QNNRegressor`."
   ]
  },
  {
   "cell_type": "code",
   "execution_count": 1,
   "metadata": {},
   "outputs": [],
   "source": [
    "import numpy as np\n",
    "import mlflow\n",
    "\n",
    "from squlearn import Executor\n",
    "from squlearn.encoding_circuit import ChebyshevRx\n",
    "from squlearn.observables import IsingHamiltonian\n",
    "from squlearn.qnn import QNNRegressor, SquaredLoss\n",
    "from squlearn.optimizers import SLSQP"
   ]
  },
  {
   "attachments": {},
   "cell_type": "markdown",
   "metadata": {},
   "source": [
    "## `QNNRegressor` Setup\n",
    "\n",
    "Then we continue to set up a `QNNRegressor`. For more information refer to the [API docs](https://squlearn.github.io/modules/generated/squlearn.qnn.QNNRegressor.html)."
   ]
  },
  {
   "cell_type": "code",
   "execution_count": 2,
   "metadata": {},
   "outputs": [],
   "source": [
    "nqubits = 4\n",
    "number_of_layers = 2\n",
    "\n",
    "reg = QNNRegressor(\n",
    "    ChebyshevRx(nqubits, 1, num_layers=number_of_layers),\n",
    "    IsingHamiltonian(nqubits, I=\"S\", Z=\"S\", ZZ=\"S\"),\n",
    "    Executor(\"statevector_simulator\"),\n",
    "    SquaredLoss(),\n",
    "    SLSQP(),\n",
    ")"
   ]
  },
  {
   "cell_type": "markdown",
   "metadata": {},
   "source": [
    "## Helper Functions\n",
    "\n",
    "We also need a helper function to extract the data collected by MLflow."
   ]
  },
  {
   "cell_type": "code",
   "execution_count": 3,
   "metadata": {},
   "outputs": [],
   "source": [
    "def fetch_logged_data(run_id):\n",
    "    client = mlflow.MlflowClient()\n",
    "    data = client.get_run(run_id).data\n",
    "    artifacts = [f.path for f in client.list_artifacts(run_id, \"model\")]\n",
    "    return data.params, data.metrics, artifacts"
   ]
  },
  {
   "attachments": {},
   "cell_type": "markdown",
   "metadata": {},
   "source": [
    "## Training\n",
    "\n",
    "Now we are ready to train the model to fit the logarithm funciton. We will keep track of the following things with the help of MLFlow:\n",
    "- The `QNNRegressor`'s parameters\n",
    "- The trained model state\n",
    "- the models accuracy on the training set"
   ]
  },
  {
   "cell_type": "code",
   "execution_count": 4,
   "metadata": {},
   "outputs": [
    {
     "name": "stdout",
     "output_type": "stream",
     "text": [
      "fit:  55%|█████▌    | 55/100 [01:16<01:00,  1.35s/it]"
     ]
    }
   ],
   "source": [
    "x_space = np.arange(0.1, 0.9, 0.1)\n",
    "ref_values = np.log(x_space)\n",
    "\n",
    "with mlflow.start_run() as run:\n",
    "    mlflow.log_params(reg.get_params())\n",
    "\n",
    "    reg.fit(x_space, ref_values)\n",
    "    mlflow.sklearn.log_model(reg, \"model\")\n",
    "\n",
    "    accuracy = reg.score(x_space, ref_values)\n",
    "    mlflow.log_metric(\"accuracy\", accuracy)"
   ]
  },
  {
   "cell_type": "markdown",
   "metadata": {},
   "source": [
    "## Evaluation\n",
    "\n",
    "Let's extract the tracked data and display it, starting with the `QNNRegressor`'s parameters."
   ]
  },
  {
   "cell_type": "code",
   "execution_count": 5,
   "metadata": {},
   "outputs": [
    {
     "name": "stdout",
     "output_type": "stream",
     "text": [
      "{'batch_size': 'None', 'caching': 'True', 'callback': 'pbar', 'closed': 'False', 'encoding_circuit': '<squlearn.encoding_circuit.circuit_library.chebyshev_rx.ChebyshevRx object at 0x000001FDFED144C0>', 'epochs': 'None', 'executor': '<squlearn.util.executor.Executor object at 0x000001FDFED14670>', 'I': 'S', 'loss': '<squlearn.qnn.loss.SquaredLoss object at 0x000001FDFEB0BEB0>', 'num_features': '1', 'num_layers': '2', 'num_qubits': '4', 'operator': \"SparsePauliOp(['IIII', 'IIIZ', 'IIZI', 'IZII', 'ZIII', 'IIZZ', 'IZIZ', 'IZZI', 'ZIIZ', 'ZIZI', 'ZZII'],\\n              coeffs=[ParameterExpression(1.0*p[0]), ParameterExpression(1.0*p[1]),\\n ParameterExpression(1.0*p[1]), ParameterExpression(1.0*p[1]),\\n ParameterExpression(1.0*p[1]), ParameterExpression(1.0*p[2]),\\n ParameterExpression(1.0*p[2]), ParameterExpression(1.0*p[2]),\\n ParameterExpression(1.0*p[2]), ParameterExpression(1.0*p[2]),\\n ParameterExpression(1.0*p[2])])\", 'optimizer': '<squlearn.optimizers.optimizers_wrapper.SLSQP object at 0x000001FDFED14580>', 'opt_param_op': 'True', 'parameter_seed': '0', 'param_ini': '[ 0.01        1.34        2.67        4.         -0.47969104  0.91667975\\n -0.39215112  2.46158236  0.01        1.34        2.67        4.\\n  0.42753659  2.67410254 -2.69525994 -2.59414312]', 'param_op_ini': '[1. 1. 1.]', 'pretrained': 'False', 'shot_control': 'None', 'shuffle': 'None', 'variance': 'None', 'X': 'N', 'Z': 'S', 'ZZ': 'S'}\n"
     ]
    }
   ],
   "source": [
    "params, metrics, artifacts = fetch_logged_data(run.info.run_id)\n",
    "print(params)"
   ]
  },
  {
   "cell_type": "markdown",
   "metadata": {},
   "source": [
    "Let's also display the tracked metrics, i.e. the accuracy score."
   ]
  },
  {
   "cell_type": "code",
   "execution_count": 6,
   "metadata": {},
   "outputs": [
    {
     "name": "stdout",
     "output_type": "stream",
     "text": [
      "{'accuracy': 0.9999759983445272}\n"
     ]
    }
   ],
   "source": [
    "print(metrics)"
   ]
  },
  {
   "cell_type": "markdown",
   "metadata": {},
   "source": [
    "Finally, let's display the information about the stored model artifact."
   ]
  },
  {
   "cell_type": "code",
   "execution_count": 7,
   "metadata": {},
   "outputs": [
    {
     "name": "stdout",
     "output_type": "stream",
     "text": [
      "['model/MLmodel', 'model/conda.yaml', 'model/model.pkl', 'model/python_env.yaml', 'model/requirements.txt']\n"
     ]
    }
   ],
   "source": [
    "print(artifacts)"
   ]
  },
  {
   "cell_type": "markdown",
   "metadata": {},
   "source": [
    "The storage of the model artifact also allows us to reload the model at any given time and use it."
   ]
  },
  {
   "cell_type": "code",
   "execution_count": 8,
   "metadata": {
    "tags": [
     "skip-execution"
    ]
   },
   "outputs": [
    {
     "data": {
      "text/plain": [
       "array([-2.30217967, -1.61179566, -1.19923157, -0.92138711, -0.68878988,\n",
       "       -0.51362031, -0.35529519, -0.22364382])"
      ]
     },
     "execution_count": 8,
     "metadata": {},
     "output_type": "execute_result"
    }
   ],
   "source": [
    "reg2 = mlflow.sklearn.load_model(f\"runs:/{run.info.run_id}/model\")\n",
    "reg2.predict(x_space)"
   ]
  }
 ],
 "metadata": {
  "interpreter": {
   "hash": "26de051ba29f2982a8de78e945f0abaf191376122a1563185a90213a26c5da77"
  },
  "kernelspec": {
   "display_name": "Python 3.10.2 64-bit",
   "language": "python",
   "name": "python3"
  },
  "language_info": {
   "codemirror_mode": {
    "name": "ipython",
    "version": 3
   },
   "file_extension": ".py",
   "mimetype": "text/x-python",
   "name": "python",
   "nbconvert_exporter": "python",
   "pygments_lexer": "ipython3",
   "version": "3.9.13"
  },
  "orig_nbformat": 4
 },
 "nbformat": 4,
 "nbformat_minor": 2
}
