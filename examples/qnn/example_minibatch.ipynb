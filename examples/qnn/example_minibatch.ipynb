{
 "cells": [
  {
   "cell_type": "code",
   "execution_count": 1,
   "metadata": {},
   "outputs": [],
   "source": [
    "import numpy as np\n",
    "import matplotlib.pyplot as plt\n",
    "\n",
    "from squlearn import Executor\n",
    "from squlearn.feature_map import ChebPQC\n",
    "from squlearn.expectation_operator import SummedPaulis\n",
    "from squlearn.qnn import QNNRegressor, SquaredLoss\n",
    "from squlearn.optimizers import Adam"
   ]
  },
  {
   "cell_type": "code",
   "execution_count": 2,
   "metadata": {},
   "outputs": [],
   "source": [
    "executor = Executor(\"statevector_simulator\")"
   ]
  },
  {
   "attachments": {},
   "cell_type": "markdown",
   "metadata": {},
   "source": [
    "Define parameterized quantum circuit $Q(x,\\theta)$"
   ]
  },
  {
   "cell_type": "code",
   "execution_count": 3,
   "metadata": {},
   "outputs": [
    {
     "data": {
      "image/png": "[encoded data removed]",
      "text/plain": [
       "<Figure size 1049.8x264.88 with 1 Axes>"
      ]
     },
     "execution_count": 3,
     "metadata": {},
     "output_type": "execute_result"
    }
   ],
   "source": [
    "nqubits = 4\n",
    "number_of_layers = 3\n",
    "pqc = ChebPQC(nqubits, 1, num_layers=number_of_layers, closed=False)\n",
    "pqc.draw()"
   ]
  },
  {
   "attachments": {},
   "cell_type": "markdown",
   "metadata": {},
   "source": [
    "Definition of the cost operator:\n",
    "$\\hat{C}(\\vartheta) = \\vartheta_0 \\hat{I} + \\sum_i \\vartheta_i \\hat{Z}_i $"
   ]
  },
  {
   "cell_type": "code",
   "execution_count": 4,
   "metadata": {},
   "outputs": [
    {
     "name": "stdout",
     "output_type": "stream",
     "text": [
      "SummedOp([\n",
      "  1.0*p[0] * IIII,\n",
      "  1.0*p[1] * IIIZ,\n",
      "  1.0*p[2] * IIZI,\n",
      "  1.0*p[3] * IZII,\n",
      "  1.0*p[4] * ZIII\n",
      "])\n"
     ]
    }
   ],
   "source": [
    "cost_op = SummedPaulis(nqubits)\n",
    "print(cost_op)"
   ]
  },
  {
   "attachments": {},
   "cell_type": "markdown",
   "metadata": {},
   "source": [
    "Example function: $log(x)$"
   ]
  },
  {
   "cell_type": "code",
   "execution_count": 5,
   "metadata": {},
   "outputs": [
    {
     "name": "stdout",
     "output_type": "stream",
     "text": [
      "[3.11080964 0.95016488 3.29711413 3.86299679 3.89040446 1.81379699\n",
      " 2.43616985 3.10210606 2.56645338 2.88807292 0.1401461  1.19379788\n",
      " 0.23404997 3.42824377 1.49141611 2.71939181 1.0251198  1.39032486\n",
      " 0.03765108 1.43333513 3.79637673 0.87159604 1.27756547 3.67108954\n",
      " 0.12761467 0.26033815 2.519316   3.49525377 0.03486293] [1. 1. 1. 1. 1.]\n"
     ]
    }
   ],
   "source": [
    "x_space = np.arange(0.1, 0.9, 0.01)\n",
    "ref_values = np.log(x_space)\n",
    "\n",
    "np.random.seed(13)\n",
    "param_ini = np.random.rand(pqc.num_parameters) * 4\n",
    "param_op_ini = np.ones(cost_op.num_parameters)\n",
    "\n",
    "print(param_ini, param_op_ini)"
   ]
  },
  {
   "attachments": {},
   "cell_type": "markdown",
   "metadata": {},
   "source": [
    "Optimization of the regression"
   ]
  },
  {
   "cell_type": "code",
   "execution_count": 6,
   "metadata": {},
   "outputs": [
    {
     "name": "stdout",
     "output_type": "stream",
     "text": [
      "Epoch     1/   30:\taverage_loss = 0.85857\n",
      "Epoch     2/   30:\taverage_loss = 0.14363\n",
      "Epoch     3/   30:\taverage_loss = 0.09674\n",
      "Epoch     4/   30:\taverage_loss = 0.02930\n",
      "Epoch     5/   30:\taverage_loss = 0.01286\n",
      "Epoch     6/   30:\taverage_loss = 0.00548\n",
      "Epoch     7/   30:\taverage_loss = 0.00511\n",
      "Epoch     8/   30:\taverage_loss = 0.00322\n",
      "Epoch     9/   30:\taverage_loss = 0.00202\n",
      "Epoch    10/   30:\taverage_loss = 0.00224\n",
      "Epoch    11/   30:\taverage_loss = 0.00163\n",
      "Epoch    12/   30:\taverage_loss = 0.00218\n",
      "Epoch    13/   30:\taverage_loss = 0.00175\n",
      "Epoch    14/   30:\taverage_loss = 0.00183\n",
      "Epoch    15/   30:\taverage_loss = 0.00211\n",
      "Epoch    16/   30:\taverage_loss = 0.00259\n",
      "Epoch    17/   30:\taverage_loss = 0.00186\n",
      "Epoch    18/   30:\taverage_loss = 0.00121\n",
      "Epoch    19/   30:\taverage_loss = 0.00113\n",
      "Epoch    20/   30:\taverage_loss = 0.00082\n",
      "Epoch    21/   30:\taverage_loss = 0.00076\n",
      "Epoch    22/   30:\taverage_loss = 0.00155\n",
      "Epoch    23/   30:\taverage_loss = 0.00158\n",
      "Epoch    24/   30:\taverage_loss = 0.00130\n",
      "Epoch    25/   30:\taverage_loss = 0.00091\n",
      "Epoch    26/   30:\taverage_loss = 0.00071\n",
      "Epoch    27/   30:\taverage_loss = 0.00086\n",
      "Epoch    28/   30:\taverage_loss = 0.00077\n",
      "Epoch    29/   30:\taverage_loss = 0.00140\n",
      "Epoch    30/   30:\taverage_loss = 0.00311\n"
     ]
    }
   ],
   "source": [
    "ADAM = Adam({\"maxiter_total\": 100, \"maxiter\": 25, \"lr\": 0.1, \"log_file\": \"adam_log.csv\"})\n",
    "\n",
    "reg = QNNRegressor(\n",
    "    pqc,\n",
    "    cost_op,\n",
    "    executor,\n",
    "    SquaredLoss(),\n",
    "    ADAM,\n",
    "    param_ini,\n",
    "    param_op_ini,\n",
    "    batch_size=10,\n",
    "    epochs=30,\n",
    "    shuffle=True,\n",
    ")\n",
    "\n",
    "reg.fit(x_space, ref_values)"
   ]
  },
  {
   "cell_type": "code",
   "execution_count": 7,
   "metadata": {},
   "outputs": [
    {
     "name": "stdout",
     "output_type": "stream",
     "text": [
      "Result Param: [ 2.16990345  1.40494493  2.77301785  4.31785998  2.84500297  1.21751451\n",
      "  2.2534327   2.43567554  1.60694106  4.57528259  0.76025785  1.81149248\n",
      " -0.56395195  3.22585462  0.74279254  1.86716215  1.90971307  2.05495574\n",
      " -0.91201776  2.07947224  3.44855837  0.9084184   1.50781228  3.37649559\n",
      "  1.42949965  0.80805862  1.53321999  2.75813685  0.04616064]\n",
      "Result ParamOp: [0.01560777 0.8145353  0.70203314 1.08825895 1.61127305]\n"
     ]
    }
   ],
   "source": [
    "print(\"Result Param:\", reg.param)\n",
    "print(\"Result ParamOp:\", reg.param_op)"
   ]
  },
  {
   "cell_type": "code",
   "execution_count": 8,
   "metadata": {},
   "outputs": [
    {
     "data": {
      "text/plain": [
       "[<matplotlib.lines.Line2D at 0x2401c51bac0>]"
      ]
     },
     "execution_count": 8,
     "metadata": {},
     "output_type": "execute_result"
    },
    {
     "data": {
      "image/png": "[encoded data removed]",
      "text/plain": [
       "<Figure size 432x288 with 1 Axes>"
      ]
     },
     "metadata": {
      "needs_background": "light"
     },
     "output_type": "display_data"
    }
   ],
   "source": [
    "x = np.arange(np.min(x_space), np.max(x_space), 0.005)\n",
    "y = reg.predict(x)\n",
    "plt.plot(x, np.log(x))\n",
    "plt.plot(x, y)"
   ]
  }
 ],
 "metadata": {
  "interpreter": {
   "hash": "26de051ba29f2982a8de78e945f0abaf191376122a1563185a90213a26c5da77"
  },
  "kernelspec": {
   "display_name": "Python 3.10.2 64-bit",
   "language": "python",
   "name": "python3"
  },
  "language_info": {
   "codemirror_mode": {
    "name": "ipython",
    "version": 3
   },
   "file_extension": ".py",
   "mimetype": "text/x-python",
   "name": "python",
   "nbconvert_exporter": "python",
   "pygments_lexer": "ipython3",
   "version": "3.10.2"
  },
  "orig_nbformat": 4
 },
 "nbformat": 4,
 "nbformat_minor": 2
}
