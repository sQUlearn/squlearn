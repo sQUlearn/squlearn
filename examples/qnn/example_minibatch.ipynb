{
 "cells": [
  {
   "cell_type": "markdown",
   "metadata": {},
   "source": [
    "# Example: Regression using Mini-Batch Gradient Descent\n",
    "\n",
    "In this example, we will demonstrate how to train a `QNNRegressor` using mini-batch gradient descent with the `Adam` optimizer.\n",
    "\n",
    "## Imports"
   ]
  },
  {
   "cell_type": "code",
   "execution_count": 1,
   "metadata": {},
   "outputs": [],
   "source": [
    "import numpy as np\n",
    "import matplotlib.pyplot as plt\n",
    "\n",
    "from squlearn import Executor\n",
    "from squlearn.encoding_circuit import ChebPQC\n",
    "from squlearn.observables import SummedPaulis\n",
    "from squlearn.qnn import QNNRegressor, SquaredLoss\n",
    "from squlearn.optimizers import Adam"
   ]
  },
  {
   "cell_type": "code",
   "execution_count": 2,
   "metadata": {},
   "outputs": [],
   "source": [
    "executor = Executor(\"statevector_simulator\")"
   ]
  },
  {
   "attachments": {},
   "cell_type": "markdown",
   "metadata": {},
   "source": [
    "## `QNNRegressor` Setup\n",
    "\n",
    "We start by defining a parameterized quantum circuit (PQC)"
   ]
  },
  {
   "cell_type": "code",
   "execution_count": 3,
   "metadata": {},
   "outputs": [
    {
     "data": {
      "image/png": "[encoded data removed]",
      "text/plain": [
       "<Figure size 1049.8x264.88 with 1 Axes>"
      ]
     },
     "execution_count": 3,
     "metadata": {},
     "output_type": "execute_result"
    }
   ],
   "source": [
    "nqubits = 4\n",
    "number_of_layers = 3\n",
    "\n",
    "pqc = ChebPQC(nqubits, 1, num_layers=number_of_layers, closed=False)\n",
    "pqc.draw(\"mpl\")"
   ]
  },
  {
   "attachments": {},
   "cell_type": "markdown",
   "metadata": {},
   "source": [
    "We also need an observable"
   ]
  },
  {
   "cell_type": "code",
   "execution_count": 4,
   "metadata": {},
   "outputs": [
    {
     "name": "stdout",
     "output_type": "stream",
     "text": [
      "SparsePauliOp(['IIII', 'IIIZ', 'IIZI', 'IZII', 'ZIII'],\n",
      "              coeffs=[ParameterExpression(1.0*p[0]), ParameterExpression(1.0*p[1]),\n",
      " ParameterExpression(1.0*p[2]), ParameterExpression(1.0*p[3]),\n",
      " ParameterExpression(1.0*p[4])])\n"
     ]
    }
   ],
   "source": [
    "cost_op = SummedPaulis(nqubits)\n",
    "print(cost_op)"
   ]
  },
  {
   "attachments": {},
   "cell_type": "markdown",
   "metadata": {},
   "source": [
    "Now we can create the `QNNRegressor` with the PQC and cost operator. We also specify `SquaredLoss` and `Adam` as the loss function and optimizer respectively. Finally we specify initial parameters for both, the PQC and cost operator. For the `Adam` optimizer, we specify a maximum number of allowed iterations and a learning rate.\n",
    "\n",
    "Additionally we specify a batch size, a number of epochs and wether the data should be shuffled before each epoch."
   ]
  },
  {
   "cell_type": "code",
   "execution_count": 5,
   "metadata": {},
   "outputs": [],
   "source": [
    "np.random.seed(13)\n",
    "param_ini = np.array(\n",
    "    [\n",
    "        2.23077261,\n",
    "        1.67662129,\n",
    "        2.31907408,\n",
    "        4.19653278,\n",
    "        3.10988149,\n",
    "        2.86854733,\n",
    "        2.39268256,\n",
    "        2.13592673,\n",
    "        1.69101578,\n",
    "        3.98640469,\n",
    "        -0.03246431,\n",
    "        1.80561025,\n",
    "        -0.65537844,\n",
    "        3.29117205,\n",
    "        0.95821621,\n",
    "        2.09460059,\n",
    "        2.08966305,\n",
    "        2.75348927,\n",
    "        -1.01622063,\n",
    "        2.03353887,\n",
    "        3.80263775,\n",
    "        0.97692296,\n",
    "        1.45762312,\n",
    "        3.63602452,\n",
    "        1.49145258,\n",
    "        0.54122952,\n",
    "        1.6576827,\n",
    "        2.30712431,\n",
    "        -0.65223123,\n",
    "    ]\n",
    ")\n",
    "param_op_ini = np.array([-0.03604716, 0.18062361, 0.28757131, 0.67711737, 1.30880319])\n",
    "\n",
    "ADAM = Adam({\"maxiter\": 25, \"lr\": 0.1})\n",
    "\n",
    "reg = QNNRegressor(\n",
    "    pqc,\n",
    "    cost_op,\n",
    "    executor,\n",
    "    SquaredLoss(),\n",
    "    ADAM,\n",
    "    param_ini,\n",
    "    param_op_ini,\n",
    "    batch_size=10,\n",
    "    epochs=5,\n",
    "    shuffle=True,\n",
    ")"
   ]
  },
  {
   "attachments": {},
   "cell_type": "markdown",
   "metadata": {},
   "source": [
    "## Training\n",
    "\n",
    "Now we are ready to train the model to fit the logarithm funciton"
   ]
  },
  {
   "cell_type": "code",
   "execution_count": 6,
   "metadata": {},
   "outputs": [
    {
     "name": "stdout",
     "output_type": "stream",
     "text": [
      "Epoch     1/    5:\taverage_loss = 0.04718\n",
      "Epoch     2/    5:\taverage_loss = 0.01648\n",
      "Epoch     3/    5:\taverage_loss = 0.00791\n",
      "Epoch     4/    5:\taverage_loss = 0.00537\n",
      "Epoch     5/    5:\taverage_loss = 0.00873\n"
     ]
    }
   ],
   "source": [
    "x_space = np.arange(0.1, 0.9, 0.01)\n",
    "ref_values = np.log(x_space)\n",
    "\n",
    "reg.fit(x_space, ref_values)"
   ]
  },
  {
   "cell_type": "markdown",
   "metadata": {},
   "source": [
    "## Evaluation\n",
    "\n",
    "Let's check the trained parameters of the PQC and operator"
   ]
  },
  {
   "cell_type": "code",
   "execution_count": 7,
   "metadata": {},
   "outputs": [
    {
     "name": "stdout",
     "output_type": "stream",
     "text": [
      "Result PQC params: [ 2.20324437  1.76721418  2.39214579  4.18196081  3.36159439  2.97642715\n",
      "  1.98851869  2.18094491  1.65711237  3.90948797  0.11088235  1.83543392\n",
      " -0.29522951  3.23420785  1.09090125  2.14374589  2.07961766  2.66485517\n",
      " -1.22638926  2.15271021  3.95022224  1.05651744  1.46031996  3.79770483\n",
      "  1.71450983  0.02330191  1.214332    2.72849198 -0.54980697]\n",
      "Result operator params: [-0.13983173  0.12563874  0.42602149  0.7115221   1.23611504]\n"
     ]
    }
   ],
   "source": [
    "print(\"Result PQC params:\", reg.param)\n",
    "print(\"Result operator params:\", reg.param_op)"
   ]
  },
  {
   "cell_type": "markdown",
   "metadata": {},
   "source": []
  },
  {
   "cell_type": "markdown",
   "metadata": {},
   "source": [
    "Also let's plot the predicted function vs. the actual logarithm function"
   ]
  },
  {
   "cell_type": "code",
   "execution_count": 8,
   "metadata": {},
   "outputs": [
    {
     "data": {
      "text/plain": [
       "[<matplotlib.lines.Line2D at 0x282190505b0>]"
      ]
     },
     "execution_count": 8,
     "metadata": {},
     "output_type": "execute_result"
    },
    {
     "data": {
      "image/png": "[encoded data removed]",
      "text/plain": [
       "<Figure size 432x288 with 1 Axes>"
      ]
     },
     "metadata": {
      "needs_background": "light"
     },
     "output_type": "display_data"
    }
   ],
   "source": [
    "x = np.arange(np.min(x_space), np.max(x_space), 0.005)\n",
    "y = reg.predict(x)\n",
    "plt.plot(x, np.log(x))\n",
    "plt.plot(x, y)"
   ]
  }
 ],
 "metadata": {
  "interpreter": {
   "hash": "26de051ba29f2982a8de78e945f0abaf191376122a1563185a90213a26c5da77"
  },
  "kernelspec": {
   "display_name": "Python 3.10.2 64-bit",
   "language": "python",
   "name": "python3"
  },
  "language_info": {
   "codemirror_mode": {
    "name": "ipython",
    "version": 3
   },
   "file_extension": ".py",
   "mimetype": "text/x-python",
   "name": "python",
   "nbconvert_exporter": "python",
   "pygments_lexer": "ipython3",
   "version": "3.10.2"
  },
  "orig_nbformat": 4
 },
 "nbformat": 4,
 "nbformat_minor": 2
}
