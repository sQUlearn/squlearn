{
 "cells": [
  {
   "cell_type": "markdown",
   "metadata": {},
   "source": [
    "# Example: Regression with `QNNRegressor`\n",
    "\n",
    "In this example we show how to train the `QNNRegressor` to solve a differential equation\n",
    "\n",
    "## Imports"
   ]
  },
  {
   "cell_type": "code",
   "execution_count": 1,
   "metadata": {},
   "outputs": [],
   "source": [
    "import numpy as np\n",
    "import sympy as sp\n",
    "import matplotlib.pyplot as plt\n",
    "\n",
    "\n",
    "from squlearn import Executor\n",
    "from squlearn.encoding_circuit import (\n",
    "    KyriienkoEncodingCircuit,\n",
    ")\n",
    "from squlearn.encoding_circuit.layered_encoding_circuit import Layer\n",
    "from squlearn.observables import SummedPaulis\n",
    "from squlearn.qnn import QNNRegressor, ODELoss, get_lr_decay\n",
    "from squlearn.optimizers import Adam\n",
    "from scipy.integrate import odeint"
   ]
  },
  {
   "cell_type": "markdown",
   "metadata": {},
   "source": [
    "We will use the Pennylane quantum framework for executing the circuits."
   ]
  },
  {
   "cell_type": "code",
   "execution_count": 2,
   "metadata": {},
   "outputs": [],
   "source": [
    "executor = Executor(\"pennylane\", shots=None)"
   ]
  },
  {
   "attachments": {},
   "cell_type": "markdown",
   "metadata": {},
   "source": [
    "## `QNNRegressor` Setup\n",
    "\n",
    "We start by defining a parameterized quantum circuit (PQC), that implements $\\ket{f_{\\bm{\\theta}, \\phi}(x)} = U_{\\bm{\\theta}} U_{\\phi}(x) \\ket{0}$.\n",
    "\n",
    "  $U_{\\phi}(x)$ encodes the ODE information and $U_{\\bm{\\theta}}$ manipulates the function space."
   ]
  },
  {
   "cell_type": "code",
   "execution_count": 3,
   "metadata": {},
   "outputs": [],
   "source": [
    "nqubits = 2\n",
    "\n",
    "circuit = KyriienkoEncodingCircuit(\n",
    "    num_qubits=nqubits,\n",
    "    encoding_style=\"chebyshev_tower\",\n",
    "    variational_arrangement=\"HEA\",\n",
    "    num_features=1,\n",
    "    num_encoding_layers=1,\n",
    "    num_variational_layers=2,\n",
    ")"
   ]
  },
  {
   "cell_type": "code",
   "execution_count": 4,
   "metadata": {},
   "outputs": [
    {
     "name": "stderr",
     "output_type": "stream",
     "text": [
      "C:\\Users\\jsl-rf\\AppData\\Roaming\\Python\\Python310\\site-packages\\qiskit\\visualization\\circuit\\matplotlib.py:266: FutureWarning: The default matplotlib drawer scheme will be changed to \"iqp\" in a following release. To silence this warning, specify the current default explicitly as style=\"clifford\", or the new default as style=\"iqp\".\n",
      "  self._style, def_font_ratio = load_style(self._style)\n"
     ]
    },
    {
     "data": {
      "image/png": "[encoded data removed]",
      "text/plain": [
       "<Figure size 956.183x200.667 with 1 Axes>"
      ]
     },
     "execution_count": 4,
     "metadata": {},
     "output_type": "execute_result"
    }
   ],
   "source": [
    "circuit.draw(\"mpl\")"
   ]
  },
  {
   "attachments": {},
   "cell_type": "markdown",
   "metadata": {},
   "source": [
    "We also need an observable"
   ]
  },
  {
   "cell_type": "code",
   "execution_count": 5,
   "metadata": {},
   "outputs": [
    {
     "name": "stdout",
     "output_type": "stream",
     "text": [
      "SparsePauliOp(['II', 'IZ', 'ZI'],\n",
      "              coeffs=[ParameterExpression(1.0*p[0]), ParameterExpression(1.0*p[1]),\n",
      " ParameterExpression(1.0*p[2])])\n"
     ]
    }
   ],
   "source": [
    "observable = SummedPaulis(nqubits, include_identity=True)\n",
    "print(observable)"
   ]
  },
  {
   "cell_type": "markdown",
   "metadata": {},
   "source": [
    "\n",
    "We create the homogeneous differential equation to be solved using a sympy symbolic expression\n"
   ]
  },
  {
   "cell_type": "code",
   "execution_count": 6,
   "metadata": {},
   "outputs": [
    {
     "data": {
      "text/latex": [
       "$\\displaystyle dfdx + x + \\sin{\\left(x \\right)}$"
      ],
      "text/plain": [
       "dfdx + x + sin(x)"
      ]
     },
     "execution_count": 6,
     "metadata": {},
     "output_type": "execute_result"
    }
   ],
   "source": [
    "x, f, dfdx, dfdxdx = sp.symbols(\"x f dfdx dfdxdx\")\n",
    "eq = sp.sin(x) + dfdx + x\n",
    "initial_values = [1]\n",
    "eq"
   ]
  },
  {
   "cell_type": "markdown",
   "metadata": {},
   "source": [
    "Now we need to create an instance of `ODELoss`, the symbols involved in the ODE must be provided in the correct order: independent variable, function, and higher orders"
   ]
  },
  {
   "cell_type": "code",
   "execution_count": 7,
   "metadata": {},
   "outputs": [],
   "source": [
    "loss_ODE_sp = ODELoss(\n",
    "    eq,\n",
    "    symbols_involved_in_ODE=[x, f, dfdx],\n",
    "    initial_values=initial_values,\n",
    "    boundary_handling=\"pinned\",\n",
    ")"
   ]
  },
  {
   "attachments": {},
   "cell_type": "markdown",
   "metadata": {},
   "source": [
    "Now we can create the `QNNRegressor` with the PQC and cost operator. We also specify `loss_ODE` and `Adam` as the loss function and optimizer respectively. "
   ]
  },
  {
   "cell_type": "code",
   "execution_count": 8,
   "metadata": {},
   "outputs": [],
   "source": [
    "# Instead of using random initialization,\n",
    "param_obs = observable.generate_initial_parameters(seed=1)\n",
    "param_ini = circuit.generate_initial_parameters(seed=1)"
   ]
  },
  {
   "cell_type": "code",
   "execution_count": 9,
   "metadata": {},
   "outputs": [],
   "source": [
    "adam = Adam(options={\"maxiter\": 100, \"tol\": 0.009, \"lr\": get_lr_decay(0.05, 0.02, 125)})\n",
    "\n",
    "ode_regressor = QNNRegressor(\n",
    "    circuit,\n",
    "    observable,\n",
    "    executor,\n",
    "    loss_ODE_sp,\n",
    "    adam,\n",
    "    param_ini,\n",
    "    param_obs,\n",
    "    opt_param_op=True,\n",
    ")"
   ]
  },
  {
   "attachments": {},
   "cell_type": "markdown",
   "metadata": {},
   "source": [
    "## Training\n",
    "\n",
    "Now we are ready to train the model to solve the differential equation"
   ]
  },
  {
   "cell_type": "code",
   "execution_count": 10,
   "metadata": {},
   "outputs": [
    {
     "name": "stdout",
     "output_type": "stream",
     "text": [
      "fit: 100%|██████████| 100/100 [01:49<00:00,  1.09s/it]\n"
     ]
    }
   ],
   "source": [
    "x_space = np.linspace(0, 0.9, 10).reshape(-1, 1)\n",
    "ref_values = np.zeros(len(x_space))\n",
    "ode_regressor.fit(x_space, ref_values)"
   ]
  },
  {
   "cell_type": "markdown",
   "metadata": {},
   "source": [
    "## Evaluation\n",
    "\n",
    "Let's check the trained parameters of the PQC and operator"
   ]
  },
  {
   "cell_type": "code",
   "execution_count": 11,
   "metadata": {},
   "outputs": [
    {
     "name": "stdout",
     "output_type": "stream",
     "text": [
      "Result PQC params: [-0.37747379  2.74944456 -6.04265745 -1.56739194 -5.06772822 -3.91584745\n",
      " -3.70347988 -1.06859569 -1.29725816  1.04921811 -1.64389392  2.32753689]\n",
      "Result operator params: [0.55502918 1.0042053  0.31177043]\n"
     ]
    }
   ],
   "source": [
    "print(\"Result PQC params:\", ode_regressor.param)\n",
    "print(\"Result operator params:\", ode_regressor.param_op)"
   ]
  },
  {
   "cell_type": "markdown",
   "metadata": {},
   "source": [
    "Also let's plot the predicted function vs. the analytical solution"
   ]
  },
  {
   "cell_type": "code",
   "execution_count": 13,
   "metadata": {},
   "outputs": [
    {
     "data": {
      "text/plain": [
       "<matplotlib.legend.Legend at 0x18996a2aef0>"
      ]
     },
     "execution_count": 13,
     "metadata": {},
     "output_type": "execute_result"
    },
    {
     "data": {
      "image/png": "[encoded data removed]",
      "text/plain": [
       "<Figure size 640x480 with 1 Axes>"
      ]
     },
     "metadata": {},
     "output_type": "display_data"
    }
   ],
   "source": [
    "# Numerical solution\n",
    "y_numerical = odeint(lambda f, x: -np.sin(x) - x, initial_values, x_space.flatten())[:, 0]\n",
    "plt.scatter(x_space, y_numerical, label=\"Numerical Solution\")\n",
    "# QNN solution\n",
    "plt.scatter(x_space, ode_regressor.predict(x_space), label=\"QNN Solution\")\n",
    "\n",
    "# continuous domain\n",
    "x_span = np.linspace(0, 0.9, 100).reshape(-1, 1)\n",
    "y_numerical_cont = odeint(lambda f, x: -np.sin(x) - x, initial_values, x_span.flatten())[:, 0]\n",
    "plt.plot(x_span, y_numerical_cont)\n",
    "# QNN solution\n",
    "plt.plot(x_span, ode_regressor.predict(x_span))\n",
    "# exact solution\n",
    "plt.plot(x_span, np.cos(x_span) - 0.5 * x_span**2, label=r\"Exact Solution: $\\cos(x) - 0.5x^2$\")\n",
    "\n",
    "\n",
    "plt.ylabel(\"f(x)\")\n",
    "plt.xlabel(\"x\")\n",
    "\n",
    "plt.legend()"
   ]
  }
 ],
 "metadata": {
  "interpreter": {
   "hash": "26de051ba29f2982a8de78e945f0abaf191376122a1563185a90213a26c5da77"
  },
  "kernelspec": {
   "display_name": "Python 3.10.2 64-bit",
   "language": "python",
   "name": "python3"
  },
  "language_info": {
   "codemirror_mode": {
    "name": "ipython",
    "version": 3
   },
   "file_extension": ".py",
   "mimetype": "text/x-python",
   "name": "python",
   "nbconvert_exporter": "python",
   "pygments_lexer": "ipython3",
   "version": "3.10.11"
  },
  "orig_nbformat": 4
 },
 "nbformat": 4,
 "nbformat_minor": 2
}
