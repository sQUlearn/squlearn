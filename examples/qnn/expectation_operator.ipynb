{
 "cells": [
  {
   "attachments": {},
   "cell_type": "markdown",
   "metadata": {},
   "source": [
    "This example notebook shows the features of the different expectation operators that are available in sQUlearn.\n",
    "Also, the computation of the derivatives is shown in the notebook."
   ]
  },
  {
   "cell_type": "code",
   "execution_count": 1,
   "metadata": {},
   "outputs": [],
   "source": [
    "# Import the expectation operator classes\n",
    "from squlearn.expectation_operator import (\n",
    "    SinglePauli,\n",
    "    SummedPaulis,\n",
    "    SingleProbability,\n",
    "    SummedProbabilities,\n",
    "    IsingHamiltonian,\n",
    "    CustomExpectationOperator,\n",
    ")\n",
    "\n",
    "# Import class for derivatives of the expectation operator\n",
    "from squlearn.expectation_operator.expectation_operator_derivatives import (\n",
    "    ExpectationOperatorDerivatives,\n",
    ")\n",
    "\n",
    "# Import ParamterVector class from qiskit that is used for parameterized operators\n",
    "from qiskit.circuit import ParameterVector"
   ]
  },
  {
   "attachments": {},
   "cell_type": "markdown",
   "metadata": {},
   "source": [
    "The expectation values of Pauli Matrices of single qubits can be evaluated utilizing the ``SinglePauli`` operator class."
   ]
  },
  {
   "cell_type": "code",
   "execution_count": 2,
   "metadata": {},
   "outputs": [
    {
     "name": "stdout",
     "output_type": "stream",
     "text": [
      "Operator for measuring Z matrix of qubit 2:\n",
      " SparsePauliOp(['IZII'],\n",
      "              coeffs=[1.+0.j]) \n",
      "\n",
      "Operator for measuring X:\n",
      " SparsePauliOp(['IXII'],\n",
      "              coeffs=[1.+0.j]) \n",
      "\n",
      "Operator for measuring Y:\n",
      " SparsePauliOp(['IYII'],\n",
      "              coeffs=[1.+0.j]) \n",
      "\n",
      "Operator for measuring I:\n",
      " SparsePauliOp(['IIII'],\n",
      "              coeffs=[1.+0.j]) \n",
      "\n",
      "Operators with a trainable parameters are possible as well:\n",
      " SparsePauliOp(['IZII'],\n",
      "              coeffs=[1.+0.j]) \n",
      "\n"
     ]
    }
   ],
   "source": [
    "# Operator for evaluating the expectation value in a 4 qubit system of the Z Pauli matrix of qubit 2\n",
    "op = SinglePauli(num_qubits=4, qubit=2, op_str=\"Z\")\n",
    "print(\"Operator for measuring Z matrix of qubit 2:\\n\", op.get_pauli([]), \"\\n\")\n",
    "\n",
    "# The other Pauli matrices are possible es well:\n",
    "op = SinglePauli(num_qubits=4, qubit=2, op_str=\"X\")\n",
    "print(\"Operator for measuring X:\\n\", op.get_pauli([]), \"\\n\")\n",
    "\n",
    "op = SinglePauli(num_qubits=4, qubit=2, op_str=\"Y\")\n",
    "print(\"Operator for measuring Y:\\n\", op.get_pauli([]), \"\\n\")\n",
    "\n",
    "op = SinglePauli(num_qubits=4, qubit=2, op_str=\"I\")\n",
    "print(\"Operator for measuring I:\\n\", op.get_pauli([]), \"\\n\")\n",
    "\n",
    "op = SinglePauli(num_qubits=4, qubit=2, parameterized=True)\n",
    "print(\n",
    "    \"Operators with a trainable parameters are possible as well:\\n\",\n",
    "    op.get_pauli(ParameterVector(\"p\", op.num_parameters)),\n",
    "    \"\\n\",\n",
    ")"
   ]
  },
  {
   "attachments": {},
   "cell_type": "markdown",
   "metadata": {},
   "source": [
    "Sums of Pauli operators are also possible with the ``SummedPaulis`` class:\n",
    "\n",
    "$\\hat{H} = a \\hat{I} + \\sum\\limits_i b_i \\hat{Z}_i$\n",
    "\n",
    " Here, the identity is used for a constant offset of the expectation value.\n",
    "It is possible to either parameterize each Pauli matrix or to parameterize the full sum.\n"
   ]
  },
  {
   "cell_type": "code",
   "execution_count": 3,
   "metadata": {},
   "outputs": [
    {
     "name": "stdout",
     "output_type": "stream",
     "text": [
      "Summation over Z operators for each qubit:\n",
      " SparsePauliOp(['IIII', 'IIIZ', 'IIZI', 'IZII', 'ZIII'],\n",
      "              coeffs=[ParameterExpression(1.0*p[0]), ParameterExpression(1.0*p[1]),\n",
      " ParameterExpression(1.0*p[2]), ParameterExpression(1.0*p[3]),\n",
      " ParameterExpression(1.0*p[4])]) \n",
      "\n",
      "It is also possible to move the parameter outside the sum:\n",
      " SparsePauliOp(['IIII', 'IIIZ', 'IIZI', 'IZII', 'ZIII'],\n",
      "              coeffs=[ParameterExpression(1.0*p[0]), ParameterExpression(1.0*p[1]),\n",
      " ParameterExpression(1.0*p[1]), ParameterExpression(1.0*p[1]),\n",
      " ParameterExpression(1.0*p[1])]) \n",
      "\n",
      "A sum over selected Pauli operators are possible as well:\n",
      " SparsePauliOp(['IIII', 'IIIZ', 'IIZI', 'IZII', 'ZIII', 'IIIY', 'IIYI', 'IYII', 'YIII'],\n",
      "              coeffs=[ParameterExpression(1.0*p[0]), ParameterExpression(1.0*p[1]),\n",
      " ParameterExpression(1.0*p[2]), ParameterExpression(1.0*p[3]),\n",
      " ParameterExpression(1.0*p[4]), ParameterExpression(1.0*p[5]),\n",
      " ParameterExpression(1.0*p[6]), ParameterExpression(1.0*p[7]),\n",
      " ParameterExpression(1.0*p[8])]) \n",
      "\n"
     ]
    }
   ],
   "source": [
    "op = SummedPaulis(num_qubits=4, op_str=\"Z\")\n",
    "print(\n",
    "    \"Summation over Z operators for each qubit:\\n\",\n",
    "    op.get_pauli(ParameterVector(\"p\", op.num_parameters)),\n",
    "    \"\\n\",\n",
    ")\n",
    "\n",
    "op = SummedPaulis(num_qubits=4, op_str=\"Z\", full_sum=False)\n",
    "print(\n",
    "    \"It is also possible to move the parameter outside the sum:\\n\",\n",
    "    op.get_pauli(ParameterVector(\"p\", op.num_parameters)),\n",
    "    \"\\n\",\n",
    ")\n",
    "\n",
    "op = SummedPaulis(num_qubits=4, op_str=[\"Z\", \"Y\"])\n",
    "print(\n",
    "    \"A sum over selected Pauli operators are possible as well:\\n\",\n",
    "    op.get_pauli(ParameterVector(\"p\", op.num_parameters)),\n",
    "    \"\\n\",\n",
    ")"
   ]
  },
  {
   "attachments": {},
   "cell_type": "markdown",
   "metadata": {},
   "source": [
    "Probabilities of measuring a certain state in a certain qubit can be obtained with the class ``SingleProbability``.\n",
    "The probabilities are measured by using the following identity:\n",
    "\n",
    "$ P_0^2 = \\left\\langle \\Psi | 0 \\right\\rangle \\left\\langle 0 | \\Psi \\right\\rangle $.\n",
    "\n",
    "This is computed by the expectation values of the following operators:\n",
    "\n",
    "$ \\left| 0 \\right\\rangle \\left\\langle 0 \\right| = 0.5(\\hat{I}+\\hat{Z})$ and  $ \\left| 1 \\right\\rangle \\left\\langle 1 \\right| = 0.5(\\hat{I}-\\hat{Z})$"
   ]
  },
  {
   "cell_type": "code",
   "execution_count": 4,
   "metadata": {},
   "outputs": [
    {
     "name": "stdout",
     "output_type": "stream",
     "text": [
      "Operator |0><0|:\n",
      " SparsePauliOp(['IIII', 'IIZI'],\n",
      "              coeffs=[0.5+0.j, 0.5+0.j]) \n",
      "\n",
      "Operator |1><1|:\n",
      " SparsePauliOp(['IIII', 'IIZI'],\n",
      "              coeffs=[ 0.5+0.j, -0.5+0.j]) \n",
      "\n",
      "Parameterized Operator:\n",
      " SparsePauliOp(['IIII', 'IIZI'],\n",
      "              coeffs=[ParameterExpression(0.5*p[0]), ParameterExpression(0.5*p[0])]) \n",
      "\n"
     ]
    }
   ],
   "source": [
    "# Example: |0><0| operator\n",
    "op = SingleProbability(num_qubits=4, qubit=1)\n",
    "print(\"Operator |0><0|:\\n\", op.get_pauli([]), \"\\n\")\n",
    "\n",
    "# Example: |1><1| operator\n",
    "op = SingleProbability(num_qubits=4, qubit=1, one_state=True)\n",
    "print(\"Operator |1><1|:\\n\", op.get_pauli([]), \"\\n\")\n",
    "\n",
    "# Example: |0><0| operator with parameters\n",
    "op = SingleProbability(num_qubits=4, qubit=1, parameterized=True)\n",
    "print(\"Parameterized Operator:\\n\", op.get_pauli(ParameterVector(\"p\", op.num_parameters)), \"\\n\")"
   ]
  },
  {
   "attachments": {},
   "cell_type": "markdown",
   "metadata": {},
   "source": [
    "Furthermore, summing up the probabilities of multiple qubits is also possible with the ``SummedProbabilities`` operator.\n",
    "Additionally a parameterized offset is achieved by the identity function."
   ]
  },
  {
   "cell_type": "code",
   "execution_count": 5,
   "metadata": {},
   "outputs": [
    {
     "name": "stdout",
     "output_type": "stream",
     "text": [
      "Summed |0><0| operator:\n",
      " SparsePauliOp(['IIII', 'IIII', 'IIIZ', 'IIII', 'IIZI', 'IIII', 'IZII', 'IIII', 'ZIII'],\n",
      "              coeffs=[ParameterExpression(1.0*p[0]), ParameterExpression(0.5*p[1]),\n",
      " ParameterExpression(0.5*p[1]), ParameterExpression(0.5*p[2]),\n",
      " ParameterExpression(0.5*p[2]), ParameterExpression(0.5*p[3]),\n",
      " ParameterExpression(0.5*p[3]), ParameterExpression(0.5*p[4]),\n",
      " ParameterExpression(0.5*p[4])]) \n",
      "\n",
      "Summed |1><1| operator:\n",
      " SparsePauliOp(['IIII', 'IIII', 'IIIZ', 'IIII', 'IIZI', 'IIII', 'IZII', 'IIII', 'ZIII'],\n",
      "              coeffs=[ParameterExpression(1.0*p[0]), ParameterExpression(0.5*p[1]),\n",
      " ParameterExpression(-0.5*p[1]), ParameterExpression(0.5*p[2]),\n",
      " ParameterExpression(-0.5*p[2]), ParameterExpression(0.5*p[3]),\n",
      " ParameterExpression(-0.5*p[3]), ParameterExpression(0.5*p[4]),\n",
      " ParameterExpression(-0.5*p[4])]) \n",
      "\n",
      "Summed |0><0| operator with a single parameter:\n",
      " SparsePauliOp(['IIII', 'IIII', 'IIIZ', 'IIII', 'IIZI', 'IIII', 'IZII', 'IIII', 'ZIII'],\n",
      "              coeffs=[ParameterExpression(1.0*p[0]), ParameterExpression(0.5*p[1]),\n",
      " ParameterExpression(0.5*p[1]), ParameterExpression(0.5*p[1]),\n",
      " ParameterExpression(0.5*p[1]), ParameterExpression(0.5*p[1]),\n",
      " ParameterExpression(0.5*p[1]), ParameterExpression(0.5*p[1]),\n",
      " ParameterExpression(0.5*p[1])]) \n",
      "\n"
     ]
    }
   ],
   "source": [
    "# Summed |0><0| operator (note that the identity terms are condensed)\n",
    "op = SummedProbabilities(num_qubits=4)\n",
    "print(\"Summed |0><0| operator:\\n\", op.get_pauli(ParameterVector(\"p\", op.num_parameters)), \"\\n\")\n",
    "\n",
    "# Summed |1><1| operator (note that the identity terms are condensed)\n",
    "op = SummedProbabilities(num_qubits=4, one_state=True)\n",
    "print(\"Summed |1><1| operator:\\n\", op.get_pauli(ParameterVector(\"p\", op.num_parameters)), \"\\n\")\n",
    "\n",
    "# It is also possible to use a single parameter for the whole sum:\n",
    "op = SummedProbabilities(num_qubits=4, full_sum=False)\n",
    "print(\n",
    "    \"Summed |0><0| operator with a single parameter:\\n\",\n",
    "    op.get_pauli(ParameterVector(\"p\", op.num_parameters)),\n",
    "    \"\\n\",\n",
    ")"
   ]
  },
  {
   "attachments": {},
   "cell_type": "markdown",
   "metadata": {},
   "source": [
    "There is also the class ``IsingHamiltonian`` for constructing Ising Hamiltonian kind operators:\n",
    "\n",
    "$ \\hat{H} = a\\hat{I} + \\sum\\limits_i b_i \\hat{Z}_i + \\sum\\limits_i c_i \\hat{X}_i + \\sum\\limits_{i>j} d_{ij} \\hat{Z}_i \\hat{Z}_j $\n",
    "\n",
    "The shape of the operator can be changed by the values of the input variables Z, X, and ZZ of the class:\n",
    " - ``'N'``: is removed from the Ising Hamiltonian\n",
    " - ``'S'`` is added with the trainable parameter outside the sum\n",
    " - ``'F'`` is added with the trainable parameter inside the sum\n"
   ]
  },
  {
   "cell_type": "code",
   "execution_count": 6,
   "metadata": {},
   "outputs": [
    {
     "name": "stdout",
     "output_type": "stream",
     "text": [
      "Default Ising Hamiltonian:\n",
      " SparsePauliOp(['IIII', 'IIIZ', 'IIZI', 'IZII', 'ZIII', 'IIZZ', 'IZIZ', 'IZZI', 'ZIIZ', 'ZIZI', 'ZZII'],\n",
      "              coeffs=[ParameterExpression(1.0*p[0]), ParameterExpression(1.0*p[1]),\n",
      " ParameterExpression(1.0*p[2]), ParameterExpression(1.0*p[3]),\n",
      " ParameterExpression(1.0*p[4]), ParameterExpression(1.0*p[5]),\n",
      " ParameterExpression(1.0*p[6]), ParameterExpression(1.0*p[7]),\n",
      " ParameterExpression(1.0*p[8]), ParameterExpression(1.0*p[9]),\n",
      " ParameterExpression(1.0*p[10])]) \n",
      "\n",
      "The shape of the operator can be adjusted by setting Z, X, and ZZ:\n",
      " SparsePauliOp(['IIII', 'IIZZ', 'IZIZ', 'IZZI', 'ZIIZ', 'ZIZI', 'ZZII'],\n",
      "              coeffs=[ParameterExpression(1.0*p[0]), ParameterExpression(1.0*p[1]),\n",
      " ParameterExpression(1.0*p[1]), ParameterExpression(1.0*p[1]),\n",
      " ParameterExpression(1.0*p[1]), ParameterExpression(1.0*p[1]),\n",
      " ParameterExpression(1.0*p[1])]) \n",
      "\n"
     ]
    }
   ],
   "source": [
    "# Default Ising Hamiltonian:\n",
    "op = IsingHamiltonian(num_qubits=4)\n",
    "print(\"Default Ising Hamiltonian:\\n\", op.get_pauli(ParameterVector(\"p\", op.num_parameters)), \"\\n\")\n",
    "\n",
    "op = IsingHamiltonian(num_qubits=4, Z=\"N\", X=\" F\", ZZ=\"S\")\n",
    "print(\n",
    "    \"The shape of the operator can be adjusted by setting Z, X, and ZZ:\\n\",\n",
    "    op.get_pauli(ParameterVector(\"p\", op.num_parameters)),\n",
    "    \"\\n\",\n",
    ")"
   ]
  },
  {
   "attachments": {},
   "cell_type": "markdown",
   "metadata": {},
   "source": [
    "Additionally it is possible to create custom Pauli based operators from an inputted string"
   ]
  },
  {
   "cell_type": "code",
   "execution_count": 7,
   "metadata": {},
   "outputs": [
    {
     "name": "stdout",
     "output_type": "stream",
     "text": [
      "Custom operator:\n",
      " SparsePauliOp(['XIYZ'],\n",
      "              coeffs=[1.+0.j]) \n",
      "\n",
      "Custom operator with multiple operators:\n",
      " SparsePauliOp(['ZIZZ', 'XIXI'],\n",
      "              coeffs=[1.+0.j, 1.+0.j]) \n",
      "\n",
      "Custom operator with multiple operators:\n",
      " SparsePauliOp(['ZIZZ', 'XIXI'],\n",
      "              coeffs=[ParameterExpression(1.0*p[0]), ParameterExpression(1.0*p[1])]) \n",
      "\n"
     ]
    }
   ],
   "source": [
    "# Example for a custom operator measuring Z in qubit 0, 1, and 3\n",
    "op = CustomExpectationOperator(num_qubits=4, operator_string=\"XIYZ\")\n",
    "print(\"Custom operator:\\n\", op.get_pauli([]), \"\\n\")\n",
    "\n",
    "# Multiple operators that are summed can be combined bv a list/tuple:\n",
    "op = CustomExpectationOperator(num_qubits=4, operator_string=[\"ZIZZ\", \"XIXI\"])\n",
    "print(\"Custom operator with multiple operators:\\n\", op.get_pauli([]), \"\\n\")\n",
    "\n",
    "# It is also possible to add trainable parameters:\n",
    "op = CustomExpectationOperator(num_qubits=4, operator_string=[\"ZIZZ\", \"XIXI\"], parameterized=True)\n",
    "print(\n",
    "    \"Custom operator with multiple operators:\\n\",\n",
    "    op.get_pauli(ParameterVector(\"p\", op.num_parameters)),\n",
    "    \"\\n\",\n",
    ")"
   ]
  },
  {
   "attachments": {},
   "cell_type": "markdown",
   "metadata": {},
   "source": [
    "Finally, operators can be combined by adding or multiplying them together:"
   ]
  },
  {
   "cell_type": "code",
   "execution_count": 8,
   "metadata": {},
   "outputs": [
    {
     "name": "stdout",
     "output_type": "stream",
     "text": [
      "Example for summed operator:\n",
      " SparsePauliOp(['IIII', 'IIIZ', 'ZIZZ'],\n",
      "              coeffs=[(0.5+0j), (0.5+0j), ParameterExpression(1.0*p[0])]) \n",
      "\n",
      "Example for multiplied operator:\n",
      " SparsePauliOp(['XIYZ', 'XIYI', 'XIXZ', 'XZYZ', 'YIYZ'],\n",
      "              coeffs=[ParameterExpression(1.0*p[0]*p[2]), ParameterExpression(1.0*p[1]*p[2]),\n",
      " ParameterExpression(1.0*I*p[1]*p[2]), ParameterExpression(1.0*p[1]*p[2]),\n",
      " ParameterExpression(-1.0*I*p[1]*p[2])]) \n",
      "\n"
     ]
    }
   ],
   "source": [
    "op = SingleProbability(num_qubits=4) + CustomExpectationOperator(\n",
    "    num_qubits=4, operator_string=\"ZIZZ\", parameterized=True\n",
    ")\n",
    "print(\n",
    "    \"Example for summed operator:\\n\", op.get_pauli(ParameterVector(\"p\", op.num_parameters)), \"\\n\"\n",
    ")\n",
    "\n",
    "\n",
    "op = SummedPaulis(num_qubits=4, full_sum=False) * CustomExpectationOperator(\n",
    "    num_qubits=4, operator_string=\"XIYZ\", parameterized=True\n",
    ")\n",
    "print(\n",
    "    \"Example for multiplied operator:\\n\",\n",
    "    op.get_pauli(ParameterVector(\"p\", op.num_parameters)),\n",
    "    \"\\n\",\n",
    ")"
   ]
  },
  {
   "attachments": {},
   "cell_type": "markdown",
   "metadata": {},
   "source": [
    "The differentiation of the operator can be achieved by the class ``ExpectationOperatorDerivatives``.\n",
    "It can be also used to compute the squared form of the operator as shown below."
   ]
  },
  {
   "cell_type": "code",
   "execution_count": 11,
   "metadata": {},
   "outputs": [
    {
     "name": "stdout",
     "output_type": "stream",
     "text": [
      "Example Operator:\n",
      " SparsePauliOp(['IIII', 'IIIZ', 'IIZI', 'IZII', 'ZIII', 'IIZZ', 'IZIZ', 'IZZI', 'ZIIZ', 'ZIZI', 'ZZII'],\n",
      "              coeffs=[ParameterExpression(1.0*p[0]), ParameterExpression(1.0*p[1]),\n",
      " ParameterExpression(1.0*p[1]), ParameterExpression(1.0*p[1]),\n",
      " ParameterExpression(1.0*p[1]), ParameterExpression(1.0*p[2]),\n",
      " ParameterExpression(1.0*p[3]), ParameterExpression(1.0*p[4]),\n",
      " ParameterExpression(1.0*p[5]), ParameterExpression(1.0*p[6]),\n",
      " ParameterExpression(1.0*p[7])]) \n",
      "\n",
      "First order derivative with respect to the parameters:\n",
      " [1.0*SparsePauliOp(['IIII'],\n",
      "              coeffs=[1.+0.j]), 1.0*SparsePauliOp(['IIIZ', 'IIZI', 'IZII', 'ZIII'],\n",
      "              coeffs=[1.+0.j, 1.+0.j, 1.+0.j, 1.+0.j]), 1.0*SparsePauliOp(['IIZZ'],\n",
      "              coeffs=[1.+0.j]), 1.0*SparsePauliOp(['IZIZ'],\n",
      "              coeffs=[1.+0.j]), 1.0*SparsePauliOp(['IZZI'],\n",
      "              coeffs=[1.+0.j]), 1.0*SparsePauliOp(['ZIIZ'],\n",
      "              coeffs=[1.+0.j]), 1.0*SparsePauliOp(['ZIZI'],\n",
      "              coeffs=[1.+0.j]), 1.0*SparsePauliOp(['ZZII'],\n",
      "              coeffs=[1.+0.j])] \n",
      "\n",
      "Differentiation with respect to the parameter p[1] of the Z term:\n",
      " SparsePauliOp(['IIIZ', 'IIZI', 'IZII', 'ZIII'],\n",
      "              coeffs=[1.+0.j, 1.+0.j, 1.+0.j, 1.+0.j]) \n",
      "\n",
      "Squared operator: \n",
      " SparsePauliOp(['IIII', 'IIIZ', 'IIZI', 'IZII', 'ZIII', 'IIZZ', 'IZIZ', 'IZZI', 'ZIIZ', 'ZIZI', 'ZZII', 'IZZZ', 'ZIZZ', 'ZZIZ', 'ZZZI', 'ZZZZ'],\n",
      "              coeffs=[ParameterExpression(1.0*p_op[0]**2 + 4.0*p_op[1]**2 + 1.0*p_op[2]**2 + 1.0*p_op[3]**2 + 1.0*p_op[4]**2 + 1.0*p_op[5]**2 + 1.0*p_op[6]**2 + 1.0*p_op[7]**2),\n",
      " ParameterExpression(2.0*p_op[0]*p_op[1] + 2.0*p_op[1]*p_op[2] + 2.0*p_op[1]*p_op[3] + 2.0*p_op[1]*p_op[5]),\n",
      " ParameterExpression(2.0*p_op[0]*p_op[1] + 2.0*p_op[1]*p_op[2] + 2.0*p_op[1]*p_op[4] + 2.0*p_op[1]*p_op[6]),\n",
      " ParameterExpression(2.0*p_op[0]*p_op[1] + 2.0*p_op[1]*p_op[3] + 2.0*p_op[1]*p_op[4] + 2.0*p_op[1]*p_op[7]),\n",
      " ParameterExpression(2.0*p_op[0]*p_op[1] + 2.0*p_op[1]*p_op[5] + 2.0*p_op[1]*p_op[6] + 2.0*p_op[1]*p_op[7]),\n",
      " ParameterExpression(2.0*p_op[0]*p_op[2] + 2.0*p_op[1]**2 + 2.0*p_op[3]*p_op[4] + 2.0*p_op[5]*p_op[6]),\n",
      " ParameterExpression(2.0*p_op[0]*p_op[3] + 2.0*p_op[1]**2 + 2.0*p_op[2]*p_op[4] + 2.0*p_op[5]*p_op[7]),\n",
      " ParameterExpression(2.0*p_op[0]*p_op[4] + 2.0*p_op[1]**2 + 2.0*p_op[2]*p_op[3] + 2.0*p_op[6]*p_op[7]),\n",
      " ParameterExpression(2.0*p_op[0]*p_op[5] + 2.0*p_op[1]**2 + 2.0*p_op[2]*p_op[6] + 2.0*p_op[3]*p_op[7]),\n",
      " ParameterExpression(2.0*p_op[0]*p_op[6] + 2.0*p_op[1]**2 + 2.0*p_op[2]*p_op[5] + 2.0*p_op[4]*p_op[7]),\n",
      " ParameterExpression(2.0*p_op[0]*p_op[7] + 2.0*p_op[1]**2 + 2.0*p_op[3]*p_op[5] + 2.0*p_op[4]*p_op[6]),\n",
      " ParameterExpression(2.0*p_op[1]*p_op[2] + 2.0*p_op[1]*p_op[3] + 2.0*p_op[1]*p_op[4]),\n",
      " ParameterExpression(2.0*p_op[1]*p_op[2] + 2.0*p_op[1]*p_op[5] + 2.0*p_op[1]*p_op[6]),\n",
      " ParameterExpression(2.0*p_op[1]*p_op[3] + 2.0*p_op[1]*p_op[5] + 2.0*p_op[1]*p_op[7]),\n",
      " ParameterExpression(2.0*p_op[1]*p_op[4] + 2.0*p_op[1]*p_op[6] + 2.0*p_op[1]*p_op[7]),\n",
      " ParameterExpression(2.0*p_op[2]*p_op[7] + 2.0*p_op[3]*p_op[6] + 2.0*p_op[4]*p_op[5])])\n"
     ]
    }
   ],
   "source": [
    "op = IsingHamiltonian(num_qubits=4, Z=\"S\")\n",
    "op_derivatives = ExpectationOperatorDerivatives(op)\n",
    "print(\"Example Operator:\\n\", op.get_pauli(ParameterVector(\"p\", op.num_parameters)), \"\\n\")\n",
    "\n",
    "# Calculates the first order derivative with respect to the parameters (result is list that evaluates to the gradient)\n",
    "print(\n",
    "    \"First order derivative with respect to the parameters:\\n\",\n",
    "    op_derivatives.get_derivative(\"dop\"),\n",
    "    \"\\n\",\n",
    ")\n",
    "\n",
    "# Gets parameters that are used in the dervaitve:\n",
    "param = op_derivatives.parameter_vector\n",
    "print(\n",
    "    \"Differentiation with respect to the parameter p[1] of the Z term:\\n\",\n",
    "    op_derivatives.get_derivative((param[1],)),\n",
    "    \"\\n\",\n",
    ")\n",
    "\n",
    "# Gets the squared operator (e.g. for variance evaluation)\n",
    "print(\"Squared operator: \\n\", op_derivatives.get_operator_squared())"
   ]
  }
 ],
 "metadata": {
  "kernelspec": {
   "display_name": "Python 3",
   "language": "python",
   "name": "python3"
  },
  "language_info": {
   "codemirror_mode": {
    "name": "ipython",
    "version": 3
   },
   "file_extension": ".py",
   "mimetype": "text/x-python",
   "name": "python",
   "nbconvert_exporter": "python",
   "pygments_lexer": "ipython3",
   "version": "3.10.2"
  },
  "orig_nbformat": 4
 },
 "nbformat": 4,
 "nbformat_minor": 2
}
